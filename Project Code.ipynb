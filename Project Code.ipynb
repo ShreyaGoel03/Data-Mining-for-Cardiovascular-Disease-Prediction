{
  "nbformat": 4,
  "nbformat_minor": 0,
  "metadata": {
    "colab": {
      "name": "MidReview BDMH Project - Copy.ipynb",
      "provenance": [],
      "collapsed_sections": [
        "EKv1RNI4Shpp"
      ]
    },
    "kernelspec": {
      "display_name": "Python 3",
      "name": "python3"
    },
    "language_info": {
      "name": "python"
    }
  },
  "cells": [
    {
      "cell_type": "code",
      "metadata": {
        "id": "izO07a024s-0",
        "colab": {
          "base_uri": "https://localhost:8080/"
        },
        "outputId": "15d1e2f8-e78b-442b-dbc3-67ac8a35149f"
      },
      "source": [
        "from google.colab import drive\n",
        "drive.mount('/content/drive')"
      ],
      "execution_count": null,
      "outputs": [
        {
          "output_type": "stream",
          "text": [
            "Mounted at /content/drive\n"
          ],
          "name": "stdout"
        }
      ]
    },
    {
      "cell_type": "code",
      "metadata": {
        "id": "WOf_bo5v7Nu9"
      },
      "source": [
        "import numpy as np\n",
        "import pandas as pd\n",
        "import seaborn as sns\n",
        "import matplotlib as map\n",
        "import matplotlib.pyplot as plt\n",
        "from plotly.subplots import make_subplots\n",
        "import plotly.graph_objects as go\n",
        "from matplotlib import rcParams\n",
        "\n",
        "#To ignore warnings.\n",
        "import warnings\n",
        "warnings.filterwarnings('ignore')\n",
        "\n",
        "#Saving model\n",
        "from sklearn.externals import joblib"
      ],
      "execution_count": null,
      "outputs": []
    },
    {
      "cell_type": "code",
      "metadata": {
        "id": "9jQRGUuv70ts",
        "colab": {
          "base_uri": "https://localhost:8080/",
          "height": 227
        },
        "outputId": "1db46969-9d2b-4ad3-9255-51554fa1aadc"
      },
      "source": [
        "data = pd.read_csv('/content/cardio_train.csv', sep = ';', index_col = 'id')\n",
        "data.head()"
      ],
      "execution_count": null,
      "outputs": [
        {
          "output_type": "execute_result",
          "data": {
            "text/html": [
              "<div>\n",
              "<style scoped>\n",
              "    .dataframe tbody tr th:only-of-type {\n",
              "        vertical-align: middle;\n",
              "    }\n",
              "\n",
              "    .dataframe tbody tr th {\n",
              "        vertical-align: top;\n",
              "    }\n",
              "\n",
              "    .dataframe thead th {\n",
              "        text-align: right;\n",
              "    }\n",
              "</style>\n",
              "<table border=\"1\" class=\"dataframe\">\n",
              "  <thead>\n",
              "    <tr style=\"text-align: right;\">\n",
              "      <th></th>\n",
              "      <th>age</th>\n",
              "      <th>gender</th>\n",
              "      <th>height</th>\n",
              "      <th>weight</th>\n",
              "      <th>ap_hi</th>\n",
              "      <th>ap_lo</th>\n",
              "      <th>cholesterol</th>\n",
              "      <th>gluc</th>\n",
              "      <th>smoke</th>\n",
              "      <th>alco</th>\n",
              "      <th>active</th>\n",
              "      <th>cardio</th>\n",
              "    </tr>\n",
              "    <tr>\n",
              "      <th>id</th>\n",
              "      <th></th>\n",
              "      <th></th>\n",
              "      <th></th>\n",
              "      <th></th>\n",
              "      <th></th>\n",
              "      <th></th>\n",
              "      <th></th>\n",
              "      <th></th>\n",
              "      <th></th>\n",
              "      <th></th>\n",
              "      <th></th>\n",
              "      <th></th>\n",
              "    </tr>\n",
              "  </thead>\n",
              "  <tbody>\n",
              "    <tr>\n",
              "      <th>0</th>\n",
              "      <td>18393</td>\n",
              "      <td>2</td>\n",
              "      <td>168</td>\n",
              "      <td>62.0</td>\n",
              "      <td>110</td>\n",
              "      <td>80</td>\n",
              "      <td>1</td>\n",
              "      <td>1</td>\n",
              "      <td>0</td>\n",
              "      <td>0</td>\n",
              "      <td>1</td>\n",
              "      <td>0</td>\n",
              "    </tr>\n",
              "    <tr>\n",
              "      <th>1</th>\n",
              "      <td>20228</td>\n",
              "      <td>1</td>\n",
              "      <td>156</td>\n",
              "      <td>85.0</td>\n",
              "      <td>140</td>\n",
              "      <td>90</td>\n",
              "      <td>3</td>\n",
              "      <td>1</td>\n",
              "      <td>0</td>\n",
              "      <td>0</td>\n",
              "      <td>1</td>\n",
              "      <td>1</td>\n",
              "    </tr>\n",
              "    <tr>\n",
              "      <th>2</th>\n",
              "      <td>18857</td>\n",
              "      <td>1</td>\n",
              "      <td>165</td>\n",
              "      <td>64.0</td>\n",
              "      <td>130</td>\n",
              "      <td>70</td>\n",
              "      <td>3</td>\n",
              "      <td>1</td>\n",
              "      <td>0</td>\n",
              "      <td>0</td>\n",
              "      <td>0</td>\n",
              "      <td>1</td>\n",
              "    </tr>\n",
              "    <tr>\n",
              "      <th>3</th>\n",
              "      <td>17623</td>\n",
              "      <td>2</td>\n",
              "      <td>169</td>\n",
              "      <td>82.0</td>\n",
              "      <td>150</td>\n",
              "      <td>100</td>\n",
              "      <td>1</td>\n",
              "      <td>1</td>\n",
              "      <td>0</td>\n",
              "      <td>0</td>\n",
              "      <td>1</td>\n",
              "      <td>1</td>\n",
              "    </tr>\n",
              "    <tr>\n",
              "      <th>4</th>\n",
              "      <td>17474</td>\n",
              "      <td>1</td>\n",
              "      <td>156</td>\n",
              "      <td>56.0</td>\n",
              "      <td>100</td>\n",
              "      <td>60</td>\n",
              "      <td>1</td>\n",
              "      <td>1</td>\n",
              "      <td>0</td>\n",
              "      <td>0</td>\n",
              "      <td>0</td>\n",
              "      <td>0</td>\n",
              "    </tr>\n",
              "  </tbody>\n",
              "</table>\n",
              "</div>"
            ],
            "text/plain": [
              "      age  gender  height  weight  ap_hi  ...  gluc  smoke  alco  active  cardio\n",
              "id                                        ...                                   \n",
              "0   18393       2     168    62.0    110  ...     1      0     0       1       0\n",
              "1   20228       1     156    85.0    140  ...     1      0     0       1       1\n",
              "2   18857       1     165    64.0    130  ...     1      0     0       0       1\n",
              "3   17623       2     169    82.0    150  ...     1      0     0       1       1\n",
              "4   17474       1     156    56.0    100  ...     1      0     0       0       0\n",
              "\n",
              "[5 rows x 12 columns]"
            ]
          },
          "metadata": {
            "tags": []
          },
          "execution_count": 3
        }
      ]
    },
    {
      "cell_type": "code",
      "metadata": {
        "colab": {
          "base_uri": "https://localhost:8080/"
        },
        "id": "CErPMNQh8LgJ",
        "outputId": "64928d4b-d05b-47c8-95e9-66d2c069da09"
      },
      "source": [
        "print(\"Shape of the Data \", data.shape)\n",
        "\n",
        "#Number of Rows in the dataset\n",
        "print(\"Number of Rows are:\",data.shape[0])\n",
        "\n",
        "#Number of Columns/features in dataset\n",
        "print(\"Number of Columns are:\",data.shape[1])\n",
        "\n",
        "print(\"Columns \", data.columns)"
      ],
      "execution_count": null,
      "outputs": [
        {
          "output_type": "stream",
          "text": [
            "Shape of the Data  (70000, 12)\n",
            "Number of Rows are: 70000\n",
            "Number of Columns are: 12\n",
            "Columns  Index(['age', 'gender', 'height', 'weight', 'ap_hi', 'ap_lo', 'cholesterol',\n",
            "       'gluc', 'smoke', 'alco', 'active', 'cardio'],\n",
            "      dtype='object')\n"
          ],
          "name": "stdout"
        }
      ]
    },
    {
      "cell_type": "code",
      "metadata": {
        "colab": {
          "base_uri": "https://localhost:8080/"
        },
        "id": "AdvydhnK8jt1",
        "outputId": "e64348ef-36d4-4d54-e0e1-aa6fd5049378"
      },
      "source": [
        "#List of Available features in dataset\n",
        "print(\"Available Features are:\",data.columns.tolist())"
      ],
      "execution_count": null,
      "outputs": [
        {
          "output_type": "stream",
          "text": [
            "Available Features are: ['age', 'gender', 'height', 'weight', 'ap_hi', 'ap_lo', 'cholesterol', 'gluc', 'smoke', 'alco', 'active', 'cardio']\n"
          ],
          "name": "stdout"
        }
      ]
    },
    {
      "cell_type": "code",
      "metadata": {
        "colab": {
          "base_uri": "https://localhost:8080/"
        },
        "id": "uJVBtxMP8m9h",
        "outputId": "1a32158a-3f62-4570-ec3f-31a39296278b"
      },
      "source": [
        "# Let's checkout which feature contains which kind of values i.e int /float /etc or what is the data type of values.\n",
        "print(data.info())"
      ],
      "execution_count": null,
      "outputs": [
        {
          "output_type": "stream",
          "text": [
            "<class 'pandas.core.frame.DataFrame'>\n",
            "Int64Index: 70000 entries, 0 to 99999\n",
            "Data columns (total 12 columns):\n",
            " #   Column       Non-Null Count  Dtype  \n",
            "---  ------       --------------  -----  \n",
            " 0   age          70000 non-null  int64  \n",
            " 1   gender       70000 non-null  int64  \n",
            " 2   height       70000 non-null  int64  \n",
            " 3   weight       70000 non-null  float64\n",
            " 4   ap_hi        70000 non-null  int64  \n",
            " 5   ap_lo        70000 non-null  int64  \n",
            " 6   cholesterol  70000 non-null  int64  \n",
            " 7   gluc         70000 non-null  int64  \n",
            " 8   smoke        70000 non-null  int64  \n",
            " 9   alco         70000 non-null  int64  \n",
            " 10  active       70000 non-null  int64  \n",
            " 11  cardio       70000 non-null  int64  \n",
            "dtypes: float64(1), int64(11)\n",
            "memory usage: 6.9 MB\n",
            "None\n"
          ],
          "name": "stdout"
        }
      ]
    },
    {
      "cell_type": "code",
      "metadata": {
        "colab": {
          "base_uri": "https://localhost:8080/"
        },
        "id": "yHqK8evE8u7k",
        "outputId": "8654e417-7d6f-4550-840c-0b0a98794e65"
      },
      "source": [
        "#Checking for Duplicate data if Any\n",
        "print(data.duplicated(keep = False).sum())\n",
        "print(data.duplicated().sum())\n",
        "print(data.loc[data.duplicated(keep = False), :])\n",
        "data = data.drop_duplicates(keep='first')\n",
        "print(data.shape)"
      ],
      "execution_count": null,
      "outputs": [
        {
          "output_type": "stream",
          "text": [
            "48\n",
            "24\n",
            "         age  gender  height  weight  ap_hi  ...  gluc  smoke  alco  active  cardio\n",
            "id                                           ...                                   \n",
            "1585   17493       2     169    74.0    120  ...     1      0     0       1       1\n",
            "1685   16793       1     165    68.0    120  ...     1      0     0       1       0\n",
            "2223   21945       1     165    60.0    120  ...     1      0     0       1       0\n",
            "2283   20293       1     162    70.0    110  ...     1      0     0       1       0\n",
            "3247   20495       1     165    70.0    120  ...     1      0     0       1       0\n",
            "3774   22077       1     175    69.0    120  ...     1      0     0       1       1\n",
            "9004   14552       1     158    64.0    120  ...     1      0     0       1       0\n",
            "11684  21778       1     160    58.0    120  ...     1      0     0       1       0\n",
            "14974  16937       2     170    70.0    120  ...     1      0     0       0       0\n",
            "15094  20495       1     165    70.0    120  ...     1      0     0       1       0\n",
            "15414  18988       1     164    65.0    120  ...     1      0     0       1       0\n",
            "23334  19858       1     165    68.0    120  ...     1      0     0       1       0\n",
            "24435  16160       1     168    65.0    120  ...     1      0     0       1       1\n",
            "24539  21230       1     164    62.0    120  ...     1      0     0       1       0\n",
            "28624  19059       1     165    65.0    120  ...     1      0     0       1       1\n",
            "31110  16793       1     165    68.0    120  ...     1      0     0       1       0\n",
            "31244  21280       1     165    65.0    120  ...     1      0     0       1       0\n",
            "32416  18353       1     169    67.0    120  ...     1      0     0       1       0\n",
            "34798  20516       1     164    66.0    120  ...     1      0     0       0       0\n",
            "40450  16805       1     157    67.0    120  ...     1      0     0       1       0\n",
            "41436  18210       1     160    60.0    120  ...     1      0     0       1       0\n",
            "46667  17535       2     165    65.0    120  ...     1      0     0       1       0\n",
            "54977  18988       1     164    65.0    120  ...     1      0     0       1       0\n",
            "55102  21119       1     160    60.0    120  ...     1      0     0       0       1\n",
            "57602  21943       1     165    65.0    120  ...     1      0     0       1       1\n",
            "57690  14552       1     158    64.0    120  ...     1      0     0       1       0\n",
            "60642  18353       1     169    67.0    120  ...     1      0     0       1       0\n",
            "63776  16937       2     170    70.0    120  ...     1      0     0       0       0\n",
            "64445  21280       1     165    65.0    120  ...     1      0     0       1       0\n",
            "65352  22077       1     175    69.0    120  ...     1      0     0       1       1\n",
            "65438  21230       1     164    62.0    120  ...     1      0     0       1       0\n",
            "68156  18979       1     165    65.0    120  ...     1      0     0       0       0\n",
            "69842  21945       1     165    60.0    120  ...     1      0     0       1       0\n",
            "71971  17493       2     169    74.0    120  ...     1      0     0       1       1\n",
            "74969  21943       1     165    65.0    120  ...     1      0     0       1       1\n",
            "78064  18955       1     165    75.0    120  ...     1      0     0       1       1\n",
            "80859  17535       2     165    65.0    120  ...     1      0     0       1       0\n",
            "81232  20293       1     162    70.0    110  ...     1      0     0       1       0\n",
            "82698  18955       1     165    75.0    120  ...     1      0     0       1       1\n",
            "83812  19858       1     165    68.0    120  ...     1      0     0       1       0\n",
            "86312  20516       1     164    66.0    120  ...     1      0     0       0       0\n",
            "86345  16805       1     157    67.0    120  ...     1      0     0       1       0\n",
            "88987  18979       1     165    65.0    120  ...     1      0     0       0       0\n",
            "91592  16160       1     168    65.0    120  ...     1      0     0       1       1\n",
            "92891  18210       1     160    60.0    120  ...     1      0     0       1       0\n",
            "93659  21778       1     160    58.0    120  ...     1      0     0       1       0\n",
            "94486  19059       1     165    65.0    120  ...     1      0     0       1       1\n",
            "97521  21119       1     160    60.0    120  ...     1      0     0       0       1\n",
            "\n",
            "[48 rows x 12 columns]\n",
            "(69976, 12)\n"
          ],
          "name": "stdout"
        }
      ]
    },
    {
      "cell_type": "code",
      "metadata": {
        "colab": {
          "base_uri": "https://localhost:8080/"
        },
        "id": "UCtzW0Ov8y5n",
        "outputId": "b0d21814-8000-4f44-8b09-03c6219c78cb"
      },
      "source": [
        "#Handle Missing Values if any\n",
        "print(data.isnull().sum())"
      ],
      "execution_count": null,
      "outputs": [
        {
          "output_type": "stream",
          "text": [
            "age            0\n",
            "gender         0\n",
            "height         0\n",
            "weight         0\n",
            "ap_hi          0\n",
            "ap_lo          0\n",
            "cholesterol    0\n",
            "gluc           0\n",
            "smoke          0\n",
            "alco           0\n",
            "active         0\n",
            "cardio         0\n",
            "dtype: int64\n"
          ],
          "name": "stdout"
        }
      ]
    },
    {
      "cell_type": "code",
      "metadata": {
        "colab": {
          "base_uri": "https://localhost:8080/"
        },
        "id": "0HhVd_GL817G",
        "outputId": "df19efae-7f2c-4301-a08b-64ecde09daf1"
      },
      "source": [
        "#Let's check our class is balanced or not\n",
        "print(data[\"cardio\"].value_counts())\n",
        "# since their are 35021 values of class 0 and 34979 values of class 1.\n",
        "#so the class is balanced"
      ],
      "execution_count": null,
      "outputs": [
        {
          "output_type": "stream",
          "text": [
            "0    35004\n",
            "1    34972\n",
            "Name: cardio, dtype: int64\n"
          ],
          "name": "stdout"
        }
      ]
    },
    {
      "cell_type": "code",
      "metadata": {
        "colab": {
          "base_uri": "https://localhost:8080/"
        },
        "id": "ksG4t_3P89hz",
        "outputId": "6e758abc-b9af-41dc-c7c1-f93977dc3e91"
      },
      "source": [
        "#Checking number of unique values available in each column\n",
        "data.nunique()"
      ],
      "execution_count": null,
      "outputs": [
        {
          "output_type": "execute_result",
          "data": {
            "text/plain": [
              "age            8076\n",
              "gender            2\n",
              "height          109\n",
              "weight          287\n",
              "ap_hi           153\n",
              "ap_lo           157\n",
              "cholesterol       3\n",
              "gluc              3\n",
              "smoke             2\n",
              "alco              2\n",
              "active            2\n",
              "cardio            2\n",
              "dtype: int64"
            ]
          },
          "metadata": {
            "tags": []
          },
          "execution_count": 11
        }
      ]
    },
    {
      "cell_type": "code",
      "metadata": {
        "colab": {
          "base_uri": "https://localhost:8080/",
          "height": 307
        },
        "id": "878PdMOb9DiO",
        "outputId": "dd72c08d-4ce4-4d51-fe83-358072297d00"
      },
      "source": [
        "data.describe()"
      ],
      "execution_count": null,
      "outputs": [
        {
          "output_type": "execute_result",
          "data": {
            "text/html": [
              "<div>\n",
              "<style scoped>\n",
              "    .dataframe tbody tr th:only-of-type {\n",
              "        vertical-align: middle;\n",
              "    }\n",
              "\n",
              "    .dataframe tbody tr th {\n",
              "        vertical-align: top;\n",
              "    }\n",
              "\n",
              "    .dataframe thead th {\n",
              "        text-align: right;\n",
              "    }\n",
              "</style>\n",
              "<table border=\"1\" class=\"dataframe\">\n",
              "  <thead>\n",
              "    <tr style=\"text-align: right;\">\n",
              "      <th></th>\n",
              "      <th>age</th>\n",
              "      <th>gender</th>\n",
              "      <th>height</th>\n",
              "      <th>weight</th>\n",
              "      <th>ap_hi</th>\n",
              "      <th>ap_lo</th>\n",
              "      <th>cholesterol</th>\n",
              "      <th>gluc</th>\n",
              "      <th>smoke</th>\n",
              "      <th>alco</th>\n",
              "      <th>active</th>\n",
              "      <th>cardio</th>\n",
              "    </tr>\n",
              "  </thead>\n",
              "  <tbody>\n",
              "    <tr>\n",
              "      <th>count</th>\n",
              "      <td>69976.000000</td>\n",
              "      <td>69976.000000</td>\n",
              "      <td>69976.000000</td>\n",
              "      <td>69976.000000</td>\n",
              "      <td>69976.000000</td>\n",
              "      <td>69976.000000</td>\n",
              "      <td>69976.000000</td>\n",
              "      <td>69976.000000</td>\n",
              "      <td>69976.000000</td>\n",
              "      <td>69976.000000</td>\n",
              "      <td>69976.000000</td>\n",
              "      <td>69976.000000</td>\n",
              "    </tr>\n",
              "    <tr>\n",
              "      <th>mean</th>\n",
              "      <td>19468.950126</td>\n",
              "      <td>1.349648</td>\n",
              "      <td>164.359152</td>\n",
              "      <td>74.208519</td>\n",
              "      <td>128.820453</td>\n",
              "      <td>96.636261</td>\n",
              "      <td>1.366997</td>\n",
              "      <td>1.226535</td>\n",
              "      <td>0.088159</td>\n",
              "      <td>0.053790</td>\n",
              "      <td>0.803718</td>\n",
              "      <td>0.499771</td>\n",
              "    </tr>\n",
              "    <tr>\n",
              "      <th>std</th>\n",
              "      <td>2467.374620</td>\n",
              "      <td>0.476862</td>\n",
              "      <td>8.211218</td>\n",
              "      <td>14.397211</td>\n",
              "      <td>154.037729</td>\n",
              "      <td>188.504581</td>\n",
              "      <td>0.680333</td>\n",
              "      <td>0.572353</td>\n",
              "      <td>0.283528</td>\n",
              "      <td>0.225604</td>\n",
              "      <td>0.397187</td>\n",
              "      <td>0.500004</td>\n",
              "    </tr>\n",
              "    <tr>\n",
              "      <th>min</th>\n",
              "      <td>10798.000000</td>\n",
              "      <td>1.000000</td>\n",
              "      <td>55.000000</td>\n",
              "      <td>10.000000</td>\n",
              "      <td>-150.000000</td>\n",
              "      <td>-70.000000</td>\n",
              "      <td>1.000000</td>\n",
              "      <td>1.000000</td>\n",
              "      <td>0.000000</td>\n",
              "      <td>0.000000</td>\n",
              "      <td>0.000000</td>\n",
              "      <td>0.000000</td>\n",
              "    </tr>\n",
              "    <tr>\n",
              "      <th>25%</th>\n",
              "      <td>17664.000000</td>\n",
              "      <td>1.000000</td>\n",
              "      <td>159.000000</td>\n",
              "      <td>65.000000</td>\n",
              "      <td>120.000000</td>\n",
              "      <td>80.000000</td>\n",
              "      <td>1.000000</td>\n",
              "      <td>1.000000</td>\n",
              "      <td>0.000000</td>\n",
              "      <td>0.000000</td>\n",
              "      <td>1.000000</td>\n",
              "      <td>0.000000</td>\n",
              "    </tr>\n",
              "    <tr>\n",
              "      <th>50%</th>\n",
              "      <td>19703.000000</td>\n",
              "      <td>1.000000</td>\n",
              "      <td>165.000000</td>\n",
              "      <td>72.000000</td>\n",
              "      <td>120.000000</td>\n",
              "      <td>80.000000</td>\n",
              "      <td>1.000000</td>\n",
              "      <td>1.000000</td>\n",
              "      <td>0.000000</td>\n",
              "      <td>0.000000</td>\n",
              "      <td>1.000000</td>\n",
              "      <td>0.000000</td>\n",
              "    </tr>\n",
              "    <tr>\n",
              "      <th>75%</th>\n",
              "      <td>21327.000000</td>\n",
              "      <td>2.000000</td>\n",
              "      <td>170.000000</td>\n",
              "      <td>82.000000</td>\n",
              "      <td>140.000000</td>\n",
              "      <td>90.000000</td>\n",
              "      <td>2.000000</td>\n",
              "      <td>1.000000</td>\n",
              "      <td>0.000000</td>\n",
              "      <td>0.000000</td>\n",
              "      <td>1.000000</td>\n",
              "      <td>1.000000</td>\n",
              "    </tr>\n",
              "    <tr>\n",
              "      <th>max</th>\n",
              "      <td>23713.000000</td>\n",
              "      <td>2.000000</td>\n",
              "      <td>250.000000</td>\n",
              "      <td>200.000000</td>\n",
              "      <td>16020.000000</td>\n",
              "      <td>11000.000000</td>\n",
              "      <td>3.000000</td>\n",
              "      <td>3.000000</td>\n",
              "      <td>1.000000</td>\n",
              "      <td>1.000000</td>\n",
              "      <td>1.000000</td>\n",
              "      <td>1.000000</td>\n",
              "    </tr>\n",
              "  </tbody>\n",
              "</table>\n",
              "</div>"
            ],
            "text/plain": [
              "                age        gender  ...        active        cardio\n",
              "count  69976.000000  69976.000000  ...  69976.000000  69976.000000\n",
              "mean   19468.950126      1.349648  ...      0.803718      0.499771\n",
              "std     2467.374620      0.476862  ...      0.397187      0.500004\n",
              "min    10798.000000      1.000000  ...      0.000000      0.000000\n",
              "25%    17664.000000      1.000000  ...      1.000000      0.000000\n",
              "50%    19703.000000      1.000000  ...      1.000000      0.000000\n",
              "75%    21327.000000      2.000000  ...      1.000000      1.000000\n",
              "max    23713.000000      2.000000  ...      1.000000      1.000000\n",
              "\n",
              "[8 rows x 12 columns]"
            ]
          },
          "metadata": {
            "tags": []
          },
          "execution_count": 12
        }
      ]
    },
    {
      "cell_type": "code",
      "metadata": {
        "colab": {
          "base_uri": "https://localhost:8080/",
          "height": 296
        },
        "id": "zuReWwy_9KVo",
        "outputId": "406b352f-f6e8-4e83-bc6f-6c54638a915b"
      },
      "source": [
        "#Visualization of balanced class\n",
        "sns.countplot(data['cardio'],palette=\"flare\")\n",
        "#From the plot it is obtained that classs is approximately balanced"
      ],
      "execution_count": null,
      "outputs": [
        {
          "output_type": "execute_result",
          "data": {
            "text/plain": [
              "<matplotlib.axes._subplots.AxesSubplot at 0x7f08de983d90>"
            ]
          },
          "metadata": {
            "tags": []
          },
          "execution_count": 13
        },
        {
          "output_type": "display_data",
          "data": {
            "image/png": "[encoded data removed]",
            "text/plain": [
              "<Figure size 432x288 with 1 Axes>"
            ]
          },
          "metadata": {
            "tags": [],
            "needs_background": "light"
          }
        }
      ]
    },
    {
      "cell_type": "code",
      "metadata": {
        "colab": {
          "base_uri": "https://localhost:8080/",
          "height": 356
        },
        "id": "oq4dez3T9L_e",
        "outputId": "97352bc9-e5c1-41b6-fbf0-d0d2590a4e43"
      },
      "source": [
        "#Visualizing the cvd with respect to height and weight\n",
        "sns.set(rc={'figure.figsize':(6,5)})\n",
        "sns.scatterplot(x= 'height', y= 'weight', hue= 'cardio', data= data)"
      ],
      "execution_count": null,
      "outputs": [
        {
          "output_type": "execute_result",
          "data": {
            "text/plain": [
              "<matplotlib.axes._subplots.AxesSubplot at 0x7f08daa8b850>"
            ]
          },
          "metadata": {
            "tags": []
          },
          "execution_count": 14
        },
        {
          "output_type": "display_data",
          "data": {
            "image/png": "[encoded data removed]",
            "text/plain": [
              "<Figure size 432x360 with 1 Axes>"
            ]
          },
          "metadata": {
            "tags": []
          }
        }
      ]
    },
    {
      "cell_type": "markdown",
      "metadata": {
        "id": "jZBK_qES9jWS"
      },
      "source": [
        "### **Removing Outliers**"
      ]
    },
    {
      "cell_type": "code",
      "metadata": {
        "id": "mpnleuk29a3u"
      },
      "source": [
        "#Weight\n",
        "Q1 = data.weight.quantile(0.005)\n",
        "Q2 = data.weight.quantile(0.9998)\n",
        "Q1,Q2\n",
        "data = data[(data.weight > Q1) & (data.weight < Q2)]"
      ],
      "execution_count": null,
      "outputs": []
    },
    {
      "cell_type": "code",
      "metadata": {
        "colab": {
          "base_uri": "https://localhost:8080/",
          "height": 307
        },
        "id": "JhFHYp1_9o_R",
        "outputId": "6912aa03-475e-4ff3-b306-5d2ad3c9e003"
      },
      "source": [
        "data.describe()"
      ],
      "execution_count": null,
      "outputs": [
        {
          "output_type": "execute_result",
          "data": {
            "text/html": [
              "<div>\n",
              "<style scoped>\n",
              "    .dataframe tbody tr th:only-of-type {\n",
              "        vertical-align: middle;\n",
              "    }\n",
              "\n",
              "    .dataframe tbody tr th {\n",
              "        vertical-align: top;\n",
              "    }\n",
              "\n",
              "    .dataframe thead th {\n",
              "        text-align: right;\n",
              "    }\n",
              "</style>\n",
              "<table border=\"1\" class=\"dataframe\">\n",
              "  <thead>\n",
              "    <tr style=\"text-align: right;\">\n",
              "      <th></th>\n",
              "      <th>age</th>\n",
              "      <th>gender</th>\n",
              "      <th>height</th>\n",
              "      <th>weight</th>\n",
              "      <th>ap_hi</th>\n",
              "      <th>ap_lo</th>\n",
              "      <th>cholesterol</th>\n",
              "      <th>gluc</th>\n",
              "      <th>smoke</th>\n",
              "      <th>alco</th>\n",
              "      <th>active</th>\n",
              "      <th>cardio</th>\n",
              "    </tr>\n",
              "  </thead>\n",
              "  <tbody>\n",
              "    <tr>\n",
              "      <th>count</th>\n",
              "      <td>69538.000000</td>\n",
              "      <td>69538.000000</td>\n",
              "      <td>69538.000000</td>\n",
              "      <td>69538.000000</td>\n",
              "      <td>69538.000000</td>\n",
              "      <td>69538.000000</td>\n",
              "      <td>69538.000000</td>\n",
              "      <td>69538.000000</td>\n",
              "      <td>69538.000000</td>\n",
              "      <td>69538.000000</td>\n",
              "      <td>69538.000000</td>\n",
              "      <td>69538.000000</td>\n",
              "    </tr>\n",
              "    <tr>\n",
              "      <th>mean</th>\n",
              "      <td>19471.075901</td>\n",
              "      <td>1.351204</td>\n",
              "      <td>164.424530</td>\n",
              "      <td>74.383138</td>\n",
              "      <td>128.885286</td>\n",
              "      <td>96.694009</td>\n",
              "      <td>1.367367</td>\n",
              "      <td>1.226955</td>\n",
              "      <td>0.088441</td>\n",
              "      <td>0.053913</td>\n",
              "      <td>0.803503</td>\n",
              "      <td>0.501064</td>\n",
              "    </tr>\n",
              "    <tr>\n",
              "      <th>std</th>\n",
              "      <td>2465.413066</td>\n",
              "      <td>0.477350</td>\n",
              "      <td>8.160387</td>\n",
              "      <td>14.135167</td>\n",
              "      <td>154.461617</td>\n",
              "      <td>188.886264</td>\n",
              "      <td>0.680817</td>\n",
              "      <td>0.572839</td>\n",
              "      <td>0.283937</td>\n",
              "      <td>0.225848</td>\n",
              "      <td>0.397351</td>\n",
              "      <td>0.500002</td>\n",
              "    </tr>\n",
              "    <tr>\n",
              "      <th>min</th>\n",
              "      <td>10798.000000</td>\n",
              "      <td>1.000000</td>\n",
              "      <td>55.000000</td>\n",
              "      <td>45.800000</td>\n",
              "      <td>-150.000000</td>\n",
              "      <td>-70.000000</td>\n",
              "      <td>1.000000</td>\n",
              "      <td>1.000000</td>\n",
              "      <td>0.000000</td>\n",
              "      <td>0.000000</td>\n",
              "      <td>0.000000</td>\n",
              "      <td>0.000000</td>\n",
              "    </tr>\n",
              "    <tr>\n",
              "      <th>25%</th>\n",
              "      <td>17670.000000</td>\n",
              "      <td>1.000000</td>\n",
              "      <td>159.000000</td>\n",
              "      <td>65.000000</td>\n",
              "      <td>120.000000</td>\n",
              "      <td>80.000000</td>\n",
              "      <td>1.000000</td>\n",
              "      <td>1.000000</td>\n",
              "      <td>0.000000</td>\n",
              "      <td>0.000000</td>\n",
              "      <td>1.000000</td>\n",
              "      <td>0.000000</td>\n",
              "    </tr>\n",
              "    <tr>\n",
              "      <th>50%</th>\n",
              "      <td>19704.000000</td>\n",
              "      <td>1.000000</td>\n",
              "      <td>165.000000</td>\n",
              "      <td>72.000000</td>\n",
              "      <td>120.000000</td>\n",
              "      <td>80.000000</td>\n",
              "      <td>1.000000</td>\n",
              "      <td>1.000000</td>\n",
              "      <td>0.000000</td>\n",
              "      <td>0.000000</td>\n",
              "      <td>1.000000</td>\n",
              "      <td>1.000000</td>\n",
              "    </tr>\n",
              "    <tr>\n",
              "      <th>75%</th>\n",
              "      <td>21327.000000</td>\n",
              "      <td>2.000000</td>\n",
              "      <td>170.000000</td>\n",
              "      <td>82.000000</td>\n",
              "      <td>140.000000</td>\n",
              "      <td>90.000000</td>\n",
              "      <td>2.000000</td>\n",
              "      <td>1.000000</td>\n",
              "      <td>0.000000</td>\n",
              "      <td>0.000000</td>\n",
              "      <td>1.000000</td>\n",
              "      <td>1.000000</td>\n",
              "    </tr>\n",
              "    <tr>\n",
              "      <th>max</th>\n",
              "      <td>23713.000000</td>\n",
              "      <td>2.000000</td>\n",
              "      <td>250.000000</td>\n",
              "      <td>171.000000</td>\n",
              "      <td>16020.000000</td>\n",
              "      <td>11000.000000</td>\n",
              "      <td>3.000000</td>\n",
              "      <td>3.000000</td>\n",
              "      <td>1.000000</td>\n",
              "      <td>1.000000</td>\n",
              "      <td>1.000000</td>\n",
              "      <td>1.000000</td>\n",
              "    </tr>\n",
              "  </tbody>\n",
              "</table>\n",
              "</div>"
            ],
            "text/plain": [
              "                age        gender  ...        active        cardio\n",
              "count  69538.000000  69538.000000  ...  69538.000000  69538.000000\n",
              "mean   19471.075901      1.351204  ...      0.803503      0.501064\n",
              "std     2465.413066      0.477350  ...      0.397351      0.500002\n",
              "min    10798.000000      1.000000  ...      0.000000      0.000000\n",
              "25%    17670.000000      1.000000  ...      1.000000      0.000000\n",
              "50%    19704.000000      1.000000  ...      1.000000      1.000000\n",
              "75%    21327.000000      2.000000  ...      1.000000      1.000000\n",
              "max    23713.000000      2.000000  ...      1.000000      1.000000\n",
              "\n",
              "[8 rows x 12 columns]"
            ]
          },
          "metadata": {
            "tags": []
          },
          "execution_count": 14
        }
      ]
    },
    {
      "cell_type": "code",
      "metadata": {
        "id": "C0aWBJK69qaD"
      },
      "source": [
        "#ap-lo\n",
        "Q1 = data.ap_lo.quantile(0.001)\n",
        "Q2 = data.ap_lo.quantile(0.984)\n",
        "Q1,Q2\n",
        "data = data[(data.ap_lo > Q1) & (data.ap_lo < Q2)]"
      ],
      "execution_count": null,
      "outputs": []
    },
    {
      "cell_type": "code",
      "metadata": {
        "colab": {
          "base_uri": "https://localhost:8080/",
          "height": 307
        },
        "id": "hotF1yNY9seR",
        "outputId": "71ae2f86-abaa-45fc-f84e-9210d56d2c06"
      },
      "source": [
        "data.describe()"
      ],
      "execution_count": null,
      "outputs": [
        {
          "output_type": "execute_result",
          "data": {
            "text/html": [
              "<div>\n",
              "<style scoped>\n",
              "    .dataframe tbody tr th:only-of-type {\n",
              "        vertical-align: middle;\n",
              "    }\n",
              "\n",
              "    .dataframe tbody tr th {\n",
              "        vertical-align: top;\n",
              "    }\n",
              "\n",
              "    .dataframe thead th {\n",
              "        text-align: right;\n",
              "    }\n",
              "</style>\n",
              "<table border=\"1\" class=\"dataframe\">\n",
              "  <thead>\n",
              "    <tr style=\"text-align: right;\">\n",
              "      <th></th>\n",
              "      <th>age</th>\n",
              "      <th>gender</th>\n",
              "      <th>height</th>\n",
              "      <th>weight</th>\n",
              "      <th>ap_hi</th>\n",
              "      <th>ap_lo</th>\n",
              "      <th>cholesterol</th>\n",
              "      <th>gluc</th>\n",
              "      <th>smoke</th>\n",
              "      <th>alco</th>\n",
              "      <th>active</th>\n",
              "      <th>cardio</th>\n",
              "    </tr>\n",
              "  </thead>\n",
              "  <tbody>\n",
              "    <tr>\n",
              "      <th>count</th>\n",
              "      <td>68207.000000</td>\n",
              "      <td>68207.000000</td>\n",
              "      <td>68207.000000</td>\n",
              "      <td>68207.000000</td>\n",
              "      <td>68207.000000</td>\n",
              "      <td>68207.000000</td>\n",
              "      <td>68207.000000</td>\n",
              "      <td>68207.000000</td>\n",
              "      <td>68207.000000</td>\n",
              "      <td>68207.000000</td>\n",
              "      <td>68207.000000</td>\n",
              "      <td>68207.000000</td>\n",
              "    </tr>\n",
              "    <tr>\n",
              "      <th>mean</th>\n",
              "      <td>19464.751726</td>\n",
              "      <td>1.350037</td>\n",
              "      <td>164.428475</td>\n",
              "      <td>74.256668</td>\n",
              "      <td>128.383905</td>\n",
              "      <td>81.227777</td>\n",
              "      <td>1.363672</td>\n",
              "      <td>1.225563</td>\n",
              "      <td>0.088070</td>\n",
              "      <td>0.053352</td>\n",
              "      <td>0.803026</td>\n",
              "      <td>0.495037</td>\n",
              "    </tr>\n",
              "    <tr>\n",
              "      <th>std</th>\n",
              "      <td>2467.266945</td>\n",
              "      <td>0.476985</td>\n",
              "      <td>8.139700</td>\n",
              "      <td>14.034714</td>\n",
              "      <td>155.749997</td>\n",
              "      <td>9.110970</td>\n",
              "      <td>0.678291</td>\n",
              "      <td>0.571523</td>\n",
              "      <td>0.283399</td>\n",
              "      <td>0.224737</td>\n",
              "      <td>0.397715</td>\n",
              "      <td>0.499979</td>\n",
              "    </tr>\n",
              "    <tr>\n",
              "      <th>min</th>\n",
              "      <td>10798.000000</td>\n",
              "      <td>1.000000</td>\n",
              "      <td>55.000000</td>\n",
              "      <td>45.800000</td>\n",
              "      <td>-150.000000</td>\n",
              "      <td>45.000000</td>\n",
              "      <td>1.000000</td>\n",
              "      <td>1.000000</td>\n",
              "      <td>0.000000</td>\n",
              "      <td>0.000000</td>\n",
              "      <td>0.000000</td>\n",
              "      <td>0.000000</td>\n",
              "    </tr>\n",
              "    <tr>\n",
              "      <th>25%</th>\n",
              "      <td>17659.000000</td>\n",
              "      <td>1.000000</td>\n",
              "      <td>159.000000</td>\n",
              "      <td>65.000000</td>\n",
              "      <td>120.000000</td>\n",
              "      <td>80.000000</td>\n",
              "      <td>1.000000</td>\n",
              "      <td>1.000000</td>\n",
              "      <td>0.000000</td>\n",
              "      <td>0.000000</td>\n",
              "      <td>1.000000</td>\n",
              "      <td>0.000000</td>\n",
              "    </tr>\n",
              "    <tr>\n",
              "      <th>50%</th>\n",
              "      <td>19701.000000</td>\n",
              "      <td>1.000000</td>\n",
              "      <td>165.000000</td>\n",
              "      <td>72.000000</td>\n",
              "      <td>120.000000</td>\n",
              "      <td>80.000000</td>\n",
              "      <td>1.000000</td>\n",
              "      <td>1.000000</td>\n",
              "      <td>0.000000</td>\n",
              "      <td>0.000000</td>\n",
              "      <td>1.000000</td>\n",
              "      <td>0.000000</td>\n",
              "    </tr>\n",
              "    <tr>\n",
              "      <th>75%</th>\n",
              "      <td>21323.000000</td>\n",
              "      <td>2.000000</td>\n",
              "      <td>170.000000</td>\n",
              "      <td>82.000000</td>\n",
              "      <td>140.000000</td>\n",
              "      <td>90.000000</td>\n",
              "      <td>1.000000</td>\n",
              "      <td>1.000000</td>\n",
              "      <td>0.000000</td>\n",
              "      <td>0.000000</td>\n",
              "      <td>1.000000</td>\n",
              "      <td>1.000000</td>\n",
              "    </tr>\n",
              "    <tr>\n",
              "      <th>max</th>\n",
              "      <td>23713.000000</td>\n",
              "      <td>2.000000</td>\n",
              "      <td>250.000000</td>\n",
              "      <td>171.000000</td>\n",
              "      <td>16020.000000</td>\n",
              "      <td>119.000000</td>\n",
              "      <td>3.000000</td>\n",
              "      <td>3.000000</td>\n",
              "      <td>1.000000</td>\n",
              "      <td>1.000000</td>\n",
              "      <td>1.000000</td>\n",
              "      <td>1.000000</td>\n",
              "    </tr>\n",
              "  </tbody>\n",
              "</table>\n",
              "</div>"
            ],
            "text/plain": [
              "                age        gender  ...        active        cardio\n",
              "count  68207.000000  68207.000000  ...  68207.000000  68207.000000\n",
              "mean   19464.751726      1.350037  ...      0.803026      0.495037\n",
              "std     2467.266945      0.476985  ...      0.397715      0.499979\n",
              "min    10798.000000      1.000000  ...      0.000000      0.000000\n",
              "25%    17659.000000      1.000000  ...      1.000000      0.000000\n",
              "50%    19701.000000      1.000000  ...      1.000000      0.000000\n",
              "75%    21323.000000      2.000000  ...      1.000000      1.000000\n",
              "max    23713.000000      2.000000  ...      1.000000      1.000000\n",
              "\n",
              "[8 rows x 12 columns]"
            ]
          },
          "metadata": {
            "tags": []
          },
          "execution_count": 16
        }
      ]
    },
    {
      "cell_type": "code",
      "metadata": {
        "id": "kJ74Sw5O9vGP"
      },
      "source": [
        "#ap-hi\n",
        "Q1 = data.ap_hi.quantile(0.007)\n",
        "Q2 = data.ap_hi.quantile(0.999)\n",
        "Q1,Q2\n",
        "data = data[(data.ap_hi > Q1) & (data.ap_hi < Q2)]"
      ],
      "execution_count": null,
      "outputs": []
    },
    {
      "cell_type": "code",
      "metadata": {
        "colab": {
          "base_uri": "https://localhost:8080/",
          "height": 307
        },
        "id": "vFqt_kqL9yk0",
        "outputId": "8727c05b-8f0f-475e-9ffe-d7939482a521"
      },
      "source": [
        "data.describe()"
      ],
      "execution_count": null,
      "outputs": [
        {
          "output_type": "execute_result",
          "data": {
            "text/html": [
              "<div>\n",
              "<style scoped>\n",
              "    .dataframe tbody tr th:only-of-type {\n",
              "        vertical-align: middle;\n",
              "    }\n",
              "\n",
              "    .dataframe tbody tr th {\n",
              "        vertical-align: top;\n",
              "    }\n",
              "\n",
              "    .dataframe thead th {\n",
              "        text-align: right;\n",
              "    }\n",
              "</style>\n",
              "<table border=\"1\" class=\"dataframe\">\n",
              "  <thead>\n",
              "    <tr style=\"text-align: right;\">\n",
              "      <th></th>\n",
              "      <th>age</th>\n",
              "      <th>gender</th>\n",
              "      <th>height</th>\n",
              "      <th>weight</th>\n",
              "      <th>ap_hi</th>\n",
              "      <th>ap_lo</th>\n",
              "      <th>cholesterol</th>\n",
              "      <th>gluc</th>\n",
              "      <th>smoke</th>\n",
              "      <th>alco</th>\n",
              "      <th>active</th>\n",
              "      <th>cardio</th>\n",
              "    </tr>\n",
              "  </thead>\n",
              "  <tbody>\n",
              "    <tr>\n",
              "      <th>count</th>\n",
              "      <td>66928.000000</td>\n",
              "      <td>66928.000000</td>\n",
              "      <td>66928.000000</td>\n",
              "      <td>66928.000000</td>\n",
              "      <td>66928.000000</td>\n",
              "      <td>66928.000000</td>\n",
              "      <td>66928.000000</td>\n",
              "      <td>66928.000000</td>\n",
              "      <td>66928.000000</td>\n",
              "      <td>66928.000000</td>\n",
              "      <td>66928.000000</td>\n",
              "      <td>66928.000000</td>\n",
              "    </tr>\n",
              "    <tr>\n",
              "      <th>mean</th>\n",
              "      <td>19484.865408</td>\n",
              "      <td>1.352364</td>\n",
              "      <td>164.481084</td>\n",
              "      <td>74.383634</td>\n",
              "      <td>127.007919</td>\n",
              "      <td>81.479127</td>\n",
              "      <td>1.365557</td>\n",
              "      <td>1.226258</td>\n",
              "      <td>0.088259</td>\n",
              "      <td>0.053460</td>\n",
              "      <td>0.803281</td>\n",
              "      <td>0.499402</td>\n",
              "    </tr>\n",
              "    <tr>\n",
              "      <th>std</th>\n",
              "      <td>2462.557598</td>\n",
              "      <td>0.477710</td>\n",
              "      <td>8.123303</td>\n",
              "      <td>14.008043</td>\n",
              "      <td>15.588329</td>\n",
              "      <td>8.804921</td>\n",
              "      <td>0.680365</td>\n",
              "      <td>0.572748</td>\n",
              "      <td>0.283673</td>\n",
              "      <td>0.224951</td>\n",
              "      <td>0.397521</td>\n",
              "      <td>0.500003</td>\n",
              "    </tr>\n",
              "    <tr>\n",
              "      <th>min</th>\n",
              "      <td>10798.000000</td>\n",
              "      <td>1.000000</td>\n",
              "      <td>55.000000</td>\n",
              "      <td>45.800000</td>\n",
              "      <td>93.000000</td>\n",
              "      <td>45.000000</td>\n",
              "      <td>1.000000</td>\n",
              "      <td>1.000000</td>\n",
              "      <td>0.000000</td>\n",
              "      <td>0.000000</td>\n",
              "      <td>0.000000</td>\n",
              "      <td>0.000000</td>\n",
              "    </tr>\n",
              "    <tr>\n",
              "      <th>25%</th>\n",
              "      <td>17700.750000</td>\n",
              "      <td>1.000000</td>\n",
              "      <td>159.000000</td>\n",
              "      <td>65.000000</td>\n",
              "      <td>120.000000</td>\n",
              "      <td>80.000000</td>\n",
              "      <td>1.000000</td>\n",
              "      <td>1.000000</td>\n",
              "      <td>0.000000</td>\n",
              "      <td>0.000000</td>\n",
              "      <td>1.000000</td>\n",
              "      <td>0.000000</td>\n",
              "    </tr>\n",
              "    <tr>\n",
              "      <th>50%</th>\n",
              "      <td>19712.000000</td>\n",
              "      <td>1.000000</td>\n",
              "      <td>165.000000</td>\n",
              "      <td>72.000000</td>\n",
              "      <td>120.000000</td>\n",
              "      <td>80.000000</td>\n",
              "      <td>1.000000</td>\n",
              "      <td>1.000000</td>\n",
              "      <td>0.000000</td>\n",
              "      <td>0.000000</td>\n",
              "      <td>1.000000</td>\n",
              "      <td>0.000000</td>\n",
              "    </tr>\n",
              "    <tr>\n",
              "      <th>75%</th>\n",
              "      <td>21338.000000</td>\n",
              "      <td>2.000000</td>\n",
              "      <td>170.000000</td>\n",
              "      <td>82.000000</td>\n",
              "      <td>140.000000</td>\n",
              "      <td>90.000000</td>\n",
              "      <td>2.000000</td>\n",
              "      <td>1.000000</td>\n",
              "      <td>0.000000</td>\n",
              "      <td>0.000000</td>\n",
              "      <td>1.000000</td>\n",
              "      <td>1.000000</td>\n",
              "    </tr>\n",
              "    <tr>\n",
              "      <th>max</th>\n",
              "      <td>23713.000000</td>\n",
              "      <td>2.000000</td>\n",
              "      <td>250.000000</td>\n",
              "      <td>171.000000</td>\n",
              "      <td>197.000000</td>\n",
              "      <td>119.000000</td>\n",
              "      <td>3.000000</td>\n",
              "      <td>3.000000</td>\n",
              "      <td>1.000000</td>\n",
              "      <td>1.000000</td>\n",
              "      <td>1.000000</td>\n",
              "      <td>1.000000</td>\n",
              "    </tr>\n",
              "  </tbody>\n",
              "</table>\n",
              "</div>"
            ],
            "text/plain": [
              "                age        gender  ...        active        cardio\n",
              "count  66928.000000  66928.000000  ...  66928.000000  66928.000000\n",
              "mean   19484.865408      1.352364  ...      0.803281      0.499402\n",
              "std     2462.557598      0.477710  ...      0.397521      0.500003\n",
              "min    10798.000000      1.000000  ...      0.000000      0.000000\n",
              "25%    17700.750000      1.000000  ...      1.000000      0.000000\n",
              "50%    19712.000000      1.000000  ...      1.000000      0.000000\n",
              "75%    21338.000000      2.000000  ...      1.000000      1.000000\n",
              "max    23713.000000      2.000000  ...      1.000000      1.000000\n",
              "\n",
              "[8 rows x 12 columns]"
            ]
          },
          "metadata": {
            "tags": []
          },
          "execution_count": 18
        }
      ]
    },
    {
      "cell_type": "code",
      "metadata": {
        "id": "TgnNA-Iv91VK"
      },
      "source": [
        "#height\n",
        "Q1 = data.height.quantile(0.0012)\n",
        "Q2 = data.height.quantile(0.99999)\n",
        "Q1,Q2\n",
        "data = data[(data.height > Q1) & (data.height < Q2)]"
      ],
      "execution_count": null,
      "outputs": []
    },
    {
      "cell_type": "code",
      "metadata": {
        "colab": {
          "base_uri": "https://localhost:8080/",
          "height": 307
        },
        "id": "zzU-rofk93fv",
        "outputId": "22cd8c48-6428-4003-dd93-b3a47b1bc149"
      },
      "source": [
        "data.describe()"
      ],
      "execution_count": null,
      "outputs": [
        {
          "output_type": "execute_result",
          "data": {
            "text/html": [
              "<div>\n",
              "<style scoped>\n",
              "    .dataframe tbody tr th:only-of-type {\n",
              "        vertical-align: middle;\n",
              "    }\n",
              "\n",
              "    .dataframe tbody tr th {\n",
              "        vertical-align: top;\n",
              "    }\n",
              "\n",
              "    .dataframe thead th {\n",
              "        text-align: right;\n",
              "    }\n",
              "</style>\n",
              "<table border=\"1\" class=\"dataframe\">\n",
              "  <thead>\n",
              "    <tr style=\"text-align: right;\">\n",
              "      <th></th>\n",
              "      <th>age</th>\n",
              "      <th>gender</th>\n",
              "      <th>height</th>\n",
              "      <th>weight</th>\n",
              "      <th>ap_hi</th>\n",
              "      <th>ap_lo</th>\n",
              "      <th>cholesterol</th>\n",
              "      <th>gluc</th>\n",
              "      <th>smoke</th>\n",
              "      <th>alco</th>\n",
              "      <th>active</th>\n",
              "      <th>cardio</th>\n",
              "    </tr>\n",
              "  </thead>\n",
              "  <tbody>\n",
              "    <tr>\n",
              "      <th>count</th>\n",
              "      <td>66846.000000</td>\n",
              "      <td>66846.000000</td>\n",
              "      <td>66846.000000</td>\n",
              "      <td>66846.000000</td>\n",
              "      <td>66846.000000</td>\n",
              "      <td>66846.000000</td>\n",
              "      <td>66846.000000</td>\n",
              "      <td>66846.000000</td>\n",
              "      <td>66846.000000</td>\n",
              "      <td>66846.000000</td>\n",
              "      <td>66846.000000</td>\n",
              "      <td>66846.000000</td>\n",
              "    </tr>\n",
              "    <tr>\n",
              "      <th>mean</th>\n",
              "      <td>19485.310221</td>\n",
              "      <td>1.352302</td>\n",
              "      <td>164.554005</td>\n",
              "      <td>74.375434</td>\n",
              "      <td>127.011953</td>\n",
              "      <td>81.481136</td>\n",
              "      <td>1.365736</td>\n",
              "      <td>1.226356</td>\n",
              "      <td>0.088278</td>\n",
              "      <td>0.053496</td>\n",
              "      <td>0.803369</td>\n",
              "      <td>0.499432</td>\n",
              "    </tr>\n",
              "    <tr>\n",
              "      <th>std</th>\n",
              "      <td>2462.416330</td>\n",
              "      <td>0.477691</td>\n",
              "      <td>7.798464</td>\n",
              "      <td>13.986297</td>\n",
              "      <td>15.590607</td>\n",
              "      <td>8.805235</td>\n",
              "      <td>0.680477</td>\n",
              "      <td>0.572854</td>\n",
              "      <td>0.283700</td>\n",
              "      <td>0.225022</td>\n",
              "      <td>0.397454</td>\n",
              "      <td>0.500003</td>\n",
              "    </tr>\n",
              "    <tr>\n",
              "      <th>min</th>\n",
              "      <td>10798.000000</td>\n",
              "      <td>1.000000</td>\n",
              "      <td>130.000000</td>\n",
              "      <td>45.800000</td>\n",
              "      <td>93.000000</td>\n",
              "      <td>45.000000</td>\n",
              "      <td>1.000000</td>\n",
              "      <td>1.000000</td>\n",
              "      <td>0.000000</td>\n",
              "      <td>0.000000</td>\n",
              "      <td>0.000000</td>\n",
              "      <td>0.000000</td>\n",
              "    </tr>\n",
              "    <tr>\n",
              "      <th>25%</th>\n",
              "      <td>17701.250000</td>\n",
              "      <td>1.000000</td>\n",
              "      <td>159.000000</td>\n",
              "      <td>65.000000</td>\n",
              "      <td>120.000000</td>\n",
              "      <td>80.000000</td>\n",
              "      <td>1.000000</td>\n",
              "      <td>1.000000</td>\n",
              "      <td>0.000000</td>\n",
              "      <td>0.000000</td>\n",
              "      <td>1.000000</td>\n",
              "      <td>0.000000</td>\n",
              "    </tr>\n",
              "    <tr>\n",
              "      <th>50%</th>\n",
              "      <td>19712.000000</td>\n",
              "      <td>1.000000</td>\n",
              "      <td>165.000000</td>\n",
              "      <td>72.000000</td>\n",
              "      <td>120.000000</td>\n",
              "      <td>80.000000</td>\n",
              "      <td>1.000000</td>\n",
              "      <td>1.000000</td>\n",
              "      <td>0.000000</td>\n",
              "      <td>0.000000</td>\n",
              "      <td>1.000000</td>\n",
              "      <td>0.000000</td>\n",
              "    </tr>\n",
              "    <tr>\n",
              "      <th>75%</th>\n",
              "      <td>21338.000000</td>\n",
              "      <td>2.000000</td>\n",
              "      <td>170.000000</td>\n",
              "      <td>82.000000</td>\n",
              "      <td>140.000000</td>\n",
              "      <td>90.000000</td>\n",
              "      <td>2.000000</td>\n",
              "      <td>1.000000</td>\n",
              "      <td>0.000000</td>\n",
              "      <td>0.000000</td>\n",
              "      <td>1.000000</td>\n",
              "      <td>1.000000</td>\n",
              "    </tr>\n",
              "    <tr>\n",
              "      <th>max</th>\n",
              "      <td>23713.000000</td>\n",
              "      <td>2.000000</td>\n",
              "      <td>207.000000</td>\n",
              "      <td>171.000000</td>\n",
              "      <td>197.000000</td>\n",
              "      <td>119.000000</td>\n",
              "      <td>3.000000</td>\n",
              "      <td>3.000000</td>\n",
              "      <td>1.000000</td>\n",
              "      <td>1.000000</td>\n",
              "      <td>1.000000</td>\n",
              "      <td>1.000000</td>\n",
              "    </tr>\n",
              "  </tbody>\n",
              "</table>\n",
              "</div>"
            ],
            "text/plain": [
              "                age        gender  ...        active        cardio\n",
              "count  66846.000000  66846.000000  ...  66846.000000  66846.000000\n",
              "mean   19485.310221      1.352302  ...      0.803369      0.499432\n",
              "std     2462.416330      0.477691  ...      0.397454      0.500003\n",
              "min    10798.000000      1.000000  ...      0.000000      0.000000\n",
              "25%    17701.250000      1.000000  ...      1.000000      0.000000\n",
              "50%    19712.000000      1.000000  ...      1.000000      0.000000\n",
              "75%    21338.000000      2.000000  ...      1.000000      1.000000\n",
              "max    23713.000000      2.000000  ...      1.000000      1.000000\n",
              "\n",
              "[8 rows x 12 columns]"
            ]
          },
          "metadata": {
            "tags": []
          },
          "execution_count": 20
        }
      ]
    },
    {
      "cell_type": "code",
      "metadata": {
        "id": "s30ZvZtB-D5S"
      },
      "source": [
        "data = data[data['ap_hi'] > data['ap_lo']]"
      ],
      "execution_count": null,
      "outputs": []
    },
    {
      "cell_type": "code",
      "metadata": {
        "colab": {
          "base_uri": "https://localhost:8080/",
          "height": 307
        },
        "id": "6GnZBjbH-f5K",
        "outputId": "4cdc7e2c-eaef-415f-a804-485cbd630cf5"
      },
      "source": [
        "data.describe()"
      ],
      "execution_count": null,
      "outputs": [
        {
          "output_type": "execute_result",
          "data": {
            "text/html": [
              "<div>\n",
              "<style scoped>\n",
              "    .dataframe tbody tr th:only-of-type {\n",
              "        vertical-align: middle;\n",
              "    }\n",
              "\n",
              "    .dataframe tbody tr th {\n",
              "        vertical-align: top;\n",
              "    }\n",
              "\n",
              "    .dataframe thead th {\n",
              "        text-align: right;\n",
              "    }\n",
              "</style>\n",
              "<table border=\"1\" class=\"dataframe\">\n",
              "  <thead>\n",
              "    <tr style=\"text-align: right;\">\n",
              "      <th></th>\n",
              "      <th>age</th>\n",
              "      <th>gender</th>\n",
              "      <th>height</th>\n",
              "      <th>weight</th>\n",
              "      <th>ap_hi</th>\n",
              "      <th>ap_lo</th>\n",
              "      <th>cholesterol</th>\n",
              "      <th>gluc</th>\n",
              "      <th>smoke</th>\n",
              "      <th>alco</th>\n",
              "      <th>active</th>\n",
              "      <th>cardio</th>\n",
              "    </tr>\n",
              "  </thead>\n",
              "  <tbody>\n",
              "    <tr>\n",
              "      <th>count</th>\n",
              "      <td>66843.000000</td>\n",
              "      <td>66843.000000</td>\n",
              "      <td>66843.000000</td>\n",
              "      <td>66843.000000</td>\n",
              "      <td>66843.000000</td>\n",
              "      <td>66843.000000</td>\n",
              "      <td>66843.000000</td>\n",
              "      <td>66843.000000</td>\n",
              "      <td>66843.000000</td>\n",
              "      <td>66843.000000</td>\n",
              "      <td>66843.000000</td>\n",
              "      <td>66843.000000</td>\n",
              "    </tr>\n",
              "    <tr>\n",
              "      <th>mean</th>\n",
              "      <td>19485.295543</td>\n",
              "      <td>1.352288</td>\n",
              "      <td>164.553641</td>\n",
              "      <td>74.374150</td>\n",
              "      <td>127.013240</td>\n",
              "      <td>81.480305</td>\n",
              "      <td>1.365753</td>\n",
              "      <td>1.226366</td>\n",
              "      <td>0.088281</td>\n",
              "      <td>0.053484</td>\n",
              "      <td>0.803390</td>\n",
              "      <td>0.499424</td>\n",
              "    </tr>\n",
              "    <tr>\n",
              "      <th>std</th>\n",
              "      <td>2462.385577</td>\n",
              "      <td>0.477687</td>\n",
              "      <td>7.798286</td>\n",
              "      <td>13.984946</td>\n",
              "      <td>15.589765</td>\n",
              "      <td>8.804559</td>\n",
              "      <td>0.680488</td>\n",
              "      <td>0.572865</td>\n",
              "      <td>0.283706</td>\n",
              "      <td>0.224997</td>\n",
              "      <td>0.397438</td>\n",
              "      <td>0.500003</td>\n",
              "    </tr>\n",
              "    <tr>\n",
              "      <th>min</th>\n",
              "      <td>10798.000000</td>\n",
              "      <td>1.000000</td>\n",
              "      <td>130.000000</td>\n",
              "      <td>45.800000</td>\n",
              "      <td>93.000000</td>\n",
              "      <td>45.000000</td>\n",
              "      <td>1.000000</td>\n",
              "      <td>1.000000</td>\n",
              "      <td>0.000000</td>\n",
              "      <td>0.000000</td>\n",
              "      <td>0.000000</td>\n",
              "      <td>0.000000</td>\n",
              "    </tr>\n",
              "    <tr>\n",
              "      <th>25%</th>\n",
              "      <td>17701.500000</td>\n",
              "      <td>1.000000</td>\n",
              "      <td>159.000000</td>\n",
              "      <td>65.000000</td>\n",
              "      <td>120.000000</td>\n",
              "      <td>80.000000</td>\n",
              "      <td>1.000000</td>\n",
              "      <td>1.000000</td>\n",
              "      <td>0.000000</td>\n",
              "      <td>0.000000</td>\n",
              "      <td>1.000000</td>\n",
              "      <td>0.000000</td>\n",
              "    </tr>\n",
              "    <tr>\n",
              "      <th>50%</th>\n",
              "      <td>19712.000000</td>\n",
              "      <td>1.000000</td>\n",
              "      <td>165.000000</td>\n",
              "      <td>72.000000</td>\n",
              "      <td>120.000000</td>\n",
              "      <td>80.000000</td>\n",
              "      <td>1.000000</td>\n",
              "      <td>1.000000</td>\n",
              "      <td>0.000000</td>\n",
              "      <td>0.000000</td>\n",
              "      <td>1.000000</td>\n",
              "      <td>0.000000</td>\n",
              "    </tr>\n",
              "    <tr>\n",
              "      <th>75%</th>\n",
              "      <td>21338.000000</td>\n",
              "      <td>2.000000</td>\n",
              "      <td>170.000000</td>\n",
              "      <td>82.000000</td>\n",
              "      <td>140.000000</td>\n",
              "      <td>90.000000</td>\n",
              "      <td>2.000000</td>\n",
              "      <td>1.000000</td>\n",
              "      <td>0.000000</td>\n",
              "      <td>0.000000</td>\n",
              "      <td>1.000000</td>\n",
              "      <td>1.000000</td>\n",
              "    </tr>\n",
              "    <tr>\n",
              "      <th>max</th>\n",
              "      <td>23713.000000</td>\n",
              "      <td>2.000000</td>\n",
              "      <td>207.000000</td>\n",
              "      <td>171.000000</td>\n",
              "      <td>197.000000</td>\n",
              "      <td>119.000000</td>\n",
              "      <td>3.000000</td>\n",
              "      <td>3.000000</td>\n",
              "      <td>1.000000</td>\n",
              "      <td>1.000000</td>\n",
              "      <td>1.000000</td>\n",
              "      <td>1.000000</td>\n",
              "    </tr>\n",
              "  </tbody>\n",
              "</table>\n",
              "</div>"
            ],
            "text/plain": [
              "                age        gender  ...        active        cardio\n",
              "count  66843.000000  66843.000000  ...  66843.000000  66843.000000\n",
              "mean   19485.295543      1.352288  ...      0.803390      0.499424\n",
              "std     2462.385577      0.477687  ...      0.397438      0.500003\n",
              "min    10798.000000      1.000000  ...      0.000000      0.000000\n",
              "25%    17701.500000      1.000000  ...      1.000000      0.000000\n",
              "50%    19712.000000      1.000000  ...      1.000000      0.000000\n",
              "75%    21338.000000      2.000000  ...      1.000000      1.000000\n",
              "max    23713.000000      2.000000  ...      1.000000      1.000000\n",
              "\n",
              "[8 rows x 12 columns]"
            ]
          },
          "metadata": {
            "tags": []
          },
          "execution_count": 12
        }
      ]
    },
    {
      "cell_type": "code",
      "metadata": {
        "colab": {
          "base_uri": "https://localhost:8080/",
          "height": 436
        },
        "id": "v9kcHEto96zh",
        "outputId": "3a6e38fe-8b7c-4b13-d27c-ce50ce22c225"
      },
      "source": [
        "data['age'] = data['age'].div(365.24)\n",
        "data"
      ],
      "execution_count": null,
      "outputs": [
        {
          "output_type": "execute_result",
          "data": {
            "text/html": [
              "<div>\n",
              "<style scoped>\n",
              "    .dataframe tbody tr th:only-of-type {\n",
              "        vertical-align: middle;\n",
              "    }\n",
              "\n",
              "    .dataframe tbody tr th {\n",
              "        vertical-align: top;\n",
              "    }\n",
              "\n",
              "    .dataframe thead th {\n",
              "        text-align: right;\n",
              "    }\n",
              "</style>\n",
              "<table border=\"1\" class=\"dataframe\">\n",
              "  <thead>\n",
              "    <tr style=\"text-align: right;\">\n",
              "      <th></th>\n",
              "      <th>age</th>\n",
              "      <th>gender</th>\n",
              "      <th>height</th>\n",
              "      <th>weight</th>\n",
              "      <th>ap_hi</th>\n",
              "      <th>ap_lo</th>\n",
              "      <th>cholesterol</th>\n",
              "      <th>gluc</th>\n",
              "      <th>smoke</th>\n",
              "      <th>alco</th>\n",
              "      <th>active</th>\n",
              "      <th>cardio</th>\n",
              "    </tr>\n",
              "    <tr>\n",
              "      <th>id</th>\n",
              "      <th></th>\n",
              "      <th></th>\n",
              "      <th></th>\n",
              "      <th></th>\n",
              "      <th></th>\n",
              "      <th></th>\n",
              "      <th></th>\n",
              "      <th></th>\n",
              "      <th></th>\n",
              "      <th></th>\n",
              "      <th></th>\n",
              "      <th></th>\n",
              "    </tr>\n",
              "  </thead>\n",
              "  <tbody>\n",
              "    <tr>\n",
              "      <th>0</th>\n",
              "      <td>50.358668</td>\n",
              "      <td>2</td>\n",
              "      <td>168</td>\n",
              "      <td>62.0</td>\n",
              "      <td>110</td>\n",
              "      <td>80</td>\n",
              "      <td>1</td>\n",
              "      <td>1</td>\n",
              "      <td>0</td>\n",
              "      <td>0</td>\n",
              "      <td>1</td>\n",
              "      <td>0</td>\n",
              "    </tr>\n",
              "    <tr>\n",
              "      <th>1</th>\n",
              "      <td>55.382762</td>\n",
              "      <td>1</td>\n",
              "      <td>156</td>\n",
              "      <td>85.0</td>\n",
              "      <td>140</td>\n",
              "      <td>90</td>\n",
              "      <td>3</td>\n",
              "      <td>1</td>\n",
              "      <td>0</td>\n",
              "      <td>0</td>\n",
              "      <td>1</td>\n",
              "      <td>1</td>\n",
              "    </tr>\n",
              "    <tr>\n",
              "      <th>2</th>\n",
              "      <td>51.629066</td>\n",
              "      <td>1</td>\n",
              "      <td>165</td>\n",
              "      <td>64.0</td>\n",
              "      <td>130</td>\n",
              "      <td>70</td>\n",
              "      <td>3</td>\n",
              "      <td>1</td>\n",
              "      <td>0</td>\n",
              "      <td>0</td>\n",
              "      <td>0</td>\n",
              "      <td>1</td>\n",
              "    </tr>\n",
              "    <tr>\n",
              "      <th>3</th>\n",
              "      <td>48.250465</td>\n",
              "      <td>2</td>\n",
              "      <td>169</td>\n",
              "      <td>82.0</td>\n",
              "      <td>150</td>\n",
              "      <td>100</td>\n",
              "      <td>1</td>\n",
              "      <td>1</td>\n",
              "      <td>0</td>\n",
              "      <td>0</td>\n",
              "      <td>1</td>\n",
              "      <td>1</td>\n",
              "    </tr>\n",
              "    <tr>\n",
              "      <th>4</th>\n",
              "      <td>47.842515</td>\n",
              "      <td>1</td>\n",
              "      <td>156</td>\n",
              "      <td>56.0</td>\n",
              "      <td>100</td>\n",
              "      <td>60</td>\n",
              "      <td>1</td>\n",
              "      <td>1</td>\n",
              "      <td>0</td>\n",
              "      <td>0</td>\n",
              "      <td>0</td>\n",
              "      <td>0</td>\n",
              "    </tr>\n",
              "    <tr>\n",
              "      <th>...</th>\n",
              "      <td>...</td>\n",
              "      <td>...</td>\n",
              "      <td>...</td>\n",
              "      <td>...</td>\n",
              "      <td>...</td>\n",
              "      <td>...</td>\n",
              "      <td>...</td>\n",
              "      <td>...</td>\n",
              "      <td>...</td>\n",
              "      <td>...</td>\n",
              "      <td>...</td>\n",
              "      <td>...</td>\n",
              "    </tr>\n",
              "    <tr>\n",
              "      <th>99993</th>\n",
              "      <td>52.677691</td>\n",
              "      <td>2</td>\n",
              "      <td>168</td>\n",
              "      <td>76.0</td>\n",
              "      <td>120</td>\n",
              "      <td>80</td>\n",
              "      <td>1</td>\n",
              "      <td>1</td>\n",
              "      <td>1</td>\n",
              "      <td>0</td>\n",
              "      <td>1</td>\n",
              "      <td>0</td>\n",
              "    </tr>\n",
              "    <tr>\n",
              "      <th>99995</th>\n",
              "      <td>61.879860</td>\n",
              "      <td>1</td>\n",
              "      <td>158</td>\n",
              "      <td>126.0</td>\n",
              "      <td>140</td>\n",
              "      <td>90</td>\n",
              "      <td>2</td>\n",
              "      <td>2</td>\n",
              "      <td>0</td>\n",
              "      <td>0</td>\n",
              "      <td>1</td>\n",
              "      <td>1</td>\n",
              "    </tr>\n",
              "    <tr>\n",
              "      <th>99996</th>\n",
              "      <td>52.201292</td>\n",
              "      <td>2</td>\n",
              "      <td>183</td>\n",
              "      <td>105.0</td>\n",
              "      <td>180</td>\n",
              "      <td>90</td>\n",
              "      <td>3</td>\n",
              "      <td>1</td>\n",
              "      <td>0</td>\n",
              "      <td>1</td>\n",
              "      <td>0</td>\n",
              "      <td>1</td>\n",
              "    </tr>\n",
              "    <tr>\n",
              "      <th>99998</th>\n",
              "      <td>61.414412</td>\n",
              "      <td>1</td>\n",
              "      <td>163</td>\n",
              "      <td>72.0</td>\n",
              "      <td>135</td>\n",
              "      <td>80</td>\n",
              "      <td>1</td>\n",
              "      <td>2</td>\n",
              "      <td>0</td>\n",
              "      <td>0</td>\n",
              "      <td>0</td>\n",
              "      <td>1</td>\n",
              "    </tr>\n",
              "    <tr>\n",
              "      <th>99999</th>\n",
              "      <td>56.236995</td>\n",
              "      <td>1</td>\n",
              "      <td>170</td>\n",
              "      <td>72.0</td>\n",
              "      <td>120</td>\n",
              "      <td>80</td>\n",
              "      <td>2</td>\n",
              "      <td>1</td>\n",
              "      <td>0</td>\n",
              "      <td>0</td>\n",
              "      <td>1</td>\n",
              "      <td>0</td>\n",
              "    </tr>\n",
              "  </tbody>\n",
              "</table>\n",
              "<p>66843 rows × 12 columns</p>\n",
              "</div>"
            ],
            "text/plain": [
              "             age  gender  height  weight  ...  smoke  alco  active  cardio\n",
              "id                                        ...                             \n",
              "0      50.358668       2     168    62.0  ...      0     0       1       0\n",
              "1      55.382762       1     156    85.0  ...      0     0       1       1\n",
              "2      51.629066       1     165    64.0  ...      0     0       0       1\n",
              "3      48.250465       2     169    82.0  ...      0     0       1       1\n",
              "4      47.842515       1     156    56.0  ...      0     0       0       0\n",
              "...          ...     ...     ...     ...  ...    ...   ...     ...     ...\n",
              "99993  52.677691       2     168    76.0  ...      1     0       1       0\n",
              "99995  61.879860       1     158   126.0  ...      0     0       1       1\n",
              "99996  52.201292       2     183   105.0  ...      0     1       0       1\n",
              "99998  61.414412       1     163    72.0  ...      0     0       0       1\n",
              "99999  56.236995       1     170    72.0  ...      0     0       1       0\n",
              "\n",
              "[66843 rows x 12 columns]"
            ]
          },
          "metadata": {
            "tags": []
          },
          "execution_count": 11
        }
      ]
    },
    {
      "cell_type": "code",
      "metadata": {
        "colab": {
          "base_uri": "https://localhost:8080/",
          "height": 427
        },
        "id": "NOB0Nq-I995q",
        "outputId": "20d3dae9-e451-40ec-d85e-7d54a8c4029f"
      },
      "source": [
        "data.corr()"
      ],
      "execution_count": null,
      "outputs": [
        {
          "output_type": "execute_result",
          "data": {
            "text/html": [
              "<div>\n",
              "<style scoped>\n",
              "    .dataframe tbody tr th:only-of-type {\n",
              "        vertical-align: middle;\n",
              "    }\n",
              "\n",
              "    .dataframe tbody tr th {\n",
              "        vertical-align: top;\n",
              "    }\n",
              "\n",
              "    .dataframe thead th {\n",
              "        text-align: right;\n",
              "    }\n",
              "</style>\n",
              "<table border=\"1\" class=\"dataframe\">\n",
              "  <thead>\n",
              "    <tr style=\"text-align: right;\">\n",
              "      <th></th>\n",
              "      <th>age</th>\n",
              "      <th>gender</th>\n",
              "      <th>height</th>\n",
              "      <th>weight</th>\n",
              "      <th>ap_hi</th>\n",
              "      <th>ap_lo</th>\n",
              "      <th>cholesterol</th>\n",
              "      <th>gluc</th>\n",
              "      <th>smoke</th>\n",
              "      <th>alco</th>\n",
              "      <th>active</th>\n",
              "      <th>cardio</th>\n",
              "    </tr>\n",
              "  </thead>\n",
              "  <tbody>\n",
              "    <tr>\n",
              "      <th>age</th>\n",
              "      <td>1.000000</td>\n",
              "      <td>-0.029045</td>\n",
              "      <td>-0.093906</td>\n",
              "      <td>0.050132</td>\n",
              "      <td>0.203161</td>\n",
              "      <td>0.147336</td>\n",
              "      <td>0.154098</td>\n",
              "      <td>0.098498</td>\n",
              "      <td>-0.050549</td>\n",
              "      <td>-0.029926</td>\n",
              "      <td>-0.010508</td>\n",
              "      <td>0.235964</td>\n",
              "    </tr>\n",
              "    <tr>\n",
              "      <th>gender</th>\n",
              "      <td>-0.029045</td>\n",
              "      <td>1.000000</td>\n",
              "      <td>0.520233</td>\n",
              "      <td>0.149568</td>\n",
              "      <td>0.049133</td>\n",
              "      <td>0.055871</td>\n",
              "      <td>-0.039201</td>\n",
              "      <td>-0.022988</td>\n",
              "      <td>0.337486</td>\n",
              "      <td>0.170317</td>\n",
              "      <td>0.005892</td>\n",
              "      <td>0.001100</td>\n",
              "    </tr>\n",
              "    <tr>\n",
              "      <th>height</th>\n",
              "      <td>-0.093906</td>\n",
              "      <td>0.520233</td>\n",
              "      <td>1.000000</td>\n",
              "      <td>0.296608</td>\n",
              "      <td>-0.002164</td>\n",
              "      <td>0.017934</td>\n",
              "      <td>-0.059698</td>\n",
              "      <td>-0.023952</td>\n",
              "      <td>0.195844</td>\n",
              "      <td>0.098249</td>\n",
              "      <td>-0.009833</td>\n",
              "      <td>-0.021556</td>\n",
              "    </tr>\n",
              "    <tr>\n",
              "      <th>weight</th>\n",
              "      <td>0.050132</td>\n",
              "      <td>0.149568</td>\n",
              "      <td>0.296608</td>\n",
              "      <td>1.000000</td>\n",
              "      <td>0.254370</td>\n",
              "      <td>0.236060</td>\n",
              "      <td>0.140442</td>\n",
              "      <td>0.106319</td>\n",
              "      <td>0.066255</td>\n",
              "      <td>0.066030</td>\n",
              "      <td>-0.017483</td>\n",
              "      <td>0.171705</td>\n",
              "    </tr>\n",
              "    <tr>\n",
              "      <th>ap_hi</th>\n",
              "      <td>0.203161</td>\n",
              "      <td>0.049133</td>\n",
              "      <td>-0.002164</td>\n",
              "      <td>0.254370</td>\n",
              "      <td>1.000000</td>\n",
              "      <td>0.704777</td>\n",
              "      <td>0.195564</td>\n",
              "      <td>0.092030</td>\n",
              "      <td>0.024499</td>\n",
              "      <td>0.032034</td>\n",
              "      <td>-0.001652</td>\n",
              "      <td>0.428734</td>\n",
              "    </tr>\n",
              "    <tr>\n",
              "      <th>ap_lo</th>\n",
              "      <td>0.147336</td>\n",
              "      <td>0.055871</td>\n",
              "      <td>0.017934</td>\n",
              "      <td>0.236060</td>\n",
              "      <td>0.704777</td>\n",
              "      <td>1.000000</td>\n",
              "      <td>0.160113</td>\n",
              "      <td>0.071120</td>\n",
              "      <td>0.022009</td>\n",
              "      <td>0.034006</td>\n",
              "      <td>-0.001825</td>\n",
              "      <td>0.335218</td>\n",
              "    </tr>\n",
              "    <tr>\n",
              "      <th>cholesterol</th>\n",
              "      <td>0.154098</td>\n",
              "      <td>-0.039201</td>\n",
              "      <td>-0.059698</td>\n",
              "      <td>0.140442</td>\n",
              "      <td>0.195564</td>\n",
              "      <td>0.160113</td>\n",
              "      <td>1.000000</td>\n",
              "      <td>0.451044</td>\n",
              "      <td>0.009198</td>\n",
              "      <td>0.033265</td>\n",
              "      <td>0.009001</td>\n",
              "      <td>0.219590</td>\n",
              "    </tr>\n",
              "    <tr>\n",
              "      <th>gluc</th>\n",
              "      <td>0.098498</td>\n",
              "      <td>-0.022988</td>\n",
              "      <td>-0.023952</td>\n",
              "      <td>0.106319</td>\n",
              "      <td>0.092030</td>\n",
              "      <td>0.071120</td>\n",
              "      <td>0.451044</td>\n",
              "      <td>1.000000</td>\n",
              "      <td>-0.006332</td>\n",
              "      <td>0.009023</td>\n",
              "      <td>-0.007957</td>\n",
              "      <td>0.087080</td>\n",
              "    </tr>\n",
              "    <tr>\n",
              "      <th>smoke</th>\n",
              "      <td>-0.050549</td>\n",
              "      <td>0.337486</td>\n",
              "      <td>0.195844</td>\n",
              "      <td>0.066255</td>\n",
              "      <td>0.024499</td>\n",
              "      <td>0.022009</td>\n",
              "      <td>0.009198</td>\n",
              "      <td>-0.006332</td>\n",
              "      <td>1.000000</td>\n",
              "      <td>0.340868</td>\n",
              "      <td>0.025103</td>\n",
              "      <td>-0.017623</td>\n",
              "    </tr>\n",
              "    <tr>\n",
              "      <th>alco</th>\n",
              "      <td>-0.029926</td>\n",
              "      <td>0.170317</td>\n",
              "      <td>0.098249</td>\n",
              "      <td>0.066030</td>\n",
              "      <td>0.032034</td>\n",
              "      <td>0.034006</td>\n",
              "      <td>0.033265</td>\n",
              "      <td>0.009023</td>\n",
              "      <td>0.340868</td>\n",
              "      <td>1.000000</td>\n",
              "      <td>0.024574</td>\n",
              "      <td>-0.010298</td>\n",
              "    </tr>\n",
              "    <tr>\n",
              "      <th>active</th>\n",
              "      <td>-0.010508</td>\n",
              "      <td>0.005892</td>\n",
              "      <td>-0.009833</td>\n",
              "      <td>-0.017483</td>\n",
              "      <td>-0.001652</td>\n",
              "      <td>-0.001825</td>\n",
              "      <td>0.009001</td>\n",
              "      <td>-0.007957</td>\n",
              "      <td>0.025103</td>\n",
              "      <td>0.024574</td>\n",
              "      <td>1.000000</td>\n",
              "      <td>-0.037685</td>\n",
              "    </tr>\n",
              "    <tr>\n",
              "      <th>cardio</th>\n",
              "      <td>0.235964</td>\n",
              "      <td>0.001100</td>\n",
              "      <td>-0.021556</td>\n",
              "      <td>0.171705</td>\n",
              "      <td>0.428734</td>\n",
              "      <td>0.335218</td>\n",
              "      <td>0.219590</td>\n",
              "      <td>0.087080</td>\n",
              "      <td>-0.017623</td>\n",
              "      <td>-0.010298</td>\n",
              "      <td>-0.037685</td>\n",
              "      <td>1.000000</td>\n",
              "    </tr>\n",
              "  </tbody>\n",
              "</table>\n",
              "</div>"
            ],
            "text/plain": [
              "                  age    gender    height  ...      alco    active    cardio\n",
              "age          1.000000 -0.029045 -0.093906  ... -0.029926 -0.010508  0.235964\n",
              "gender      -0.029045  1.000000  0.520233  ...  0.170317  0.005892  0.001100\n",
              "height      -0.093906  0.520233  1.000000  ...  0.098249 -0.009833 -0.021556\n",
              "weight       0.050132  0.149568  0.296608  ...  0.066030 -0.017483  0.171705\n",
              "ap_hi        0.203161  0.049133 -0.002164  ...  0.032034 -0.001652  0.428734\n",
              "ap_lo        0.147336  0.055871  0.017934  ...  0.034006 -0.001825  0.335218\n",
              "cholesterol  0.154098 -0.039201 -0.059698  ...  0.033265  0.009001  0.219590\n",
              "gluc         0.098498 -0.022988 -0.023952  ...  0.009023 -0.007957  0.087080\n",
              "smoke       -0.050549  0.337486  0.195844  ...  0.340868  0.025103 -0.017623\n",
              "alco        -0.029926  0.170317  0.098249  ...  1.000000  0.024574 -0.010298\n",
              "active      -0.010508  0.005892 -0.009833  ...  0.024574  1.000000 -0.037685\n",
              "cardio       0.235964  0.001100 -0.021556  ... -0.010298 -0.037685  1.000000\n",
              "\n",
              "[12 rows x 12 columns]"
            ]
          },
          "metadata": {
            "tags": []
          },
          "execution_count": 14
        }
      ]
    },
    {
      "cell_type": "markdown",
      "metadata": {
        "id": "J_wu11aH-yUI"
      },
      "source": [
        "### **Visualisations**"
      ]
    },
    {
      "cell_type": "code",
      "metadata": {
        "colab": {
          "base_uri": "https://localhost:8080/",
          "height": 745
        },
        "id": "mpFCMr60-xZd",
        "outputId": "d5b2fa58-c53c-4ca1-abf4-87b3fabd64f6"
      },
      "source": [
        "# let see visual representations of the data to understand more about features.\n",
        "data.hist( figsize=(12.5,12.5));"
      ],
      "execution_count": null,
      "outputs": [
        {
          "output_type": "display_data",
          "data": {
            "image/png": "[encoded data removed]",
            "text/plain": [
              "<Figure size 900x900 with 12 Axes>"
            ]
          },
          "metadata": {
            "tags": []
          }
        }
      ]
    },
    {
      "cell_type": "markdown",
      "metadata": {
        "id": "J9yQR6ua_9nw"
      },
      "source": [
        "**With Respect to Gender**"
      ]
    },
    {
      "cell_type": "code",
      "metadata": {
        "colab": {
          "base_uri": "https://localhost:8080/",
          "height": 263
        },
        "id": "NITa0pkd_7fB",
        "outputId": "4c837aed-e82e-4306-e6e9-2b5c64a87151"
      },
      "source": [
        "#Visualizing the possibilty of CVD with respect to age\n",
        "sns.set(rc={'figure.figsize':(5,3)})\n",
        "sns.countplot(x= 'gender', hue= 'cardio', data= data, palette= 'mako')\n",
        "plt.title(\" Count of CVD & NON CVD  with respect to Gender\")"
      ],
      "execution_count": null,
      "outputs": [
        {
          "output_type": "execute_result",
          "data": {
            "text/plain": [
              "Text(0.5, 1.0, ' Count of CVD & NON CVD  with respect to Gender')"
            ]
          },
          "metadata": {
            "tags": []
          },
          "execution_count": 23
        },
        {
          "output_type": "display_data",
          "data": {
            "image/png": "[encoded data removed]",
            "text/plain": [
              "<Figure size 360x216 with 1 Axes>"
            ]
          },
          "metadata": {
            "tags": []
          }
        }
      ]
    },
    {
      "cell_type": "markdown",
      "metadata": {
        "id": "Hpvso8XKAJX1"
      },
      "source": [
        "**Combined Analysis of Few Features**"
      ]
    },
    {
      "cell_type": "code",
      "metadata": {
        "id": "ApKOPRBOAF6a"
      },
      "source": [
        "df_new2=data.copy()\n",
        "df_new2[\"gender\"].replace({1: \"Female\", 2: \"Male\"}, inplace=True)\n",
        "df_new2[\"cholesterol\"].replace({1: \"Normal\", 2: \"Above_Normal\",3:\"High\"}, inplace=True)\n",
        "df_new2[\"gluc\"].replace({1: \"Normal\", 2: \"Above_Normal\",3:\"High\"}, inplace=True)\n",
        "df_new2[\"smoke\"].replace({0: \"Non Smoker\", 1: \"Smoker\"}, inplace=True)\n",
        "df_new2[\"alco\"].replace({0: \"Not Ajjlcoholic\", 1: \"Alcoholic\"}, inplace=True)\n",
        "df_new2[\"active\"].replace({0: \"Not doing Physical Activities\", 1: \"Doing physical Activities\"}, inplace=True)"
      ],
      "execution_count": null,
      "outputs": []
    },
    {
      "cell_type": "code",
      "metadata": {
        "colab": {
          "base_uri": "https://localhost:8080/",
          "height": 503
        },
        "id": "NcY5gv0D_wAh",
        "outputId": "ee541405-d6e0-47be-a026-af4229942f24"
      },
      "source": [
        "#Distribution of CVD with various values\n",
        "fig = make_subplots(rows=2, cols=3,subplot_titles=(\"Alcohol Distribution\", \"Gender Distribution\",\"Cholesterol Distribution\", \"Glucose Distribution\", \"Smoking Distribution\", \"Fitness Distribution\"), specs=[[{'type':'domain'}, {'type':'domain'}, {'type':'domain'}], [{'type':'domain'}, {'type':'domain'}, {'type':'domain'}]])\n",
        "\n",
        "fig.add_trace(go.Pie(labels=df_new2[df_new2['cardio'] == 1]['alco'].value_counts().index.to_list(),values=df_new2[df_new2['cardio'] == 1]['alco'].value_counts().values), 1, 1)\n",
        "fig.add_trace(go.Pie(labels=df_new2[df_new2['cardio'] == 1]['gender'].value_counts().index.to_list(),values=df_new2[df_new2['cardio'] == 1]['gender'].value_counts().values), 1, 2)\n",
        "\n",
        "fig.add_trace(go.Pie(labels=df_new2[df_new2['cardio'] == 1]['cholesterol'].value_counts().index.to_list(),values=df_new2[df_new2['cardio'] == 1]['cholesterol'].value_counts().values), 1, 3)\n",
        "fig.add_trace(go.Pie(labels=df_new2[df_new2['cardio'] == 1]['gluc'].value_counts().index.to_list(),values=df_new2[df_new2['cardio'] == 1]['gluc'].value_counts().values), 2, 1)\n",
        "\n",
        "fig.add_trace(go.Pie(labels=df_new2[df_new2['cardio'] == 1]['smoke'].value_counts().index.to_list(),values=df_new2[df_new2['cardio'] == 1]['smoke'].value_counts().values), 2, 2)\n",
        "fig.add_trace(go.Pie(labels=df_new2[df_new2['cardio'] == 1]['active'].value_counts().index.to_list(),values=df_new2[df_new2['cardio'] == 1]['active'].value_counts().values), 2, 3)\n",
        "\n",
        "\n",
        "fig.update_traces(textposition='inside')\n",
        "fig.update_layout(title_text=\"Distribution of Various Values having CVD\")"
      ],
      "execution_count": null,
      "outputs": [
        {
          "output_type": "error",
          "ename": "ValueError",
          "evalue": "ignored",
          "traceback": [
            "\u001b[0;31m---------------------------------------------------------------------------\u001b[0m",
            "\u001b[0;31mValueError\u001b[0m                                Traceback (most recent call last)",
            "\u001b[0;32m<ipython-input-52-e52b9feda41a>\u001b[0m in \u001b[0;36m<module>\u001b[0;34m()\u001b[0m\n\u001b[1;32m      1\u001b[0m \u001b[0;31m#Distribution of CVD with various values\u001b[0m\u001b[0;34m\u001b[0m\u001b[0;34m\u001b[0m\u001b[0;34m\u001b[0m\u001b[0m\n\u001b[0;32m----> 2\u001b[0;31m \u001b[0mfig\u001b[0m \u001b[0;34m=\u001b[0m \u001b[0mmake_subplots\u001b[0m\u001b[0;34m(\u001b[0m\u001b[0mrows\u001b[0m\u001b[0;34m=\u001b[0m\u001b[0;36m3\u001b[0m\u001b[0;34m,\u001b[0m \u001b[0mcols\u001b[0m\u001b[0;34m=\u001b[0m\u001b[0;36m2\u001b[0m\u001b[0;34m,\u001b[0m\u001b[0msubplot_titles\u001b[0m\u001b[0;34m=\u001b[0m\u001b[0;34m(\u001b[0m\u001b[0;34m\"Alcohol Distribution\"\u001b[0m\u001b[0;34m,\u001b[0m \u001b[0;34m\"Gender Distribution\"\u001b[0m\u001b[0;34m,\u001b[0m\u001b[0;34m\"Cholesterol Distribution\"\u001b[0m\u001b[0;34m,\u001b[0m \u001b[0;34m\"Glucose Distribution\"\u001b[0m\u001b[0;34m,\u001b[0m \u001b[0;34m\"Smoking Distribution\"\u001b[0m\u001b[0;34m,\u001b[0m \u001b[0;34m\"Fitness Distribution\"\u001b[0m\u001b[0;34m)\u001b[0m\u001b[0;34m,\u001b[0m \u001b[0mspecs\u001b[0m\u001b[0;34m=\u001b[0m\u001b[0;34m[\u001b[0m\u001b[0;34m[\u001b[0m\u001b[0;34m{\u001b[0m\u001b[0;34m'type'\u001b[0m\u001b[0;34m:\u001b[0m\u001b[0;34m'domain'\u001b[0m\u001b[0;34m}\u001b[0m\u001b[0;34m,\u001b[0m \u001b[0;34m{\u001b[0m\u001b[0;34m'type'\u001b[0m\u001b[0;34m:\u001b[0m\u001b[0;34m'domain'\u001b[0m\u001b[0;34m}\u001b[0m\u001b[0;34m,\u001b[0m \u001b[0;34m{\u001b[0m\u001b[0;34m'type'\u001b[0m\u001b[0;34m:\u001b[0m\u001b[0;34m'domain'\u001b[0m\u001b[0;34m}\u001b[0m\u001b[0;34m]\u001b[0m\u001b[0;34m,\u001b[0m \u001b[0;34m[\u001b[0m\u001b[0;34m{\u001b[0m\u001b[0;34m'type'\u001b[0m\u001b[0;34m:\u001b[0m\u001b[0;34m'domain'\u001b[0m\u001b[0;34m}\u001b[0m\u001b[0;34m,\u001b[0m \u001b[0;34m{\u001b[0m\u001b[0;34m'type'\u001b[0m\u001b[0;34m:\u001b[0m\u001b[0;34m'domain'\u001b[0m\u001b[0;34m}\u001b[0m\u001b[0;34m,\u001b[0m \u001b[0;34m{\u001b[0m\u001b[0;34m'type'\u001b[0m\u001b[0;34m:\u001b[0m\u001b[0;34m'domain'\u001b[0m\u001b[0;34m}\u001b[0m\u001b[0;34m]\u001b[0m\u001b[0;34m]\u001b[0m\u001b[0;34m)\u001b[0m\u001b[0;34m\u001b[0m\u001b[0;34m\u001b[0m\u001b[0m\n\u001b[0m\u001b[1;32m      3\u001b[0m \u001b[0;34m\u001b[0m\u001b[0m\n\u001b[1;32m      4\u001b[0m \u001b[0mfig\u001b[0m\u001b[0;34m.\u001b[0m\u001b[0madd_trace\u001b[0m\u001b[0;34m(\u001b[0m\u001b[0mgo\u001b[0m\u001b[0;34m.\u001b[0m\u001b[0mPie\u001b[0m\u001b[0;34m(\u001b[0m\u001b[0mlabels\u001b[0m\u001b[0;34m=\u001b[0m\u001b[0mdf_new2\u001b[0m\u001b[0;34m[\u001b[0m\u001b[0mdf_new2\u001b[0m\u001b[0;34m[\u001b[0m\u001b[0;34m'cardio'\u001b[0m\u001b[0;34m]\u001b[0m \u001b[0;34m==\u001b[0m \u001b[0;36m1\u001b[0m\u001b[0;34m]\u001b[0m\u001b[0;34m[\u001b[0m\u001b[0;34m'alco'\u001b[0m\u001b[0;34m]\u001b[0m\u001b[0;34m.\u001b[0m\u001b[0mvalue_counts\u001b[0m\u001b[0;34m(\u001b[0m\u001b[0;34m)\u001b[0m\u001b[0;34m.\u001b[0m\u001b[0mindex\u001b[0m\u001b[0;34m.\u001b[0m\u001b[0mto_list\u001b[0m\u001b[0;34m(\u001b[0m\u001b[0;34m)\u001b[0m\u001b[0;34m,\u001b[0m\u001b[0mvalues\u001b[0m\u001b[0;34m=\u001b[0m\u001b[0mdf_new2\u001b[0m\u001b[0;34m[\u001b[0m\u001b[0mdf_new2\u001b[0m\u001b[0;34m[\u001b[0m\u001b[0;34m'cardio'\u001b[0m\u001b[0;34m]\u001b[0m \u001b[0;34m==\u001b[0m \u001b[0;36m1\u001b[0m\u001b[0;34m]\u001b[0m\u001b[0;34m[\u001b[0m\u001b[0;34m'alco'\u001b[0m\u001b[0;34m]\u001b[0m\u001b[0;34m.\u001b[0m\u001b[0mvalue_counts\u001b[0m\u001b[0;34m(\u001b[0m\u001b[0;34m)\u001b[0m\u001b[0;34m.\u001b[0m\u001b[0mvalues\u001b[0m\u001b[0;34m)\u001b[0m\u001b[0;34m,\u001b[0m \u001b[0;36m1\u001b[0m\u001b[0;34m,\u001b[0m \u001b[0;36m1\u001b[0m\u001b[0;34m)\u001b[0m\u001b[0;34m\u001b[0m\u001b[0;34m\u001b[0m\u001b[0m\n\u001b[1;32m      5\u001b[0m \u001b[0mfig\u001b[0m\u001b[0;34m.\u001b[0m\u001b[0madd_trace\u001b[0m\u001b[0;34m(\u001b[0m\u001b[0mgo\u001b[0m\u001b[0;34m.\u001b[0m\u001b[0mPie\u001b[0m\u001b[0;34m(\u001b[0m\u001b[0mlabels\u001b[0m\u001b[0;34m=\u001b[0m\u001b[0mdf_new2\u001b[0m\u001b[0;34m[\u001b[0m\u001b[0mdf_new2\u001b[0m\u001b[0;34m[\u001b[0m\u001b[0;34m'cardio'\u001b[0m\u001b[0;34m]\u001b[0m \u001b[0;34m==\u001b[0m \u001b[0;36m1\u001b[0m\u001b[0;34m]\u001b[0m\u001b[0;34m[\u001b[0m\u001b[0;34m'gender'\u001b[0m\u001b[0;34m]\u001b[0m\u001b[0;34m.\u001b[0m\u001b[0mvalue_counts\u001b[0m\u001b[0;34m(\u001b[0m\u001b[0;34m)\u001b[0m\u001b[0;34m.\u001b[0m\u001b[0mindex\u001b[0m\u001b[0;34m.\u001b[0m\u001b[0mto_list\u001b[0m\u001b[0;34m(\u001b[0m\u001b[0;34m)\u001b[0m\u001b[0;34m,\u001b[0m\u001b[0mvalues\u001b[0m\u001b[0;34m=\u001b[0m\u001b[0mdf_new2\u001b[0m\u001b[0;34m[\u001b[0m\u001b[0mdf_new2\u001b[0m\u001b[0;34m[\u001b[0m\u001b[0;34m'cardio'\u001b[0m\u001b[0;34m]\u001b[0m \u001b[0;34m==\u001b[0m \u001b[0;36m1\u001b[0m\u001b[0;34m]\u001b[0m\u001b[0;34m[\u001b[0m\u001b[0;34m'gender'\u001b[0m\u001b[0;34m]\u001b[0m\u001b[0;34m.\u001b[0m\u001b[0mvalue_counts\u001b[0m\u001b[0;34m(\u001b[0m\u001b[0;34m)\u001b[0m\u001b[0;34m.\u001b[0m\u001b[0mvalues\u001b[0m\u001b[0;34m)\u001b[0m\u001b[0;34m,\u001b[0m \u001b[0;36m1\u001b[0m\u001b[0;34m,\u001b[0m \u001b[0;36m2\u001b[0m\u001b[0;34m)\u001b[0m\u001b[0;34m\u001b[0m\u001b[0;34m\u001b[0m\u001b[0m\n",
            "\u001b[0;32m/usr/local/lib/python3.7/dist-packages/plotly/subplots.py\u001b[0m in \u001b[0;36mmake_subplots\u001b[0;34m(rows, cols, shared_xaxes, shared_yaxes, start_cell, print_grid, horizontal_spacing, vertical_spacing, subplot_titles, column_widths, row_heights, specs, insets, column_titles, row_titles, x_title, y_title, **kwargs)\u001b[0m\n\u001b[1;32m    439\u001b[0m \u001b[0mdimensions\u001b[0m \u001b[0;34m(\u001b[0m\u001b[0;34m{\u001b[0m\u001b[0mrows\u001b[0m\u001b[0;34m}\u001b[0m \u001b[0mx\u001b[0m \u001b[0;34m{\u001b[0m\u001b[0mcols\u001b[0m\u001b[0;34m}\u001b[0m\u001b[0;34m)\u001b[0m\u001b[0;34m.\u001b[0m\u001b[0;34m\u001b[0m\u001b[0;34m\u001b[0m\u001b[0m\n\u001b[1;32m    440\u001b[0m     Received value of type {typ}: {val}\"\"\".format(\n\u001b[0;32m--> 441\u001b[0;31m                 \u001b[0mrows\u001b[0m\u001b[0;34m=\u001b[0m\u001b[0mrows\u001b[0m\u001b[0;34m,\u001b[0m \u001b[0mcols\u001b[0m\u001b[0;34m=\u001b[0m\u001b[0mcols\u001b[0m\u001b[0;34m,\u001b[0m \u001b[0mtyp\u001b[0m\u001b[0;34m=\u001b[0m\u001b[0mtype\u001b[0m\u001b[0;34m(\u001b[0m\u001b[0mspecs\u001b[0m\u001b[0;34m)\u001b[0m\u001b[0;34m,\u001b[0m \u001b[0mval\u001b[0m\u001b[0;34m=\u001b[0m\u001b[0mrepr\u001b[0m\u001b[0;34m(\u001b[0m\u001b[0mspecs\u001b[0m\u001b[0;34m)\u001b[0m\u001b[0;34m\u001b[0m\u001b[0;34m\u001b[0m\u001b[0m\n\u001b[0m\u001b[1;32m    442\u001b[0m             )\n\u001b[1;32m    443\u001b[0m         )\n",
            "\u001b[0;31mValueError\u001b[0m: \nThe 'specs' argument to make_subplots must be a 2D list of dictionaries with dimensions (3 x 2).\n    Received value of type <class 'list'>: [[{'type': 'domain'}, {'type': 'domain'}, {'type': 'domain'}], [{'type': 'domain'}, {'type': 'domain'}, {'type': 'domain'}]]"
          ]
        }
      ]
    },
    {
      "cell_type": "code",
      "metadata": {
        "colab": {
          "base_uri": "https://localhost:8080/",
          "height": 542
        },
        "id": "qHVGcjw7AqTI",
        "outputId": "95886b76-a6ab-4f6a-ce51-32910142ff7a"
      },
      "source": [
        "#Distribution of NON CVD with various values\n",
        "fig = make_subplots(rows=2, cols=3,subplot_titles=(\"Alcohol Distribution\", \"Gender Distribution\",\"Cholesterol Distribution\", \"Glucose Distribution\", \"Smoking Distribution\", \"Fitness Distribution\"), specs=[[{'type':'domain'}, {'type':'domain'}, {'type':'domain'}], [{'type':'domain'}, {'type':'domain'}, {'type':'domain'}]])\n",
        "\n",
        "fig.add_trace(go.Pie(labels=df_new2[df_new2['cardio'] == 0]['alco'].value_counts().index.to_list(),values=df_new2[df_new2['cardio'] == 0]['alco'].value_counts().values), 1, 1)\n",
        "fig.add_trace(go.Pie(labels=df_new2[df_new2['cardio'] == 0]['gender'].value_counts().index.to_list(),values=df_new2[df_new2['cardio'] == 0]['gender'].value_counts().values), 1, 2)\n",
        "\n",
        "fig.add_trace(go.Pie(labels=df_new2[df_new2['cardio'] == 0]['cholesterol'].value_counts().index.to_list(),values=df_new2[df_new2['cardio'] == 0]['cholesterol'].value_counts().values), 1, 3)\n",
        "fig.add_trace(go.Pie(labels=df_new2[df_new2['cardio'] == 0]['gluc'].value_counts().index.to_list(),values=df_new2[df_new2['cardio'] == 0]['gluc'].value_counts().values), 2, 1)\n",
        "\n",
        "fig.add_trace(go.Pie(labels=df_new2[df_new2['cardio'] == 0]['smoke'].value_counts().index.to_list(),values=df_new2[df_new2['cardio'] == 0]['smoke'].value_counts().values), 2, 2)\n",
        "fig.add_trace(go.Pie(labels=df_new2[df_new2['cardio'] == 0]['active'].value_counts().index.to_list(),values=df_new2[df_new2['cardio'] == 0]['active'].value_counts().values), 2, 3)\n",
        "\n",
        "\n",
        "fig.update_traces(textposition='inside')\n",
        "fig.update_layout(title_text=\"Distribution of Various Values Not having CVD\")"
      ],
      "execution_count": null,
      "outputs": [
        {
          "output_type": "display_data",
          "data": {
            "text/html": [
              "<html>\n",
              "<head><meta charset=\"utf-8\" /></head>\n",
              "<body>\n",
              "    <div>\n",
              "            <script src=\"https://cdnjs.cloudflare.com/ajax/libs/mathjax/2.7.5/MathJax.js?config=TeX-AMS-MML_SVG\"></script><script type=\"text/javascript\">if (window.MathJax) {MathJax.Hub.Config({SVG: {font: \"STIX-Web\"}});}</script>\n",
              "                <script type=\"text/javascript\">window.PlotlyConfig = {MathJaxConfig: 'local'};</script>\n",
              "        <script src=\"https://cdn.plot.ly/plotly-latest.min.js\"></script>    \n",
              "            <div id=\"69343003-886c-4a94-b87c-710799a666c2\" class=\"plotly-graph-div\" style=\"height:525px; width:100%;\"></div>\n",
              "            <script type=\"text/javascript\">\n",
              "                \n",
              "                    window.PLOTLYENV=window.PLOTLYENV || {};\n",
              "                    \n",
              "                if (document.getElementById(\"69343003-886c-4a94-b87c-710799a666c2\")) {\n",
              "                    Plotly.newPlot(\n",
              "                        '69343003-886c-4a94-b87c-710799a666c2',\n",
              "                        [{\"domain\": {\"x\": [0.0, 0.2888888888888889], \"y\": [0.625, 1.0]}, \"labels\": [\"Not Ajjlcoholic\", \"Alcoholic\"], \"textposition\": \"inside\", \"type\": \"pie\", \"values\": [31593, 1867]}, {\"domain\": {\"x\": [0.35555555555555557, 0.6444444444444445], \"y\": [0.625, 1.0]}, \"labels\": [\"Female\", \"Male\"], \"textposition\": \"inside\", \"type\": \"pie\", \"values\": [21690, 11770]}, {\"domain\": {\"x\": [0.7111111111111111, 1.0], \"y\": [0.625, 1.0]}, \"labels\": [\"Normal\", \"Above_Normal\", \"High\"], \"textposition\": \"inside\", \"type\": \"pie\", \"values\": [28049, 3578, 1833]}, {\"domain\": {\"x\": [0.0, 0.2888888888888889], \"y\": [0.0, 0.375]}, \"labels\": [\"Normal\", \"Above_Normal\", \"High\"], \"textposition\": \"inside\", \"type\": \"pie\", \"values\": [29507, 1999, 1954]}, {\"domain\": {\"x\": [0.35555555555555557, 0.6444444444444445], \"y\": [0.0, 0.375]}, \"labels\": [\"Non Smoker\", \"Smoker\"], \"textposition\": \"inside\", \"type\": \"pie\", \"values\": [30339, 3121]}, {\"domain\": {\"x\": [0.7111111111111111, 1.0], \"y\": [0.0, 0.375]}, \"labels\": [\"Doing physical Activities\", \"Not doing Physical Activities\"], \"textposition\": \"inside\", \"type\": \"pie\", \"values\": [27382, 6078]}],\n",
              "                        {\"annotations\": [{\"font\": {\"size\": 16}, \"showarrow\": false, \"text\": \"Alcohol Distribution\", \"x\": 0.14444444444444446, \"xanchor\": \"center\", \"xref\": \"paper\", \"y\": 1.0, \"yanchor\": \"bottom\", \"yref\": \"paper\"}, {\"font\": {\"size\": 16}, \"showarrow\": false, \"text\": \"Gender Distribution\", \"x\": 0.5, \"xanchor\": \"center\", \"xref\": \"paper\", \"y\": 1.0, \"yanchor\": \"bottom\", \"yref\": \"paper\"}, {\"font\": {\"size\": 16}, \"showarrow\": false, \"text\": \"Cholesterol Distribution\", \"x\": 0.8555555555555556, \"xanchor\": \"center\", \"xref\": \"paper\", \"y\": 1.0, \"yanchor\": \"bottom\", \"yref\": \"paper\"}, {\"font\": {\"size\": 16}, \"showarrow\": false, \"text\": \"Glucose Distribution\", \"x\": 0.14444444444444446, \"xanchor\": \"center\", \"xref\": \"paper\", \"y\": 0.375, \"yanchor\": \"bottom\", \"yref\": \"paper\"}, {\"font\": {\"size\": 16}, \"showarrow\": false, \"text\": \"Smoking Distribution\", \"x\": 0.5, \"xanchor\": \"center\", \"xref\": \"paper\", \"y\": 0.375, \"yanchor\": \"bottom\", \"yref\": \"paper\"}, {\"font\": {\"size\": 16}, \"showarrow\": false, \"text\": \"Fitness Distribution\", \"x\": 0.8555555555555556, \"xanchor\": \"center\", \"xref\": \"paper\", \"y\": 0.375, \"yanchor\": \"bottom\", \"yref\": \"paper\"}], \"template\": {\"data\": {\"bar\": [{\"error_x\": {\"color\": \"#2a3f5f\"}, \"error_y\": {\"color\": \"#2a3f5f\"}, \"marker\": {\"line\": {\"color\": \"#E5ECF6\", \"width\": 0.5}}, \"type\": \"bar\"}], \"barpolar\": [{\"marker\": {\"line\": {\"color\": \"#E5ECF6\", \"width\": 0.5}}, \"type\": \"barpolar\"}], \"carpet\": [{\"aaxis\": {\"endlinecolor\": \"#2a3f5f\", \"gridcolor\": \"white\", \"linecolor\": \"white\", \"minorgridcolor\": \"white\", \"startlinecolor\": \"#2a3f5f\"}, \"baxis\": {\"endlinecolor\": \"#2a3f5f\", \"gridcolor\": \"white\", \"linecolor\": \"white\", \"minorgridcolor\": \"white\", \"startlinecolor\": \"#2a3f5f\"}, \"type\": \"carpet\"}], \"choropleth\": [{\"colorbar\": {\"outlinewidth\": 0, \"ticks\": \"\"}, \"type\": \"choropleth\"}], \"contour\": [{\"colorbar\": {\"outlinewidth\": 0, \"ticks\": \"\"}, \"colorscale\": [[0.0, \"#0d0887\"], [0.1111111111111111, \"#46039f\"], [0.2222222222222222, \"#7201a8\"], [0.3333333333333333, \"#9c179e\"], [0.4444444444444444, \"#bd3786\"], [0.5555555555555556, \"#d8576b\"], [0.6666666666666666, \"#ed7953\"], [0.7777777777777778, \"#fb9f3a\"], [0.8888888888888888, \"#fdca26\"], [1.0, \"#f0f921\"]], \"type\": \"contour\"}], \"contourcarpet\": [{\"colorbar\": {\"outlinewidth\": 0, \"ticks\": \"\"}, \"type\": \"contourcarpet\"}], \"heatmap\": [{\"colorbar\": {\"outlinewidth\": 0, \"ticks\": \"\"}, \"colorscale\": [[0.0, \"#0d0887\"], [0.1111111111111111, \"#46039f\"], [0.2222222222222222, \"#7201a8\"], [0.3333333333333333, \"#9c179e\"], [0.4444444444444444, \"#bd3786\"], [0.5555555555555556, \"#d8576b\"], [0.6666666666666666, \"#ed7953\"], [0.7777777777777778, \"#fb9f3a\"], [0.8888888888888888, \"#fdca26\"], [1.0, \"#f0f921\"]], \"type\": \"heatmap\"}], \"heatmapgl\": [{\"colorbar\": {\"outlinewidth\": 0, \"ticks\": \"\"}, \"colorscale\": [[0.0, \"#0d0887\"], [0.1111111111111111, \"#46039f\"], [0.2222222222222222, \"#7201a8\"], [0.3333333333333333, \"#9c179e\"], [0.4444444444444444, \"#bd3786\"], [0.5555555555555556, \"#d8576b\"], [0.6666666666666666, \"#ed7953\"], [0.7777777777777778, \"#fb9f3a\"], [0.8888888888888888, \"#fdca26\"], [1.0, \"#f0f921\"]], \"type\": \"heatmapgl\"}], \"histogram\": [{\"marker\": {\"colorbar\": {\"outlinewidth\": 0, \"ticks\": \"\"}}, \"type\": \"histogram\"}], \"histogram2d\": [{\"colorbar\": {\"outlinewidth\": 0, \"ticks\": \"\"}, \"colorscale\": [[0.0, \"#0d0887\"], [0.1111111111111111, \"#46039f\"], [0.2222222222222222, \"#7201a8\"], [0.3333333333333333, \"#9c179e\"], [0.4444444444444444, \"#bd3786\"], [0.5555555555555556, \"#d8576b\"], [0.6666666666666666, \"#ed7953\"], [0.7777777777777778, \"#fb9f3a\"], [0.8888888888888888, \"#fdca26\"], [1.0, \"#f0f921\"]], \"type\": \"histogram2d\"}], \"histogram2dcontour\": [{\"colorbar\": {\"outlinewidth\": 0, \"ticks\": \"\"}, \"colorscale\": [[0.0, \"#0d0887\"], [0.1111111111111111, \"#46039f\"], [0.2222222222222222, \"#7201a8\"], [0.3333333333333333, \"#9c179e\"], [0.4444444444444444, \"#bd3786\"], [0.5555555555555556, \"#d8576b\"], [0.6666666666666666, \"#ed7953\"], [0.7777777777777778, \"#fb9f3a\"], [0.8888888888888888, \"#fdca26\"], [1.0, \"#f0f921\"]], \"type\": \"histogram2dcontour\"}], \"mesh3d\": [{\"colorbar\": {\"outlinewidth\": 0, \"ticks\": \"\"}, \"type\": \"mesh3d\"}], \"parcoords\": [{\"line\": {\"colorbar\": {\"outlinewidth\": 0, \"ticks\": \"\"}}, \"type\": \"parcoords\"}], \"pie\": [{\"automargin\": true, \"type\": \"pie\"}], \"scatter\": [{\"marker\": {\"colorbar\": {\"outlinewidth\": 0, \"ticks\": \"\"}}, \"type\": \"scatter\"}], \"scatter3d\": [{\"line\": {\"colorbar\": {\"outlinewidth\": 0, \"ticks\": \"\"}}, \"marker\": {\"colorbar\": {\"outlinewidth\": 0, \"ticks\": \"\"}}, \"type\": \"scatter3d\"}], \"scattercarpet\": [{\"marker\": {\"colorbar\": {\"outlinewidth\": 0, \"ticks\": \"\"}}, \"type\": \"scattercarpet\"}], \"scattergeo\": [{\"marker\": {\"colorbar\": {\"outlinewidth\": 0, \"ticks\": \"\"}}, \"type\": \"scattergeo\"}], \"scattergl\": [{\"marker\": {\"colorbar\": {\"outlinewidth\": 0, \"ticks\": \"\"}}, \"type\": \"scattergl\"}], \"scattermapbox\": [{\"marker\": {\"colorbar\": {\"outlinewidth\": 0, \"ticks\": \"\"}}, \"type\": \"scattermapbox\"}], \"scatterpolar\": [{\"marker\": {\"colorbar\": {\"outlinewidth\": 0, \"ticks\": \"\"}}, \"type\": \"scatterpolar\"}], \"scatterpolargl\": [{\"marker\": {\"colorbar\": {\"outlinewidth\": 0, \"ticks\": \"\"}}, \"type\": \"scatterpolargl\"}], \"scatterternary\": [{\"marker\": {\"colorbar\": {\"outlinewidth\": 0, \"ticks\": \"\"}}, \"type\": \"scatterternary\"}], \"surface\": [{\"colorbar\": {\"outlinewidth\": 0, \"ticks\": \"\"}, \"colorscale\": [[0.0, \"#0d0887\"], [0.1111111111111111, \"#46039f\"], [0.2222222222222222, \"#7201a8\"], [0.3333333333333333, \"#9c179e\"], [0.4444444444444444, \"#bd3786\"], [0.5555555555555556, \"#d8576b\"], [0.6666666666666666, \"#ed7953\"], [0.7777777777777778, \"#fb9f3a\"], [0.8888888888888888, \"#fdca26\"], [1.0, \"#f0f921\"]], \"type\": \"surface\"}], \"table\": [{\"cells\": {\"fill\": {\"color\": \"#EBF0F8\"}, \"line\": {\"color\": \"white\"}}, \"header\": {\"fill\": {\"color\": \"#C8D4E3\"}, \"line\": {\"color\": \"white\"}}, \"type\": \"table\"}]}, \"layout\": {\"annotationdefaults\": {\"arrowcolor\": \"#2a3f5f\", \"arrowhead\": 0, \"arrowwidth\": 1}, \"coloraxis\": {\"colorbar\": {\"outlinewidth\": 0, \"ticks\": \"\"}}, \"colorscale\": {\"diverging\": [[0, \"#8e0152\"], [0.1, \"#c51b7d\"], [0.2, \"#de77ae\"], [0.3, \"#f1b6da\"], [0.4, \"#fde0ef\"], [0.5, \"#f7f7f7\"], [0.6, \"#e6f5d0\"], [0.7, \"#b8e186\"], [0.8, \"#7fbc41\"], [0.9, \"#4d9221\"], [1, \"#276419\"]], \"sequential\": [[0.0, \"#0d0887\"], [0.1111111111111111, \"#46039f\"], [0.2222222222222222, \"#7201a8\"], [0.3333333333333333, \"#9c179e\"], [0.4444444444444444, \"#bd3786\"], [0.5555555555555556, \"#d8576b\"], [0.6666666666666666, \"#ed7953\"], [0.7777777777777778, \"#fb9f3a\"], [0.8888888888888888, \"#fdca26\"], [1.0, \"#f0f921\"]], \"sequentialminus\": [[0.0, \"#0d0887\"], [0.1111111111111111, \"#46039f\"], [0.2222222222222222, \"#7201a8\"], [0.3333333333333333, \"#9c179e\"], [0.4444444444444444, \"#bd3786\"], [0.5555555555555556, \"#d8576b\"], [0.6666666666666666, \"#ed7953\"], [0.7777777777777778, \"#fb9f3a\"], [0.8888888888888888, \"#fdca26\"], [1.0, \"#f0f921\"]]}, \"colorway\": [\"#636efa\", \"#EF553B\", \"#00cc96\", \"#ab63fa\", \"#FFA15A\", \"#19d3f3\", \"#FF6692\", \"#B6E880\", \"#FF97FF\", \"#FECB52\"], \"font\": {\"color\": \"#2a3f5f\"}, \"geo\": {\"bgcolor\": \"white\", \"lakecolor\": \"white\", \"landcolor\": \"#E5ECF6\", \"showlakes\": true, \"showland\": true, \"subunitcolor\": \"white\"}, \"hoverlabel\": {\"align\": \"left\"}, \"hovermode\": \"closest\", \"mapbox\": {\"style\": \"light\"}, \"paper_bgcolor\": \"white\", \"plot_bgcolor\": \"#E5ECF6\", \"polar\": {\"angularaxis\": {\"gridcolor\": \"white\", \"linecolor\": \"white\", \"ticks\": \"\"}, \"bgcolor\": \"#E5ECF6\", \"radialaxis\": {\"gridcolor\": \"white\", \"linecolor\": \"white\", \"ticks\": \"\"}}, \"scene\": {\"xaxis\": {\"backgroundcolor\": \"#E5ECF6\", \"gridcolor\": \"white\", \"gridwidth\": 2, \"linecolor\": \"white\", \"showbackground\": true, \"ticks\": \"\", \"zerolinecolor\": \"white\"}, \"yaxis\": {\"backgroundcolor\": \"#E5ECF6\", \"gridcolor\": \"white\", \"gridwidth\": 2, \"linecolor\": \"white\", \"showbackground\": true, \"ticks\": \"\", \"zerolinecolor\": \"white\"}, \"zaxis\": {\"backgroundcolor\": \"#E5ECF6\", \"gridcolor\": \"white\", \"gridwidth\": 2, \"linecolor\": \"white\", \"showbackground\": true, \"ticks\": \"\", \"zerolinecolor\": \"white\"}}, \"shapedefaults\": {\"line\": {\"color\": \"#2a3f5f\"}}, \"ternary\": {\"aaxis\": {\"gridcolor\": \"white\", \"linecolor\": \"white\", \"ticks\": \"\"}, \"baxis\": {\"gridcolor\": \"white\", \"linecolor\": \"white\", \"ticks\": \"\"}, \"bgcolor\": \"#E5ECF6\", \"caxis\": {\"gridcolor\": \"white\", \"linecolor\": \"white\", \"ticks\": \"\"}}, \"title\": {\"x\": 0.05}, \"xaxis\": {\"automargin\": true, \"gridcolor\": \"white\", \"linecolor\": \"white\", \"ticks\": \"\", \"title\": {\"standoff\": 15}, \"zerolinecolor\": \"white\", \"zerolinewidth\": 2}, \"yaxis\": {\"automargin\": true, \"gridcolor\": \"white\", \"linecolor\": \"white\", \"ticks\": \"\", \"title\": {\"standoff\": 15}, \"zerolinecolor\": \"white\", \"zerolinewidth\": 2}}}, \"title\": {\"text\": \"Distribution of Various Values Not having CVD\"}},\n",
              "                        {\"responsive\": true}\n",
              "                    ).then(function(){\n",
              "                            \n",
              "var gd = document.getElementById('69343003-886c-4a94-b87c-710799a666c2');\n",
              "var x = new MutationObserver(function (mutations, observer) {{\n",
              "        var display = window.getComputedStyle(gd).display;\n",
              "        if (!display || display === 'none') {{\n",
              "            console.log([gd, 'removed!']);\n",
              "            Plotly.purge(gd);\n",
              "            observer.disconnect();\n",
              "        }}\n",
              "}});\n",
              "\n",
              "// Listen for the removal of the full notebook cells\n",
              "var notebookContainer = gd.closest('#notebook-container');\n",
              "if (notebookContainer) {{\n",
              "    x.observe(notebookContainer, {childList: true});\n",
              "}}\n",
              "\n",
              "// Listen for the clearing of the current output cell\n",
              "var outputEl = gd.closest('.output');\n",
              "if (outputEl) {{\n",
              "    x.observe(outputEl, {childList: true});\n",
              "}}\n",
              "\n",
              "                        })\n",
              "                };\n",
              "                \n",
              "            </script>\n",
              "        </div>\n",
              "</body>\n",
              "</html>"
            ]
          },
          "metadata": {
            "tags": []
          }
        }
      ]
    },
    {
      "cell_type": "markdown",
      "metadata": {
        "id": "Q39rDbJVA-Rq"
      },
      "source": [
        "**Basis of Age**"
      ]
    },
    {
      "cell_type": "code",
      "metadata": {
        "id": "MQ_CM7h7A6et"
      },
      "source": [
        "# sns.set_theme(style=\"darkgrid\")\n",
        "# #Visualizing the CVD with respect to age.\n",
        "# sns.set(rc={'figure.figsize':(9,7)})\n",
        "# sns.countplot(x='age', hue='cardio', data = data)\n",
        "#It is obtained that people with age 56 or more are vulnerable towards cardiovascular disease"
      ],
      "execution_count": null,
      "outputs": []
    },
    {
      "cell_type": "code",
      "metadata": {
        "colab": {
          "base_uri": "https://localhost:8080/"
        },
        "id": "47mzP39jBRKJ",
        "outputId": "f8ce0800-4a64-4e89-da15-006176b01a6d"
      },
      "source": [
        "print('Statistics of Men Diagnosed with Heart Disease:')\n",
        "print('The min age for men diagnosed with heart disease is: %s years'%data[(data['cardio']==1) & (data['gender']==1)]['age'].min())\n",
        "print('The max age for men diagnosed with heart disease is: %s years'%data[(data['cardio']==1) & (data['gender']==1)]['age'].max())\n",
        "print('The average age for men diagnosed with heart disease is: %s years'%data[(data['cardio']==1) & (data['gender']==1)]['age'].mean())\n",
        "print('\\n')\n",
        "\n",
        "print('Statistics of Women Diagnosed with Heart Disease:')\n",
        "print( 'The min age for wonmen diagnosed with heart disease is: %s years'%data[(data['cardio']==1) & (data['gender']==2)]['age'].min())\n",
        "print( 'The max age for women diagnosed with heart disease is: %s years'%data[(data['cardio']==1) & (data['gender']==2)]['age'].max())\n",
        "print( 'The average age for women diagnosed with heart disease is: %s years'%data[(data['cardio']==1) & (data['gender']==2)]['age'].mean())"
      ],
      "execution_count": null,
      "outputs": [
        {
          "output_type": "stream",
          "text": [
            "Statistics of Men Diagnosed with Heart Disease:\n",
            "The min age for men diagnosed with heart disease is: 39.083890044901985 years\n",
            "The max age for men diagnosed with heart disease is: 64.89157814040082 years\n",
            "The average age for men diagnosed with heart disease is: 55.157087365062964 years\n",
            "\n",
            "\n",
            "Statistics of Women Diagnosed with Heart Disease:\n",
            "The min age for wonmen diagnosed with heart disease is: 39.08936589639689 years\n",
            "The max age for women diagnosed with heart disease is: 64.92443324937028 years\n",
            "The average age for women diagnosed with heart disease is: 54.54728832467926 years\n"
          ],
          "name": "stdout"
        }
      ]
    },
    {
      "cell_type": "markdown",
      "metadata": {
        "id": "5hOgGp28B2rp"
      },
      "source": [
        "**Basis of Height and Weight**"
      ]
    },
    {
      "cell_type": "code",
      "metadata": {
        "colab": {
          "base_uri": "https://localhost:8080/"
        },
        "id": "cYcvTtONB19S",
        "outputId": "a7d6b8bc-8de6-47c0-e5e3-cadafc9e86d2"
      },
      "source": [
        "print('Height of women in centimeter ')\n",
        "data_women=data[data['gender'] == 1]\n",
        "print(data_women['height'].describe())\n",
        "\n",
        "print('\\n*****************************************************************************\\n')\n",
        "print('Height of men in centimeter')\n",
        "data_men=data[data['gender'] == 2]\n",
        "print(data_men['height'].describe())\n"
      ],
      "execution_count": null,
      "outputs": [
        {
          "output_type": "stream",
          "text": [
            "Height of women in centimeter \n",
            "count    43295.000000\n",
            "mean       161.561705\n",
            "std          6.629754\n",
            "min        130.000000\n",
            "25%        157.000000\n",
            "50%        162.000000\n",
            "75%        166.000000\n",
            "max        198.000000\n",
            "Name: height, dtype: float64\n",
            "\n",
            "*****************************************************************************\n",
            "\n",
            "Height of men in centimeter\n",
            "count    23548.000000\n",
            "mean       170.054569\n",
            "std          6.715183\n",
            "min        130.000000\n",
            "25%        166.000000\n",
            "50%        170.000000\n",
            "75%        175.000000\n",
            "max        207.000000\n",
            "Name: height, dtype: float64\n"
          ],
          "name": "stdout"
        }
      ]
    },
    {
      "cell_type": "code",
      "metadata": {
        "colab": {
          "base_uri": "https://localhost:8080/"
        },
        "id": "d5wWllMgBqmW",
        "outputId": "73ad32fc-3a4a-4694-b8ed-498d0781c62b"
      },
      "source": [
        "print('Weight of women in kg ')\n",
        "data_women=data[data['gender'] == 1]\n",
        "print(data_women['weight'].describe())\n",
        "\n",
        "print('\\n*****************************************************************************\\n')\n",
        "print('Weight of men in kg')\n",
        "data_men=data[data['gender'] == 2]\n",
        "print(data_men['weight'].describe())\n",
        "#min weight is 10 kg, and max is 200 kg -cleaning required"
      ],
      "execution_count": null,
      "outputs": [
        {
          "output_type": "stream",
          "text": [
            "Weight of women in kg \n",
            "count    43295.000000\n",
            "mean        72.831551\n",
            "std         13.811055\n",
            "min         45.800000\n",
            "25%         63.000000\n",
            "50%         70.000000\n",
            "75%         80.000000\n",
            "max        170.000000\n",
            "Name: weight, dtype: float64\n",
            "\n",
            "*****************************************************************************\n",
            "\n",
            "Weight of men in kg\n",
            "count    23548.000000\n",
            "mean        77.210349\n",
            "std         13.858364\n",
            "min         46.000000\n",
            "25%         68.000000\n",
            "50%         75.000000\n",
            "75%         85.000000\n",
            "max        171.000000\n",
            "Name: weight, dtype: float64\n"
          ],
          "name": "stdout"
        }
      ]
    },
    {
      "cell_type": "code",
      "metadata": {
        "colab": {
          "base_uri": "https://localhost:8080/",
          "height": 382
        },
        "id": "FsPHF5N_BJJy",
        "outputId": "07ccfbd4-e211-4a1b-e914-0df1e2743897"
      },
      "source": [
        "#visualizing categorical values with respect to target class\n",
        "data_long = pd.melt(data, id_vars=['cardio'], value_vars=['cholesterol','gluc', 'smoke', 'alco', 'active'])\n",
        "sns.catplot(x=\"variable\", hue=\"value\", col=\"cardio\",\n",
        "                data=data_long, kind=\"count\");"
      ],
      "execution_count": null,
      "outputs": [
        {
          "output_type": "display_data",
          "data": {
            "image/png": "[encoded data removed]",
            "text/plain": [
              "<Figure size 766.6x360 with 2 Axes>"
            ]
          },
          "metadata": {
            "tags": []
          }
        }
      ]
    },
    {
      "cell_type": "code",
      "metadata": {
        "colab": {
          "base_uri": "https://localhost:8080/",
          "height": 411
        },
        "id": "c61e53JeE4Rq",
        "outputId": "1853049c-9424-448d-8c93-f1a1466580b5"
      },
      "source": [
        "#Visulalizing the risk of CVD in people who drink and smoke\n",
        "fig= plt.figure(figsize= (6,6))\n",
        "data.groupby(['alco', 'smoke'])['cardio'].mean().plot()"
      ],
      "execution_count": null,
      "outputs": [
        {
          "output_type": "execute_result",
          "data": {
            "text/plain": [
              "<matplotlib.axes._subplots.AxesSubplot at 0x7f3e9063d2d0>"
            ]
          },
          "metadata": {
            "tags": []
          },
          "execution_count": 46
        },
        {
          "output_type": "display_data",
          "data": {
            "image/png": "[encoded data removed]",
            "text/plain": [
              "<Figure size 432x432 with 1 Axes>"
            ]
          },
          "metadata": {
            "tags": []
          }
        }
      ]
    },
    {
      "cell_type": "code",
      "metadata": {
        "colab": {
          "base_uri": "https://localhost:8080/",
          "height": 616
        },
        "id": "xVX1f22iFLTG",
        "outputId": "f5ff7bcd-ab51-473c-927d-195e142b0cb4"
      },
      "source": [
        "plt.subplots(figsize=(13,10))\n",
        "\n",
        "#Visulazing the correlation between all the features\n",
        "#sns.heatmap(df.corr(method='pearson'), annot = True)\n",
        "sns.heatmap(data.corr(), annot = True)"
      ],
      "execution_count": null,
      "outputs": [
        {
          "output_type": "execute_result",
          "data": {
            "text/plain": [
              "<matplotlib.axes._subplots.AxesSubplot at 0x7f3e90514450>"
            ]
          },
          "metadata": {
            "tags": []
          },
          "execution_count": 47
        },
        {
          "output_type": "display_data",
          "data": {
            "image/png": "[encoded data removed]",
            "text/plain": [
              "<Figure size 936x720 with 2 Axes>"
            ]
          },
          "metadata": {
            "tags": []
          }
        }
      ]
    },
    {
      "cell_type": "code",
      "metadata": {
        "colab": {
          "base_uri": "https://localhost:8080/",
          "height": 307
        },
        "id": "Dq0Nw7jm7Cp5",
        "outputId": "6c92be9d-4f3f-4a1c-abb6-534b498f39ed"
      },
      "source": [
        "data.describe()"
      ],
      "execution_count": null,
      "outputs": [
        {
          "output_type": "execute_result",
          "data": {
            "text/html": [
              "<div>\n",
              "<style scoped>\n",
              "    .dataframe tbody tr th:only-of-type {\n",
              "        vertical-align: middle;\n",
              "    }\n",
              "\n",
              "    .dataframe tbody tr th {\n",
              "        vertical-align: top;\n",
              "    }\n",
              "\n",
              "    .dataframe thead th {\n",
              "        text-align: right;\n",
              "    }\n",
              "</style>\n",
              "<table border=\"1\" class=\"dataframe\">\n",
              "  <thead>\n",
              "    <tr style=\"text-align: right;\">\n",
              "      <th></th>\n",
              "      <th>age</th>\n",
              "      <th>gender</th>\n",
              "      <th>height</th>\n",
              "      <th>weight</th>\n",
              "      <th>ap_hi</th>\n",
              "      <th>ap_lo</th>\n",
              "      <th>cholesterol</th>\n",
              "      <th>gluc</th>\n",
              "      <th>smoke</th>\n",
              "      <th>alco</th>\n",
              "      <th>active</th>\n",
              "      <th>cardio</th>\n",
              "    </tr>\n",
              "  </thead>\n",
              "  <tbody>\n",
              "    <tr>\n",
              "      <th>count</th>\n",
              "      <td>66843.000000</td>\n",
              "      <td>66843.000000</td>\n",
              "      <td>66843.000000</td>\n",
              "      <td>66843.000000</td>\n",
              "      <td>66843.000000</td>\n",
              "      <td>66843.000000</td>\n",
              "      <td>66843.000000</td>\n",
              "      <td>66843.000000</td>\n",
              "      <td>66843.000000</td>\n",
              "      <td>66843.000000</td>\n",
              "      <td>66843.000000</td>\n",
              "      <td>66843.000000</td>\n",
              "    </tr>\n",
              "    <tr>\n",
              "      <th>mean</th>\n",
              "      <td>53.349292</td>\n",
              "      <td>1.352288</td>\n",
              "      <td>164.553641</td>\n",
              "      <td>74.374150</td>\n",
              "      <td>127.013240</td>\n",
              "      <td>81.480305</td>\n",
              "      <td>1.365753</td>\n",
              "      <td>1.226366</td>\n",
              "      <td>0.088281</td>\n",
              "      <td>0.053484</td>\n",
              "      <td>0.803390</td>\n",
              "      <td>0.499424</td>\n",
              "    </tr>\n",
              "    <tr>\n",
              "      <th>std</th>\n",
              "      <td>6.741829</td>\n",
              "      <td>0.477687</td>\n",
              "      <td>7.798286</td>\n",
              "      <td>13.984946</td>\n",
              "      <td>15.589765</td>\n",
              "      <td>8.804559</td>\n",
              "      <td>0.680488</td>\n",
              "      <td>0.572865</td>\n",
              "      <td>0.283706</td>\n",
              "      <td>0.224997</td>\n",
              "      <td>0.397438</td>\n",
              "      <td>0.500003</td>\n",
              "    </tr>\n",
              "    <tr>\n",
              "      <th>min</th>\n",
              "      <td>29.564122</td>\n",
              "      <td>1.000000</td>\n",
              "      <td>130.000000</td>\n",
              "      <td>45.800000</td>\n",
              "      <td>93.000000</td>\n",
              "      <td>45.000000</td>\n",
              "      <td>1.000000</td>\n",
              "      <td>1.000000</td>\n",
              "      <td>0.000000</td>\n",
              "      <td>0.000000</td>\n",
              "      <td>0.000000</td>\n",
              "      <td>0.000000</td>\n",
              "    </tr>\n",
              "    <tr>\n",
              "      <th>25%</th>\n",
              "      <td>48.465393</td>\n",
              "      <td>1.000000</td>\n",
              "      <td>159.000000</td>\n",
              "      <td>65.000000</td>\n",
              "      <td>120.000000</td>\n",
              "      <td>80.000000</td>\n",
              "      <td>1.000000</td>\n",
              "      <td>1.000000</td>\n",
              "      <td>0.000000</td>\n",
              "      <td>0.000000</td>\n",
              "      <td>1.000000</td>\n",
              "      <td>0.000000</td>\n",
              "    </tr>\n",
              "    <tr>\n",
              "      <th>50%</th>\n",
              "      <td>53.969992</td>\n",
              "      <td>1.000000</td>\n",
              "      <td>165.000000</td>\n",
              "      <td>72.000000</td>\n",
              "      <td>120.000000</td>\n",
              "      <td>80.000000</td>\n",
              "      <td>1.000000</td>\n",
              "      <td>1.000000</td>\n",
              "      <td>0.000000</td>\n",
              "      <td>0.000000</td>\n",
              "      <td>1.000000</td>\n",
              "      <td>0.000000</td>\n",
              "    </tr>\n",
              "    <tr>\n",
              "      <th>75%</th>\n",
              "      <td>58.421860</td>\n",
              "      <td>2.000000</td>\n",
              "      <td>170.000000</td>\n",
              "      <td>82.000000</td>\n",
              "      <td>140.000000</td>\n",
              "      <td>90.000000</td>\n",
              "      <td>2.000000</td>\n",
              "      <td>1.000000</td>\n",
              "      <td>0.000000</td>\n",
              "      <td>0.000000</td>\n",
              "      <td>1.000000</td>\n",
              "      <td>1.000000</td>\n",
              "    </tr>\n",
              "    <tr>\n",
              "      <th>max</th>\n",
              "      <td>64.924433</td>\n",
              "      <td>2.000000</td>\n",
              "      <td>207.000000</td>\n",
              "      <td>171.000000</td>\n",
              "      <td>197.000000</td>\n",
              "      <td>119.000000</td>\n",
              "      <td>3.000000</td>\n",
              "      <td>3.000000</td>\n",
              "      <td>1.000000</td>\n",
              "      <td>1.000000</td>\n",
              "      <td>1.000000</td>\n",
              "      <td>1.000000</td>\n",
              "    </tr>\n",
              "  </tbody>\n",
              "</table>\n",
              "</div>"
            ],
            "text/plain": [
              "                age        gender  ...        active        cardio\n",
              "count  66843.000000  66843.000000  ...  66843.000000  66843.000000\n",
              "mean      53.349292      1.352288  ...      0.803390      0.499424\n",
              "std        6.741829      0.477687  ...      0.397438      0.500003\n",
              "min       29.564122      1.000000  ...      0.000000      0.000000\n",
              "25%       48.465393      1.000000  ...      1.000000      0.000000\n",
              "50%       53.969992      1.000000  ...      1.000000      0.000000\n",
              "75%       58.421860      2.000000  ...      1.000000      1.000000\n",
              "max       64.924433      2.000000  ...      1.000000      1.000000\n",
              "\n",
              "[8 rows x 12 columns]"
            ]
          },
          "metadata": {
            "tags": []
          },
          "execution_count": 25
        }
      ]
    },
    {
      "cell_type": "code",
      "metadata": {
        "id": "TabzNBwgFP5H"
      },
      "source": [
        "temp = pd.get_dummies(data['gender'])\n",
        "temp = temp.rename(columns={1: 'women', 2: 'men'})\n",
        "data = data.drop('gender', axis = 1)\n",
        "data = data.join(temp)\n",
        "\n",
        "data['bmi'] = data['weight']/ ((data['height']/100)**2)\n",
        "data = data.drop('weight', axis = 1)\n",
        "data = data.drop('height', axis = 1)"
      ],
      "execution_count": null,
      "outputs": []
    },
    {
      "cell_type": "markdown",
      "metadata": {
        "id": "1p8KDCOhqAJn"
      },
      "source": [
        ""
      ]
    },
    {
      "cell_type": "code",
      "metadata": {
        "id": "jk6-cQV97Tl5"
      },
      "source": [
        "Q1 = data.bmi.quantile(0)\n",
        "Q2 = data.bmi.quantile(0.999)\n",
        "data = data[(data.bmi > Q1) & (data.bmi < Q2)]"
      ],
      "execution_count": null,
      "outputs": []
    },
    {
      "cell_type": "code",
      "metadata": {
        "colab": {
          "base_uri": "https://localhost:8080/",
          "height": 307
        },
        "id": "eDwnmx_FfPuP",
        "outputId": "348b1c71-8ef5-47a6-a7c3-73cec67c0581"
      },
      "source": [
        "data.describe()"
      ],
      "execution_count": null,
      "outputs": [
        {
          "output_type": "execute_result",
          "data": {
            "text/html": [
              "<div>\n",
              "<style scoped>\n",
              "    .dataframe tbody tr th:only-of-type {\n",
              "        vertical-align: middle;\n",
              "    }\n",
              "\n",
              "    .dataframe tbody tr th {\n",
              "        vertical-align: top;\n",
              "    }\n",
              "\n",
              "    .dataframe thead th {\n",
              "        text-align: right;\n",
              "    }\n",
              "</style>\n",
              "<table border=\"1\" class=\"dataframe\">\n",
              "  <thead>\n",
              "    <tr style=\"text-align: right;\">\n",
              "      <th></th>\n",
              "      <th>age</th>\n",
              "      <th>ap_hi</th>\n",
              "      <th>ap_lo</th>\n",
              "      <th>cholesterol</th>\n",
              "      <th>gluc</th>\n",
              "      <th>smoke</th>\n",
              "      <th>alco</th>\n",
              "      <th>active</th>\n",
              "      <th>cardio</th>\n",
              "      <th>women</th>\n",
              "      <th>men</th>\n",
              "      <th>bmi</th>\n",
              "    </tr>\n",
              "  </thead>\n",
              "  <tbody>\n",
              "    <tr>\n",
              "      <th>count</th>\n",
              "      <td>66775.000000</td>\n",
              "      <td>66775.000000</td>\n",
              "      <td>66775.000000</td>\n",
              "      <td>66775.000000</td>\n",
              "      <td>66775.000000</td>\n",
              "      <td>66775.000000</td>\n",
              "      <td>66775.000000</td>\n",
              "      <td>66775.000000</td>\n",
              "      <td>66775.000000</td>\n",
              "      <td>66775.000000</td>\n",
              "      <td>66775.000000</td>\n",
              "      <td>66775.000000</td>\n",
              "    </tr>\n",
              "    <tr>\n",
              "      <th>mean</th>\n",
              "      <td>53.348562</td>\n",
              "      <td>127.003085</td>\n",
              "      <td>81.474324</td>\n",
              "      <td>1.365586</td>\n",
              "      <td>1.226133</td>\n",
              "      <td>0.088341</td>\n",
              "      <td>0.053478</td>\n",
              "      <td>0.803385</td>\n",
              "      <td>0.499259</td>\n",
              "      <td>0.647518</td>\n",
              "      <td>0.352482</td>\n",
              "      <td>27.480317</td>\n",
              "    </tr>\n",
              "    <tr>\n",
              "      <th>std</th>\n",
              "      <td>6.741609</td>\n",
              "      <td>15.583784</td>\n",
              "      <td>8.802815</td>\n",
              "      <td>0.680386</td>\n",
              "      <td>0.572602</td>\n",
              "      <td>0.283793</td>\n",
              "      <td>0.224987</td>\n",
              "      <td>0.397442</td>\n",
              "      <td>0.500003</td>\n",
              "      <td>0.477747</td>\n",
              "      <td>0.477747</td>\n",
              "      <td>5.044507</td>\n",
              "    </tr>\n",
              "    <tr>\n",
              "      <th>min</th>\n",
              "      <td>29.564122</td>\n",
              "      <td>93.000000</td>\n",
              "      <td>45.000000</td>\n",
              "      <td>1.000000</td>\n",
              "      <td>1.000000</td>\n",
              "      <td>0.000000</td>\n",
              "      <td>0.000000</td>\n",
              "      <td>0.000000</td>\n",
              "      <td>0.000000</td>\n",
              "      <td>0.000000</td>\n",
              "      <td>0.000000</td>\n",
              "      <td>14.609204</td>\n",
              "    </tr>\n",
              "    <tr>\n",
              "      <th>25%</th>\n",
              "      <td>48.464024</td>\n",
              "      <td>120.000000</td>\n",
              "      <td>80.000000</td>\n",
              "      <td>1.000000</td>\n",
              "      <td>1.000000</td>\n",
              "      <td>0.000000</td>\n",
              "      <td>0.000000</td>\n",
              "      <td>1.000000</td>\n",
              "      <td>0.000000</td>\n",
              "      <td>0.000000</td>\n",
              "      <td>0.000000</td>\n",
              "      <td>23.875115</td>\n",
              "    </tr>\n",
              "    <tr>\n",
              "      <th>50%</th>\n",
              "      <td>53.969992</td>\n",
              "      <td>120.000000</td>\n",
              "      <td>80.000000</td>\n",
              "      <td>1.000000</td>\n",
              "      <td>1.000000</td>\n",
              "      <td>0.000000</td>\n",
              "      <td>0.000000</td>\n",
              "      <td>1.000000</td>\n",
              "      <td>0.000000</td>\n",
              "      <td>1.000000</td>\n",
              "      <td>0.000000</td>\n",
              "      <td>26.397977</td>\n",
              "    </tr>\n",
              "    <tr>\n",
              "      <th>75%</th>\n",
              "      <td>58.421860</td>\n",
              "      <td>140.000000</td>\n",
              "      <td>90.000000</td>\n",
              "      <td>2.000000</td>\n",
              "      <td>1.000000</td>\n",
              "      <td>0.000000</td>\n",
              "      <td>0.000000</td>\n",
              "      <td>1.000000</td>\n",
              "      <td>1.000000</td>\n",
              "      <td>1.000000</td>\n",
              "      <td>1.000000</td>\n",
              "      <td>30.119376</td>\n",
              "    </tr>\n",
              "    <tr>\n",
              "      <th>max</th>\n",
              "      <td>64.924433</td>\n",
              "      <td>197.000000</td>\n",
              "      <td>119.000000</td>\n",
              "      <td>3.000000</td>\n",
              "      <td>3.000000</td>\n",
              "      <td>1.000000</td>\n",
              "      <td>1.000000</td>\n",
              "      <td>1.000000</td>\n",
              "      <td>1.000000</td>\n",
              "      <td>1.000000</td>\n",
              "      <td>1.000000</td>\n",
              "      <td>53.150759</td>\n",
              "    </tr>\n",
              "  </tbody>\n",
              "</table>\n",
              "</div>"
            ],
            "text/plain": [
              "                age         ap_hi  ...           men           bmi\n",
              "count  66775.000000  66775.000000  ...  66775.000000  66775.000000\n",
              "mean      53.348562    127.003085  ...      0.352482     27.480317\n",
              "std        6.741609     15.583784  ...      0.477747      5.044507\n",
              "min       29.564122     93.000000  ...      0.000000     14.609204\n",
              "25%       48.464024    120.000000  ...      0.000000     23.875115\n",
              "50%       53.969992    120.000000  ...      0.000000     26.397977\n",
              "75%       58.421860    140.000000  ...      1.000000     30.119376\n",
              "max       64.924433    197.000000  ...      1.000000     53.150759\n",
              "\n",
              "[8 rows x 12 columns]"
            ]
          },
          "metadata": {
            "tags": []
          },
          "execution_count": 30
        }
      ]
    },
    {
      "cell_type": "code",
      "metadata": {
        "colab": {
          "base_uri": "https://localhost:8080/",
          "height": 618
        },
        "id": "avfC3aGa3Zgq",
        "outputId": "63c2bfe3-9d77-468e-cd70-593d3143fc42"
      },
      "source": [
        "data['BMI'] = data['weight']/((data['height']/100)**2)\n",
        "sns.catplot(x=\"gender\", y=\"BMI\", hue=\"alco\", col=\"cardio\", data=data, color = \"orange\",palette = 'Accent', kind=\"box\", height=10, aspect=.7);"
      ],
      "execution_count": null,
      "outputs": [
        {
          "output_type": "error",
          "ename": "KeyError",
          "evalue": "ignored",
          "traceback": [
            "\u001b[0;31m---------------------------------------------------------------------------\u001b[0m",
            "\u001b[0;31mKeyError\u001b[0m                                  Traceback (most recent call last)",
            "\u001b[0;32m/usr/local/lib/python3.7/dist-packages/pandas/core/indexes/base.py\u001b[0m in \u001b[0;36mget_loc\u001b[0;34m(self, key, method, tolerance)\u001b[0m\n\u001b[1;32m   2897\u001b[0m             \u001b[0;32mtry\u001b[0m\u001b[0;34m:\u001b[0m\u001b[0;34m\u001b[0m\u001b[0;34m\u001b[0m\u001b[0m\n\u001b[0;32m-> 2898\u001b[0;31m                 \u001b[0;32mreturn\u001b[0m \u001b[0mself\u001b[0m\u001b[0;34m.\u001b[0m\u001b[0m_engine\u001b[0m\u001b[0;34m.\u001b[0m\u001b[0mget_loc\u001b[0m\u001b[0;34m(\u001b[0m\u001b[0mcasted_key\u001b[0m\u001b[0;34m)\u001b[0m\u001b[0;34m\u001b[0m\u001b[0;34m\u001b[0m\u001b[0m\n\u001b[0m\u001b[1;32m   2899\u001b[0m             \u001b[0;32mexcept\u001b[0m \u001b[0mKeyError\u001b[0m \u001b[0;32mas\u001b[0m \u001b[0merr\u001b[0m\u001b[0;34m:\u001b[0m\u001b[0;34m\u001b[0m\u001b[0;34m\u001b[0m\u001b[0m\n",
            "\u001b[0;32mpandas/_libs/index.pyx\u001b[0m in \u001b[0;36mpandas._libs.index.IndexEngine.get_loc\u001b[0;34m()\u001b[0m\n",
            "\u001b[0;32mpandas/_libs/index.pyx\u001b[0m in \u001b[0;36mpandas._libs.index.IndexEngine.get_loc\u001b[0;34m()\u001b[0m\n",
            "\u001b[0;32mpandas/_libs/hashtable_class_helper.pxi\u001b[0m in \u001b[0;36mpandas._libs.hashtable.PyObjectHashTable.get_item\u001b[0;34m()\u001b[0m\n",
            "\u001b[0;32mpandas/_libs/hashtable_class_helper.pxi\u001b[0m in \u001b[0;36mpandas._libs.hashtable.PyObjectHashTable.get_item\u001b[0;34m()\u001b[0m\n",
            "\u001b[0;31mKeyError\u001b[0m: 'weight'",
            "\nThe above exception was the direct cause of the following exception:\n",
            "\u001b[0;31mKeyError\u001b[0m                                  Traceback (most recent call last)",
            "\u001b[0;32m<ipython-input-31-3c56172b64a4>\u001b[0m in \u001b[0;36m<module>\u001b[0;34m()\u001b[0m\n\u001b[0;32m----> 1\u001b[0;31m \u001b[0mdata\u001b[0m\u001b[0;34m[\u001b[0m\u001b[0;34m'BMI'\u001b[0m\u001b[0;34m]\u001b[0m \u001b[0;34m=\u001b[0m \u001b[0mdata\u001b[0m\u001b[0;34m[\u001b[0m\u001b[0;34m'weight'\u001b[0m\u001b[0;34m]\u001b[0m\u001b[0;34m/\u001b[0m\u001b[0;34m(\u001b[0m\u001b[0;34m(\u001b[0m\u001b[0mdata\u001b[0m\u001b[0;34m[\u001b[0m\u001b[0;34m'height'\u001b[0m\u001b[0;34m]\u001b[0m\u001b[0;34m/\u001b[0m\u001b[0;36m100\u001b[0m\u001b[0;34m)\u001b[0m\u001b[0;34m**\u001b[0m\u001b[0;36m2\u001b[0m\u001b[0;34m)\u001b[0m\u001b[0;34m\u001b[0m\u001b[0;34m\u001b[0m\u001b[0m\n\u001b[0m\u001b[1;32m      2\u001b[0m \u001b[0msns\u001b[0m\u001b[0;34m.\u001b[0m\u001b[0mcatplot\u001b[0m\u001b[0;34m(\u001b[0m\u001b[0mx\u001b[0m\u001b[0;34m=\u001b[0m\u001b[0;34m\"gender\"\u001b[0m\u001b[0;34m,\u001b[0m \u001b[0my\u001b[0m\u001b[0;34m=\u001b[0m\u001b[0;34m\"BMI\"\u001b[0m\u001b[0;34m,\u001b[0m \u001b[0mhue\u001b[0m\u001b[0;34m=\u001b[0m\u001b[0;34m\"alco\"\u001b[0m\u001b[0;34m,\u001b[0m \u001b[0mcol\u001b[0m\u001b[0;34m=\u001b[0m\u001b[0;34m\"cardio\"\u001b[0m\u001b[0;34m,\u001b[0m \u001b[0mdata\u001b[0m\u001b[0;34m=\u001b[0m\u001b[0mdata\u001b[0m\u001b[0;34m,\u001b[0m \u001b[0mcolor\u001b[0m \u001b[0;34m=\u001b[0m \u001b[0;34m\"orange\"\u001b[0m\u001b[0;34m,\u001b[0m\u001b[0mpalette\u001b[0m \u001b[0;34m=\u001b[0m \u001b[0;34m'Accent'\u001b[0m\u001b[0;34m,\u001b[0m \u001b[0mkind\u001b[0m\u001b[0;34m=\u001b[0m\u001b[0;34m\"box\"\u001b[0m\u001b[0;34m,\u001b[0m \u001b[0mheight\u001b[0m\u001b[0;34m=\u001b[0m\u001b[0;36m10\u001b[0m\u001b[0;34m,\u001b[0m \u001b[0maspect\u001b[0m\u001b[0;34m=\u001b[0m\u001b[0;36m.7\u001b[0m\u001b[0;34m)\u001b[0m\u001b[0;34m;\u001b[0m\u001b[0;34m\u001b[0m\u001b[0;34m\u001b[0m\u001b[0m\n",
            "\u001b[0;32m/usr/local/lib/python3.7/dist-packages/pandas/core/frame.py\u001b[0m in \u001b[0;36m__getitem__\u001b[0;34m(self, key)\u001b[0m\n\u001b[1;32m   2904\u001b[0m             \u001b[0;32mif\u001b[0m \u001b[0mself\u001b[0m\u001b[0;34m.\u001b[0m\u001b[0mcolumns\u001b[0m\u001b[0;34m.\u001b[0m\u001b[0mnlevels\u001b[0m \u001b[0;34m>\u001b[0m \u001b[0;36m1\u001b[0m\u001b[0;34m:\u001b[0m\u001b[0;34m\u001b[0m\u001b[0;34m\u001b[0m\u001b[0m\n\u001b[1;32m   2905\u001b[0m                 \u001b[0;32mreturn\u001b[0m \u001b[0mself\u001b[0m\u001b[0;34m.\u001b[0m\u001b[0m_getitem_multilevel\u001b[0m\u001b[0;34m(\u001b[0m\u001b[0mkey\u001b[0m\u001b[0;34m)\u001b[0m\u001b[0;34m\u001b[0m\u001b[0;34m\u001b[0m\u001b[0m\n\u001b[0;32m-> 2906\u001b[0;31m             \u001b[0mindexer\u001b[0m \u001b[0;34m=\u001b[0m \u001b[0mself\u001b[0m\u001b[0;34m.\u001b[0m\u001b[0mcolumns\u001b[0m\u001b[0;34m.\u001b[0m\u001b[0mget_loc\u001b[0m\u001b[0;34m(\u001b[0m\u001b[0mkey\u001b[0m\u001b[0;34m)\u001b[0m\u001b[0;34m\u001b[0m\u001b[0;34m\u001b[0m\u001b[0m\n\u001b[0m\u001b[1;32m   2907\u001b[0m             \u001b[0;32mif\u001b[0m \u001b[0mis_integer\u001b[0m\u001b[0;34m(\u001b[0m\u001b[0mindexer\u001b[0m\u001b[0;34m)\u001b[0m\u001b[0;34m:\u001b[0m\u001b[0;34m\u001b[0m\u001b[0;34m\u001b[0m\u001b[0m\n\u001b[1;32m   2908\u001b[0m                 \u001b[0mindexer\u001b[0m \u001b[0;34m=\u001b[0m \u001b[0;34m[\u001b[0m\u001b[0mindexer\u001b[0m\u001b[0;34m]\u001b[0m\u001b[0;34m\u001b[0m\u001b[0;34m\u001b[0m\u001b[0m\n",
            "\u001b[0;32m/usr/local/lib/python3.7/dist-packages/pandas/core/indexes/base.py\u001b[0m in \u001b[0;36mget_loc\u001b[0;34m(self, key, method, tolerance)\u001b[0m\n\u001b[1;32m   2898\u001b[0m                 \u001b[0;32mreturn\u001b[0m \u001b[0mself\u001b[0m\u001b[0;34m.\u001b[0m\u001b[0m_engine\u001b[0m\u001b[0;34m.\u001b[0m\u001b[0mget_loc\u001b[0m\u001b[0;34m(\u001b[0m\u001b[0mcasted_key\u001b[0m\u001b[0;34m)\u001b[0m\u001b[0;34m\u001b[0m\u001b[0;34m\u001b[0m\u001b[0m\n\u001b[1;32m   2899\u001b[0m             \u001b[0;32mexcept\u001b[0m \u001b[0mKeyError\u001b[0m \u001b[0;32mas\u001b[0m \u001b[0merr\u001b[0m\u001b[0;34m:\u001b[0m\u001b[0;34m\u001b[0m\u001b[0;34m\u001b[0m\u001b[0m\n\u001b[0;32m-> 2900\u001b[0;31m                 \u001b[0;32mraise\u001b[0m \u001b[0mKeyError\u001b[0m\u001b[0;34m(\u001b[0m\u001b[0mkey\u001b[0m\u001b[0;34m)\u001b[0m \u001b[0;32mfrom\u001b[0m \u001b[0merr\u001b[0m\u001b[0;34m\u001b[0m\u001b[0;34m\u001b[0m\u001b[0m\n\u001b[0m\u001b[1;32m   2901\u001b[0m \u001b[0;34m\u001b[0m\u001b[0m\n\u001b[1;32m   2902\u001b[0m         \u001b[0;32mif\u001b[0m \u001b[0mtolerance\u001b[0m \u001b[0;32mis\u001b[0m \u001b[0;32mnot\u001b[0m \u001b[0;32mNone\u001b[0m\u001b[0;34m:\u001b[0m\u001b[0;34m\u001b[0m\u001b[0;34m\u001b[0m\u001b[0m\n",
            "\u001b[0;31mKeyError\u001b[0m: 'weight'"
          ]
        }
      ]
    },
    {
      "cell_type": "markdown",
      "metadata": {
        "id": "xiKMFLDbFRNC"
      },
      "source": [
        "# **Modelling**"
      ]
    },
    {
      "cell_type": "code",
      "metadata": {
        "id": "l-xu5lvEF3Qu",
        "colab": {
          "base_uri": "https://localhost:8080/"
        },
        "outputId": "bd510678-b52a-43bf-82d6-9e7d5e3259a5"
      },
      "source": [
        "!pip3 install catboost\n",
        "from sklearn.metrics import plot_roc_curve, roc_curve, classification_report, accuracy_score\n",
        "from sklearn.metrics import matthews_corrcoef, f1_score, auc\n",
        "from sklearn.model_selection import train_test_split\n",
        "from sklearn.linear_model import LogisticRegression\n",
        "from sklearn.neighbors import KNeighborsClassifier\n",
        "from sklearn.naive_bayes import GaussianNB\n",
        "from sklearn.tree import DecisionTreeClassifier\n",
        "from sklearn.ensemble import GradientBoostingClassifier\n",
        "from sklearn.ensemble import RandomForestClassifier\n",
        "import xgboost as xgb\n",
        "from xgboost import XGBClassifier\n",
        "from sklearn.svm import LinearSVC\n",
        "from sklearn.svm import SVC\n",
        "from tensorflow.keras.models import Sequential\n",
        "from tensorflow.keras.layers import Dense, Activation\n",
        "from lightgbm import LGBMClassifier\n",
        "from sklearn.model_selection import GridSearchCV\n",
        "from lightgbm import LGBMClassifier\n",
        "from catboost import CatBoostClassifier"
      ],
      "execution_count": null,
      "outputs": [
        {
          "output_type": "stream",
          "text": [
            "Collecting catboost\n",
            "\u001b[?25l  Downloading https://files.pythonhosted.org/packages/1e/21/d1718eb4c93d6bacdd540b3792187f32ccb1ad9c51b9c4f10875d63ec176/catboost-0.25-cp37-none-manylinux1_x86_64.whl (67.3MB)\n",
            "\u001b[K     |████████████████████████████████| 67.3MB 70kB/s \n",
            "\u001b[?25hRequirement already satisfied: pandas>=0.24.0 in /usr/local/lib/python3.7/dist-packages (from catboost) (1.1.5)\n",
            "Requirement already satisfied: matplotlib in /usr/local/lib/python3.7/dist-packages (from catboost) (3.2.2)\n",
            "Requirement already satisfied: numpy>=1.16.0 in /usr/local/lib/python3.7/dist-packages (from catboost) (1.19.5)\n",
            "Requirement already satisfied: six in /usr/local/lib/python3.7/dist-packages (from catboost) (1.15.0)\n",
            "Requirement already satisfied: plotly in /usr/local/lib/python3.7/dist-packages (from catboost) (4.4.1)\n",
            "Requirement already satisfied: scipy in /usr/local/lib/python3.7/dist-packages (from catboost) (1.4.1)\n",
            "Requirement already satisfied: graphviz in /usr/local/lib/python3.7/dist-packages (from catboost) (0.10.1)\n",
            "Requirement already satisfied: pytz>=2017.2 in /usr/local/lib/python3.7/dist-packages (from pandas>=0.24.0->catboost) (2018.9)\n",
            "Requirement already satisfied: python-dateutil>=2.7.3 in /usr/local/lib/python3.7/dist-packages (from pandas>=0.24.0->catboost) (2.8.1)\n",
            "Requirement already satisfied: pyparsing!=2.0.4,!=2.1.2,!=2.1.6,>=2.0.1 in /usr/local/lib/python3.7/dist-packages (from matplotlib->catboost) (2.4.7)\n",
            "Requirement already satisfied: kiwisolver>=1.0.1 in /usr/local/lib/python3.7/dist-packages (from matplotlib->catboost) (1.3.1)\n",
            "Requirement already satisfied: cycler>=0.10 in /usr/local/lib/python3.7/dist-packages (from matplotlib->catboost) (0.10.0)\n",
            "Requirement already satisfied: retrying>=1.3.3 in /usr/local/lib/python3.7/dist-packages (from plotly->catboost) (1.3.3)\n",
            "Installing collected packages: catboost\n",
            "Successfully installed catboost-0.25\n"
          ],
          "name": "stdout"
        }
      ]
    },
    {
      "cell_type": "code",
      "metadata": {
        "colab": {
          "base_uri": "https://localhost:8080/"
        },
        "id": "4D8bL8s-F-VF",
        "outputId": "a8e34718-551f-4eda-a9c8-f2b8cabb7ef0"
      },
      "source": [
        "X = data\n",
        "X = X.drop('cardio', axis = 1)\n",
        "y = data['cardio'].values\n",
        "originalX = X\n",
        "originaly = y\n",
        "\n",
        "X_train, X_test, y_train, y_test = train_test_split(X, y, test_size=0.3, random_state=42)\n",
        "X_train.shape, X_test.shape, y_train.shape, y_test.shape"
      ],
      "execution_count": null,
      "outputs": [
        {
          "output_type": "execute_result",
          "data": {
            "text/plain": [
              "((46742, 11), (20033, 11), (46742,), (20033,))"
            ]
          },
          "metadata": {
            "tags": []
          },
          "execution_count": 15
        }
      ]
    },
    {
      "cell_type": "code",
      "metadata": {
        "id": "eHX3DfP8GPiJ"
      },
      "source": [
        "def print_results(y_test, clf):\n",
        "    y_pred = clf.predict(X_test)\n",
        "    accuracy = accuracy_score(y_test, y_pred)\n",
        "    temp = classification_report(y_test, y_pred, output_dict= True)\n",
        "    precision = temp['0']['precision']\n",
        "    sensitivity = temp['1']['recall']\n",
        "    specificity = temp['0']['recall']\n",
        "    f1 = f1_score(y_test, y_pred)\n",
        "    probas = clf.predict_proba(X_test)[:,1]\n",
        "    fpr , tpr, thresholds = roc_curve(y_test, probas)\n",
        "    aucscore = auc(fpr, tpr)\n",
        "    mcc = matthews_corrcoef(y_test, y_pred)\n",
        "\n",
        "    print(\"Accuracy: \\t\", round(accuracy,6))\n",
        "    print(\"Precision: \\t\", round(precision,6))\n",
        "    print(\"Sensitivity: \\t\", round(sensitivity,6))\n",
        "    print(\"Specificity: \\t\", round(specificity,6))\n",
        "    print(\"F-Score: \\t\", round(f1,6))\n",
        "    print(\"AUC: \\t\\t\", round(aucscore,6))\n",
        "    print(\"MCC: \\t\\t\", round(mcc,6))\n",
        "    return (fpr , tpr, thresholds)"
      ],
      "execution_count": null,
      "outputs": []
    },
    {
      "cell_type": "markdown",
      "metadata": {
        "id": "N79ksbNlGsP5"
      },
      "source": [
        "**Logistic Regression**"
      ]
    },
    {
      "cell_type": "code",
      "metadata": {
        "colab": {
          "base_uri": "https://localhost:8080/"
        },
        "id": "4_JzdyimHf2e",
        "outputId": "9e4117ff-2e61-4d01-b5e2-84a456e46ae3"
      },
      "source": [
        "clf = LogisticRegression(random_state = 42, max_iter = 500)\n",
        "clf.fit(X_train, y_train)\n",
        "\n",
        "fpr1 , tpr1, thresholds1 = print_results(y_test, clf)"
      ],
      "execution_count": null,
      "outputs": [
        {
          "output_type": "stream",
          "text": [
            "Accuracy: \t 0.723955\n",
            "Precision: \t 0.693196\n",
            "Sensitivity: \t 0.659805\n",
            "Specificity: \t 0.789879\n",
            "F-Score: \t 0.70784\n",
            "AUC: \t\t 0.792432\n",
            "MCC: \t\t 0.453136\n"
          ],
          "name": "stdout"
        }
      ]
    },
    {
      "cell_type": "markdown",
      "metadata": {
        "id": "6gxL39GTHw74"
      },
      "source": [
        "**K Neighbours**"
      ]
    },
    {
      "cell_type": "code",
      "metadata": {
        "id": "ozFEdFUaIKcs",
        "colab": {
          "base_uri": "https://localhost:8080/"
        },
        "outputId": "338c2223-0817-4aa8-d0bd-8561650b26fb"
      },
      "source": [
        "parameters = { 'n_neighbors':[i for i in range(1,100)]}\n",
        "DT_optimised = KNeighborsClassifier()\n",
        "clf_grid = GridSearchCV(DT_optimised, parameters, cv = 5)\n",
        "clf_grid.fit(X_train2, y_train2)\n",
        "clf_grid.best_params_"
      ],
      "execution_count": null,
      "outputs": [
        {
          "output_type": "execute_result",
          "data": {
            "text/plain": [
              "{'n_neighbors': 96}"
            ]
          },
          "metadata": {
            "tags": []
          },
          "execution_count": 26
        }
      ]
    },
    {
      "cell_type": "code",
      "metadata": {
        "id": "RSIJ_iTW30Uc",
        "colab": {
          "base_uri": "https://localhost:8080/"
        },
        "outputId": "e3c3dca9-e905-4026-9634-f5b88a3a2683"
      },
      "source": [
        "clf_grid.best_params_"
      ],
      "execution_count": null,
      "outputs": [
        {
          "output_type": "execute_result",
          "data": {
            "text/plain": [
              "{'n_neighbors': 96}"
            ]
          },
          "metadata": {
            "tags": []
          },
          "execution_count": 27
        }
      ]
    },
    {
      "cell_type": "code",
      "metadata": {
        "colab": {
          "base_uri": "https://localhost:8080/"
        },
        "id": "OjdeQccGHzHS",
        "outputId": "07479647-6826-4c53-808d-53dfe1e6e48d"
      },
      "source": [
        "clf = KNeighborsClassifier(n_neighbors = 96)\n",
        "clf.fit(X_train, y_train)\n",
        "\n",
        "fpr2 , tpr2, thresholds2 = print_results(y_test, clf)"
      ],
      "execution_count": null,
      "outputs": [
        {
          "output_type": "stream",
          "text": [
            "Accuracy: \t 0.725303\n",
            "Precision: \t 0.695629\n",
            "Sensitivity: \t 0.664631\n",
            "Specificity: \t 0.787652\n",
            "F-Score: \t 0.710353\n",
            "AUC: \t\t 0.793272\n",
            "MCC: \t\t 0.455361\n"
          ],
          "name": "stdout"
        }
      ]
    },
    {
      "cell_type": "markdown",
      "metadata": {
        "id": "PzHqQyyJIiFI"
      },
      "source": [
        "**Gaussian NB**"
      ]
    },
    {
      "cell_type": "code",
      "metadata": {
        "colab": {
          "base_uri": "https://localhost:8080/"
        },
        "id": "IBCPgjt4IqLz",
        "outputId": "762c3ec4-0d7c-4645-a60f-ab54cc612488"
      },
      "source": [
        "clf = GaussianNB()\n",
        "clf.fit(X_train, y_train)\n",
        "\n",
        "fpr3 , tpr3, thresholds3 = print_results(y_test, clf)"
      ],
      "execution_count": null,
      "outputs": [
        {
          "output_type": "stream",
          "text": [
            "Accuracy: \t 0.71542\n",
            "Precision: \t 0.674198\n",
            "Sensitivity: \t 0.615089\n",
            "Specificity: \t 0.818522\n",
            "F-Score: \t 0.686603\n",
            "AUC: \t\t 0.786301\n",
            "MCC: \t\t 0.442285\n"
          ],
          "name": "stdout"
        }
      ]
    },
    {
      "cell_type": "markdown",
      "metadata": {
        "id": "PJkagUD4I4Xs"
      },
      "source": [
        "**Decision Tree Classifier**"
      ]
    },
    {
      "cell_type": "code",
      "metadata": {
        "colab": {
          "base_uri": "https://localhost:8080/"
        },
        "id": "b958OgbJI3uA",
        "outputId": "54e1159d-91b9-442b-f7ab-5ae9864e399f"
      },
      "source": [
        "clf = DecisionTreeClassifier(max_depth = 6, criterion = 'gini', random_state = 42)\n",
        "clf.fit(X_train, y_train)\n",
        "\n",
        "fpr4 , tpr4, thresholds4 = print_results(y_test, clf)"
      ],
      "execution_count": null,
      "outputs": [
        {
          "output_type": "stream",
          "text": [
            "Accuracy: \t 0.72705\n",
            "Precision: \t 0.69529\n",
            "Sensitivity: \t 0.660987\n",
            "Specificity: \t 0.794939\n",
            "F-Score: \t 0.710535\n",
            "AUC: \t\t 0.794339\n",
            "MCC: \t\t 0.459649\n"
          ],
          "name": "stdout"
        }
      ]
    },
    {
      "cell_type": "markdown",
      "metadata": {
        "id": "6lWnWbEJJL-N"
      },
      "source": [
        "**DT Optimised**"
      ]
    },
    {
      "cell_type": "code",
      "metadata": {
        "colab": {
          "base_uri": "https://localhost:8080/"
        },
        "id": "eQeHKKsDJJEJ",
        "outputId": "043d7f11-e43f-4b9f-9a8f-5a5eed81f1e3"
      },
      "source": [
        "parameters = {'criterion':('entropy', 'gini'), 'max_depth':[i for i in range(1,51)]}\n",
        "DT_optimised = DecisionTreeClassifier()\n",
        "clf_DT = GridSearchCV(DT_optimised, parameters, cv = 5)\n",
        "clf_DT.fit(X_train, y_train)\n",
        "clf_DT.best_params_"
      ],
      "execution_count": null,
      "outputs": [
        {
          "output_type": "execute_result",
          "data": {
            "text/plain": [
              "{'criterion': 'entropy', 'max_depth': 5}"
            ]
          },
          "metadata": {
            "tags": []
          },
          "execution_count": 44
        }
      ]
    },
    {
      "cell_type": "code",
      "metadata": {
        "colab": {
          "base_uri": "https://localhost:8080/"
        },
        "id": "atUjmCZkJrCk",
        "outputId": "a58be3ca-defe-421d-aac9-8f5461be30ea"
      },
      "source": [
        "clf = DecisionTreeClassifier(max_depth = 5, criterion = 'entropy', random_state = 42)\n",
        "clf.fit(X_train, y_train)\n",
        "\n",
        "fpr5 , tpr5, thresholds5 = print_results(y_test, clf)"
      ],
      "execution_count": null,
      "outputs": [
        {
          "output_type": "stream",
          "text": [
            "Accuracy: \t 0.726951\n",
            "Precision: \t 0.692476\n",
            "Sensitivity: \t 0.653009\n",
            "Specificity: \t 0.802935\n",
            "F-Score: \t 0.707955\n",
            "AUC: \t\t 0.792551\n",
            "MCC: \t\t 0.460684\n"
          ],
          "name": "stdout"
        }
      ]
    },
    {
      "cell_type": "markdown",
      "metadata": {
        "id": "U31H9YydOYdA"
      },
      "source": [
        "**Gradient Boosting**"
      ]
    },
    {
      "cell_type": "code",
      "metadata": {
        "colab": {
          "base_uri": "https://localhost:8080/"
        },
        "id": "l9W94GGFOe5p",
        "outputId": "cfb11dfa-0771-4aaa-8aa1-d6b467fbc0f9"
      },
      "source": [
        "clf = GradientBoostingClassifier(n_estimators=100, learning_rate=1.0, max_depth=2, random_state=42)\n",
        "clf.fit(X_train, y_train)\n",
        "\n",
        "fpr6 , tpr6, thresholds6 = print_results(y_test, clf)"
      ],
      "execution_count": null,
      "outputs": [
        {
          "output_type": "stream",
          "text": [
            "Accuracy: \t 0.729546\n",
            "Precision: \t 0.707034\n",
            "Sensitivity: \t 0.689057\n",
            "Specificity: \t 0.771154\n",
            "F-Score: \t 0.720866\n",
            "AUC: \t\t 0.795734\n",
            "MCC: \t\t 0.461497\n"
          ],
          "name": "stdout"
        }
      ]
    },
    {
      "cell_type": "markdown",
      "metadata": {
        "id": "CiBcNlA7OoQ2"
      },
      "source": [
        "**Random Forest**"
      ]
    },
    {
      "cell_type": "code",
      "metadata": {
        "id": "MrbhzexzQYf8"
      },
      "source": [
        "parameters = {'max_depth':[i for i in range(1,51)]}\n",
        "RT_optimised =  RandomForestClassifier()\n",
        "clf_RT = GridSearchCV(RT_optimised, parameters, cv = 5)\n",
        "clf_RT.fit(X_train, y_train)\n",
        "clf_RT.best_params_"
      ],
      "execution_count": null,
      "outputs": []
    },
    {
      "cell_type": "code",
      "metadata": {
        "colab": {
          "base_uri": "https://localhost:8080/"
        },
        "id": "chNbeNQnOsb0",
        "outputId": "78a4f4d5-4464-4c61-d0b1-e2a9d65902d4"
      },
      "source": [
        "clf = RandomForestClassifier(max_depth = 12, random_state=42)\n",
        "clf.fit(X_train, y_train)\n",
        "\n",
        "fpr7 , tpr7, thresholds7 = print_results(y_test, clf)"
      ],
      "execution_count": null,
      "outputs": [
        {
          "output_type": "stream",
          "text": [
            "Accuracy: \t 0.731942\n",
            "Precision: \t 0.705299\n",
            "Sensitivity: \t 0.681178\n",
            "Specificity: \t 0.784109\n",
            "F-Score: \t 0.720342\n",
            "AUC: \t\t 0.799058\n",
            "MCC: \t\t 0.46743\n"
          ],
          "name": "stdout"
        }
      ]
    },
    {
      "cell_type": "markdown",
      "metadata": {
        "id": "9Ohi6N7nOxhS"
      },
      "source": [
        "**SVC**"
      ]
    },
    {
      "cell_type": "code",
      "metadata": {
        "id": "dAlyABeUO8hC"
      },
      "source": [
        "clf = SVC(random_state = 42, probability = True)\n",
        "clf.fit(X_train, y_train)\n",
        "\n",
        "fpr8 , tpr8, thresholds8 = print_results(y_test, clf)"
      ],
      "execution_count": null,
      "outputs": []
    },
    {
      "cell_type": "markdown",
      "metadata": {
        "id": "XkRO3wJDQzEl"
      },
      "source": [
        "**XGB Classifier**"
      ]
    },
    {
      "cell_type": "code",
      "metadata": {
        "id": "RwbzHaUrQqC8",
        "colab": {
          "base_uri": "https://localhost:8080/"
        },
        "outputId": "8800087c-7d6b-4cd0-ca9e-3523b23584b5"
      },
      "source": [
        "clf = XGBClassifier(max_depth=4,booster='gbtree')\n",
        "clf.fit(X_train, y_train)\n",
        "\n",
        "fpr9 , tpr9, thresholds9 = print_results(y_test, clf)"
      ],
      "execution_count": null,
      "outputs": [
        {
          "output_type": "stream",
          "text": [
            "Accuracy: \t 0.732691\n",
            "Precision: \t 0.706414\n",
            "Sensitivity: \t 0.683049\n",
            "Specificity: \t 0.783704\n",
            "F-Score: \t 0.721456\n",
            "AUC: \t\t 0.80126\n",
            "MCC: \t\t 0.468799\n"
          ],
          "name": "stdout"
        }
      ]
    },
    {
      "cell_type": "markdown",
      "metadata": {
        "id": "x_TUQcuQQ8Mj"
      },
      "source": [
        "**LGBM Classifier**"
      ]
    },
    {
      "cell_type": "code",
      "metadata": {
        "id": "jfmpnAgYRABx",
        "colab": {
          "base_uri": "https://localhost:8080/"
        },
        "outputId": "848ef860-bca2-4220-93a3-3f254bace201"
      },
      "source": [
        "clf = LGBMClassifier()\n",
        "clf.fit(X_train, y_train)\n",
        "\n",
        "fpr10 , tpr10, thresholds10 = print_results(y_test, clf)"
      ],
      "execution_count": null,
      "outputs": [
        {
          "output_type": "stream",
          "text": [
            "Accuracy: \t 0.732142\n",
            "Precision: \t 0.706081\n",
            "Sensitivity: \t 0.682951\n",
            "Specificity: \t 0.782692\n",
            "F-Score: \t 0.721015\n",
            "AUC: \t\t 0.800532\n",
            "MCC: \t\t 0.467644\n"
          ],
          "name": "stdout"
        }
      ]
    },
    {
      "cell_type": "markdown",
      "metadata": {
        "id": "XB8--x1ZZnrn"
      },
      "source": [
        "**CatBoost Classifier**"
      ]
    },
    {
      "cell_type": "code",
      "metadata": {
        "colab": {
          "base_uri": "https://localhost:8080/"
        },
        "id": "h-82O9kEZm30",
        "outputId": "d562eafb-3294-4bfb-d5a5-d4f4f9c6c488"
      },
      "source": [
        "clf = CatBoostClassifier(max_depth=4)\n",
        "clf.fit(X_train, y_train)\n",
        "\n",
        "fpr11 , tpr11, thresholds11 = print_results(y_test, clf)"
      ],
      "execution_count": null,
      "outputs": [
        {
          "output_type": "stream",
          "text": [
            "Learning rate set to 0.053198\n",
            "0:\tlearn: 0.6789636\ttotal: 64.3ms\tremaining: 1m 4s\n",
            "1:\tlearn: 0.6663336\ttotal: 79.2ms\tremaining: 39.5s\n",
            "2:\tlearn: 0.6548226\ttotal: 93.7ms\tremaining: 31.1s\n",
            "3:\tlearn: 0.6444873\ttotal: 114ms\tremaining: 28.3s\n",
            "4:\tlearn: 0.6352061\ttotal: 128ms\tremaining: 25.5s\n",
            "5:\tlearn: 0.6272071\ttotal: 142ms\tremaining: 23.5s\n",
            "6:\tlearn: 0.6199309\ttotal: 156ms\tremaining: 22.1s\n",
            "7:\tlearn: 0.6142879\ttotal: 171ms\tremaining: 21.2s\n",
            "8:\tlearn: 0.6084699\ttotal: 185ms\tremaining: 20.4s\n",
            "9:\tlearn: 0.6031925\ttotal: 203ms\tremaining: 20.1s\n",
            "10:\tlearn: 0.5989693\ttotal: 218ms\tremaining: 19.6s\n",
            "11:\tlearn: 0.5946253\ttotal: 232ms\tremaining: 19.1s\n",
            "12:\tlearn: 0.5910827\ttotal: 248ms\tremaining: 18.8s\n",
            "13:\tlearn: 0.5876898\ttotal: 262ms\tremaining: 18.4s\n",
            "14:\tlearn: 0.5845271\ttotal: 276ms\tremaining: 18.1s\n",
            "15:\tlearn: 0.5817431\ttotal: 293ms\tremaining: 18s\n",
            "16:\tlearn: 0.5794285\ttotal: 307ms\tremaining: 17.7s\n",
            "17:\tlearn: 0.5770622\ttotal: 321ms\tremaining: 17.5s\n",
            "18:\tlearn: 0.5750949\ttotal: 338ms\tremaining: 17.4s\n",
            "19:\tlearn: 0.5731317\ttotal: 354ms\tremaining: 17.3s\n",
            "20:\tlearn: 0.5716217\ttotal: 369ms\tremaining: 17.2s\n",
            "21:\tlearn: 0.5701086\ttotal: 385ms\tremaining: 17.1s\n",
            "22:\tlearn: 0.5685932\ttotal: 408ms\tremaining: 17.3s\n",
            "23:\tlearn: 0.5671982\ttotal: 423ms\tremaining: 17.2s\n",
            "24:\tlearn: 0.5658900\ttotal: 437ms\tremaining: 17s\n",
            "25:\tlearn: 0.5647405\ttotal: 452ms\tremaining: 16.9s\n",
            "26:\tlearn: 0.5637667\ttotal: 466ms\tremaining: 16.8s\n",
            "27:\tlearn: 0.5628290\ttotal: 481ms\tremaining: 16.7s\n",
            "28:\tlearn: 0.5618733\ttotal: 500ms\tremaining: 16.7s\n",
            "29:\tlearn: 0.5609881\ttotal: 515ms\tremaining: 16.6s\n",
            "30:\tlearn: 0.5602562\ttotal: 529ms\tremaining: 16.5s\n",
            "31:\tlearn: 0.5595858\ttotal: 544ms\tremaining: 16.5s\n",
            "32:\tlearn: 0.5588839\ttotal: 559ms\tremaining: 16.4s\n",
            "33:\tlearn: 0.5583266\ttotal: 572ms\tremaining: 16.3s\n",
            "34:\tlearn: 0.5578074\ttotal: 587ms\tremaining: 16.2s\n",
            "35:\tlearn: 0.5573677\ttotal: 602ms\tremaining: 16.1s\n",
            "36:\tlearn: 0.5568905\ttotal: 621ms\tremaining: 16.2s\n",
            "37:\tlearn: 0.5563748\ttotal: 636ms\tremaining: 16.1s\n",
            "38:\tlearn: 0.5559660\ttotal: 650ms\tremaining: 16s\n",
            "39:\tlearn: 0.5555092\ttotal: 666ms\tremaining: 16s\n",
            "40:\tlearn: 0.5551375\ttotal: 681ms\tremaining: 15.9s\n",
            "41:\tlearn: 0.5547750\ttotal: 696ms\tremaining: 15.9s\n",
            "42:\tlearn: 0.5544110\ttotal: 710ms\tremaining: 15.8s\n",
            "43:\tlearn: 0.5540545\ttotal: 724ms\tremaining: 15.7s\n",
            "44:\tlearn: 0.5537357\ttotal: 738ms\tremaining: 15.7s\n",
            "45:\tlearn: 0.5534736\ttotal: 752ms\tremaining: 15.6s\n",
            "46:\tlearn: 0.5531823\ttotal: 768ms\tremaining: 15.6s\n",
            "47:\tlearn: 0.5529242\ttotal: 787ms\tremaining: 15.6s\n",
            "48:\tlearn: 0.5526890\ttotal: 802ms\tremaining: 15.6s\n",
            "49:\tlearn: 0.5524549\ttotal: 815ms\tremaining: 15.5s\n",
            "50:\tlearn: 0.5522501\ttotal: 837ms\tremaining: 15.6s\n",
            "51:\tlearn: 0.5520455\ttotal: 851ms\tremaining: 15.5s\n",
            "52:\tlearn: 0.5518672\ttotal: 865ms\tremaining: 15.5s\n",
            "53:\tlearn: 0.5516909\ttotal: 882ms\tremaining: 15.4s\n",
            "54:\tlearn: 0.5515509\ttotal: 896ms\tremaining: 15.4s\n",
            "55:\tlearn: 0.5513950\ttotal: 910ms\tremaining: 15.3s\n",
            "56:\tlearn: 0.5512267\ttotal: 926ms\tremaining: 15.3s\n",
            "57:\tlearn: 0.5510924\ttotal: 940ms\tremaining: 15.3s\n",
            "58:\tlearn: 0.5509794\ttotal: 954ms\tremaining: 15.2s\n",
            "59:\tlearn: 0.5508436\ttotal: 968ms\tremaining: 15.2s\n",
            "60:\tlearn: 0.5507246\ttotal: 984ms\tremaining: 15.2s\n",
            "61:\tlearn: 0.5506052\ttotal: 998ms\tremaining: 15.1s\n",
            "62:\tlearn: 0.5504944\ttotal: 1.01s\tremaining: 15.1s\n",
            "63:\tlearn: 0.5503952\ttotal: 1.03s\tremaining: 15s\n",
            "64:\tlearn: 0.5502939\ttotal: 1.05s\tremaining: 15.2s\n",
            "65:\tlearn: 0.5501835\ttotal: 1.07s\tremaining: 15.2s\n",
            "66:\tlearn: 0.5501095\ttotal: 1.09s\tremaining: 15.1s\n",
            "67:\tlearn: 0.5500187\ttotal: 1.11s\tremaining: 15.2s\n",
            "68:\tlearn: 0.5499278\ttotal: 1.13s\tremaining: 15.2s\n",
            "69:\tlearn: 0.5498612\ttotal: 1.14s\tremaining: 15.2s\n",
            "70:\tlearn: 0.5497830\ttotal: 1.16s\tremaining: 15.1s\n",
            "71:\tlearn: 0.5497105\ttotal: 1.17s\tremaining: 15.1s\n",
            "72:\tlearn: 0.5496433\ttotal: 1.18s\tremaining: 15s\n",
            "73:\tlearn: 0.5495576\ttotal: 1.2s\tremaining: 15s\n",
            "74:\tlearn: 0.5494854\ttotal: 1.22s\tremaining: 15.1s\n",
            "75:\tlearn: 0.5494355\ttotal: 1.24s\tremaining: 15.1s\n",
            "76:\tlearn: 0.5493855\ttotal: 1.26s\tremaining: 15.1s\n",
            "77:\tlearn: 0.5493209\ttotal: 1.27s\tremaining: 15.1s\n",
            "78:\tlearn: 0.5492726\ttotal: 1.29s\tremaining: 15s\n",
            "79:\tlearn: 0.5492277\ttotal: 1.3s\tremaining: 15s\n",
            "80:\tlearn: 0.5492019\ttotal: 1.32s\tremaining: 15s\n",
            "81:\tlearn: 0.5491577\ttotal: 1.34s\tremaining: 15s\n",
            "82:\tlearn: 0.5490927\ttotal: 1.35s\tremaining: 15s\n",
            "83:\tlearn: 0.5490399\ttotal: 1.37s\tremaining: 14.9s\n",
            "84:\tlearn: 0.5489949\ttotal: 1.39s\tremaining: 14.9s\n",
            "85:\tlearn: 0.5489319\ttotal: 1.4s\tremaining: 14.9s\n",
            "86:\tlearn: 0.5488950\ttotal: 1.42s\tremaining: 14.9s\n",
            "87:\tlearn: 0.5488591\ttotal: 1.43s\tremaining: 14.9s\n",
            "88:\tlearn: 0.5488156\ttotal: 1.45s\tremaining: 14.9s\n",
            "89:\tlearn: 0.5487788\ttotal: 1.47s\tremaining: 14.9s\n",
            "90:\tlearn: 0.5487266\ttotal: 1.49s\tremaining: 14.9s\n",
            "91:\tlearn: 0.5486581\ttotal: 1.5s\tremaining: 14.8s\n",
            "92:\tlearn: 0.5486108\ttotal: 1.52s\tremaining: 14.8s\n",
            "93:\tlearn: 0.5485548\ttotal: 1.53s\tremaining: 14.8s\n",
            "94:\tlearn: 0.5485161\ttotal: 1.55s\tremaining: 14.8s\n",
            "95:\tlearn: 0.5484850\ttotal: 1.57s\tremaining: 14.7s\n",
            "96:\tlearn: 0.5484454\ttotal: 1.58s\tremaining: 14.7s\n",
            "97:\tlearn: 0.5484079\ttotal: 1.6s\tremaining: 14.7s\n",
            "98:\tlearn: 0.5483673\ttotal: 1.61s\tremaining: 14.7s\n",
            "99:\tlearn: 0.5483222\ttotal: 1.62s\tremaining: 14.6s\n",
            "100:\tlearn: 0.5482743\ttotal: 1.64s\tremaining: 14.6s\n",
            "101:\tlearn: 0.5482462\ttotal: 1.66s\tremaining: 14.6s\n",
            "102:\tlearn: 0.5482068\ttotal: 1.67s\tremaining: 14.6s\n",
            "103:\tlearn: 0.5481848\ttotal: 1.69s\tremaining: 14.6s\n",
            "104:\tlearn: 0.5481561\ttotal: 1.71s\tremaining: 14.6s\n",
            "105:\tlearn: 0.5481339\ttotal: 1.73s\tremaining: 14.6s\n",
            "106:\tlearn: 0.5480953\ttotal: 1.74s\tremaining: 14.6s\n",
            "107:\tlearn: 0.5480755\ttotal: 1.76s\tremaining: 14.5s\n",
            "108:\tlearn: 0.5480467\ttotal: 1.77s\tremaining: 14.5s\n",
            "109:\tlearn: 0.5480206\ttotal: 1.79s\tremaining: 14.5s\n",
            "110:\tlearn: 0.5479940\ttotal: 1.8s\tremaining: 14.4s\n",
            "111:\tlearn: 0.5479520\ttotal: 1.82s\tremaining: 14.4s\n",
            "112:\tlearn: 0.5479291\ttotal: 1.83s\tremaining: 14.4s\n",
            "113:\tlearn: 0.5479103\ttotal: 1.85s\tremaining: 14.4s\n",
            "114:\tlearn: 0.5478887\ttotal: 1.87s\tremaining: 14.4s\n",
            "115:\tlearn: 0.5478494\ttotal: 1.89s\tremaining: 14.4s\n",
            "116:\tlearn: 0.5478317\ttotal: 1.9s\tremaining: 14.4s\n",
            "117:\tlearn: 0.5477983\ttotal: 1.92s\tremaining: 14.3s\n",
            "118:\tlearn: 0.5477778\ttotal: 1.94s\tremaining: 14.3s\n",
            "119:\tlearn: 0.5477618\ttotal: 1.95s\tremaining: 14.3s\n",
            "120:\tlearn: 0.5477316\ttotal: 1.97s\tremaining: 14.3s\n",
            "121:\tlearn: 0.5476993\ttotal: 1.98s\tremaining: 14.3s\n",
            "122:\tlearn: 0.5476821\ttotal: 2s\tremaining: 14.3s\n",
            "123:\tlearn: 0.5476656\ttotal: 2.02s\tremaining: 14.2s\n",
            "124:\tlearn: 0.5476498\ttotal: 2.03s\tremaining: 14.2s\n",
            "125:\tlearn: 0.5476081\ttotal: 2.05s\tremaining: 14.2s\n",
            "126:\tlearn: 0.5475677\ttotal: 2.06s\tremaining: 14.2s\n",
            "127:\tlearn: 0.5475528\ttotal: 2.08s\tremaining: 14.2s\n",
            "128:\tlearn: 0.5475290\ttotal: 2.11s\tremaining: 14.2s\n",
            "129:\tlearn: 0.5475070\ttotal: 2.13s\tremaining: 14.2s\n",
            "130:\tlearn: 0.5474876\ttotal: 2.14s\tremaining: 14.2s\n",
            "131:\tlearn: 0.5474655\ttotal: 2.16s\tremaining: 14.2s\n",
            "132:\tlearn: 0.5474507\ttotal: 2.17s\tremaining: 14.2s\n",
            "133:\tlearn: 0.5474289\ttotal: 2.19s\tremaining: 14.2s\n",
            "134:\tlearn: 0.5474092\ttotal: 2.21s\tremaining: 14.2s\n",
            "135:\tlearn: 0.5473892\ttotal: 2.23s\tremaining: 14.1s\n",
            "136:\tlearn: 0.5473533\ttotal: 2.24s\tremaining: 14.1s\n",
            "137:\tlearn: 0.5473367\ttotal: 2.25s\tremaining: 14.1s\n",
            "138:\tlearn: 0.5473243\ttotal: 2.27s\tremaining: 14.1s\n",
            "139:\tlearn: 0.5473156\ttotal: 2.29s\tremaining: 14.1s\n",
            "140:\tlearn: 0.5473115\ttotal: 2.3s\tremaining: 14s\n",
            "141:\tlearn: 0.5472868\ttotal: 2.32s\tremaining: 14s\n",
            "142:\tlearn: 0.5472721\ttotal: 2.33s\tremaining: 14s\n",
            "143:\tlearn: 0.5472419\ttotal: 2.35s\tremaining: 14s\n",
            "144:\tlearn: 0.5472124\ttotal: 2.37s\tremaining: 13.9s\n",
            "145:\tlearn: 0.5471928\ttotal: 2.38s\tremaining: 13.9s\n",
            "146:\tlearn: 0.5471697\ttotal: 2.4s\tremaining: 13.9s\n",
            "147:\tlearn: 0.5471592\ttotal: 2.42s\tremaining: 13.9s\n",
            "148:\tlearn: 0.5471503\ttotal: 2.43s\tremaining: 13.9s\n",
            "149:\tlearn: 0.5471294\ttotal: 2.44s\tremaining: 13.9s\n",
            "150:\tlearn: 0.5471150\ttotal: 2.46s\tremaining: 13.8s\n",
            "151:\tlearn: 0.5470820\ttotal: 2.48s\tremaining: 13.8s\n",
            "152:\tlearn: 0.5470644\ttotal: 2.5s\tremaining: 13.8s\n",
            "153:\tlearn: 0.5470467\ttotal: 2.51s\tremaining: 13.8s\n",
            "154:\tlearn: 0.5470312\ttotal: 2.53s\tremaining: 13.8s\n",
            "155:\tlearn: 0.5470132\ttotal: 2.55s\tremaining: 13.8s\n",
            "156:\tlearn: 0.5469986\ttotal: 2.56s\tremaining: 13.8s\n",
            "157:\tlearn: 0.5469849\ttotal: 2.58s\tremaining: 13.7s\n",
            "158:\tlearn: 0.5469804\ttotal: 2.59s\tremaining: 13.7s\n",
            "159:\tlearn: 0.5469638\ttotal: 2.61s\tremaining: 13.7s\n",
            "160:\tlearn: 0.5469407\ttotal: 2.62s\tremaining: 13.7s\n",
            "161:\tlearn: 0.5469277\ttotal: 2.63s\tremaining: 13.6s\n",
            "162:\tlearn: 0.5469116\ttotal: 2.65s\tremaining: 13.6s\n",
            "163:\tlearn: 0.5468929\ttotal: 2.67s\tremaining: 13.6s\n",
            "164:\tlearn: 0.5468729\ttotal: 2.69s\tremaining: 13.6s\n",
            "165:\tlearn: 0.5468514\ttotal: 2.71s\tremaining: 13.6s\n",
            "166:\tlearn: 0.5468329\ttotal: 2.72s\tremaining: 13.6s\n",
            "167:\tlearn: 0.5468117\ttotal: 2.74s\tremaining: 13.6s\n",
            "168:\tlearn: 0.5467917\ttotal: 2.76s\tremaining: 13.6s\n",
            "169:\tlearn: 0.5467669\ttotal: 2.78s\tremaining: 13.6s\n",
            "170:\tlearn: 0.5467470\ttotal: 2.79s\tremaining: 13.5s\n",
            "171:\tlearn: 0.5467284\ttotal: 2.81s\tremaining: 13.5s\n",
            "172:\tlearn: 0.5467138\ttotal: 2.82s\tremaining: 13.5s\n",
            "173:\tlearn: 0.5466924\ttotal: 2.84s\tremaining: 13.5s\n",
            "174:\tlearn: 0.5466815\ttotal: 2.85s\tremaining: 13.5s\n",
            "175:\tlearn: 0.5466634\ttotal: 2.87s\tremaining: 13.4s\n",
            "176:\tlearn: 0.5466333\ttotal: 2.89s\tremaining: 13.4s\n",
            "177:\tlearn: 0.5466299\ttotal: 2.9s\tremaining: 13.4s\n",
            "178:\tlearn: 0.5466159\ttotal: 2.92s\tremaining: 13.4s\n",
            "179:\tlearn: 0.5466036\ttotal: 2.94s\tremaining: 13.4s\n",
            "180:\tlearn: 0.5465831\ttotal: 2.96s\tremaining: 13.4s\n",
            "181:\tlearn: 0.5465600\ttotal: 2.97s\tremaining: 13.4s\n",
            "182:\tlearn: 0.5465558\ttotal: 2.99s\tremaining: 13.3s\n",
            "183:\tlearn: 0.5465242\ttotal: 3s\tremaining: 13.3s\n",
            "184:\tlearn: 0.5465161\ttotal: 3.02s\tremaining: 13.3s\n",
            "185:\tlearn: 0.5465017\ttotal: 3.03s\tremaining: 13.3s\n",
            "186:\tlearn: 0.5464866\ttotal: 3.05s\tremaining: 13.3s\n",
            "187:\tlearn: 0.5464628\ttotal: 3.07s\tremaining: 13.2s\n",
            "188:\tlearn: 0.5464420\ttotal: 3.08s\tremaining: 13.2s\n",
            "189:\tlearn: 0.5464292\ttotal: 3.1s\tremaining: 13.2s\n",
            "190:\tlearn: 0.5464172\ttotal: 3.12s\tremaining: 13.2s\n",
            "191:\tlearn: 0.5464085\ttotal: 3.14s\tremaining: 13.2s\n",
            "192:\tlearn: 0.5463906\ttotal: 3.16s\tremaining: 13.2s\n",
            "193:\tlearn: 0.5463727\ttotal: 3.18s\tremaining: 13.2s\n",
            "194:\tlearn: 0.5463562\ttotal: 3.19s\tremaining: 13.2s\n",
            "195:\tlearn: 0.5463362\ttotal: 3.21s\tremaining: 13.2s\n",
            "196:\tlearn: 0.5463244\ttotal: 3.22s\tremaining: 13.1s\n",
            "197:\tlearn: 0.5463183\ttotal: 3.24s\tremaining: 13.1s\n",
            "198:\tlearn: 0.5463026\ttotal: 3.25s\tremaining: 13.1s\n",
            "199:\tlearn: 0.5462938\ttotal: 3.27s\tremaining: 13.1s\n",
            "200:\tlearn: 0.5462752\ttotal: 3.29s\tremaining: 13.1s\n",
            "201:\tlearn: 0.5462624\ttotal: 3.3s\tremaining: 13s\n",
            "202:\tlearn: 0.5462341\ttotal: 3.32s\tremaining: 13s\n",
            "203:\tlearn: 0.5462150\ttotal: 3.33s\tremaining: 13s\n",
            "204:\tlearn: 0.5461887\ttotal: 3.35s\tremaining: 13s\n",
            "205:\tlearn: 0.5461729\ttotal: 3.37s\tremaining: 13s\n",
            "206:\tlearn: 0.5461585\ttotal: 3.38s\tremaining: 13s\n",
            "207:\tlearn: 0.5461354\ttotal: 3.4s\tremaining: 12.9s\n",
            "208:\tlearn: 0.5461236\ttotal: 3.41s\tremaining: 12.9s\n",
            "209:\tlearn: 0.5461050\ttotal: 3.44s\tremaining: 12.9s\n",
            "210:\tlearn: 0.5460941\ttotal: 3.45s\tremaining: 12.9s\n",
            "211:\tlearn: 0.5460732\ttotal: 3.47s\tremaining: 12.9s\n",
            "212:\tlearn: 0.5460519\ttotal: 3.49s\tremaining: 12.9s\n",
            "213:\tlearn: 0.5460444\ttotal: 3.5s\tremaining: 12.9s\n",
            "214:\tlearn: 0.5460174\ttotal: 3.52s\tremaining: 12.8s\n",
            "215:\tlearn: 0.5459778\ttotal: 3.54s\tremaining: 12.8s\n",
            "216:\tlearn: 0.5459542\ttotal: 3.55s\tremaining: 12.8s\n",
            "217:\tlearn: 0.5459352\ttotal: 3.58s\tremaining: 12.8s\n",
            "218:\tlearn: 0.5459161\ttotal: 3.59s\tremaining: 12.8s\n",
            "219:\tlearn: 0.5459006\ttotal: 3.61s\tremaining: 12.8s\n",
            "220:\tlearn: 0.5458663\ttotal: 3.62s\tremaining: 12.8s\n",
            "221:\tlearn: 0.5458476\ttotal: 3.64s\tremaining: 12.8s\n",
            "222:\tlearn: 0.5458285\ttotal: 3.65s\tremaining: 12.7s\n",
            "223:\tlearn: 0.5458075\ttotal: 3.67s\tremaining: 12.7s\n",
            "224:\tlearn: 0.5457846\ttotal: 3.69s\tremaining: 12.7s\n",
            "225:\tlearn: 0.5457661\ttotal: 3.7s\tremaining: 12.7s\n",
            "226:\tlearn: 0.5457482\ttotal: 3.72s\tremaining: 12.7s\n",
            "227:\tlearn: 0.5457317\ttotal: 3.73s\tremaining: 12.6s\n",
            "228:\tlearn: 0.5457135\ttotal: 3.75s\tremaining: 12.6s\n",
            "229:\tlearn: 0.5456910\ttotal: 3.77s\tremaining: 12.6s\n",
            "230:\tlearn: 0.5456841\ttotal: 3.79s\tremaining: 12.6s\n",
            "231:\tlearn: 0.5456696\ttotal: 3.81s\tremaining: 12.6s\n",
            "232:\tlearn: 0.5456518\ttotal: 3.82s\tremaining: 12.6s\n",
            "233:\tlearn: 0.5456310\ttotal: 3.84s\tremaining: 12.6s\n",
            "234:\tlearn: 0.5455951\ttotal: 3.85s\tremaining: 12.5s\n",
            "235:\tlearn: 0.5455793\ttotal: 3.87s\tremaining: 12.5s\n",
            "236:\tlearn: 0.5455587\ttotal: 3.89s\tremaining: 12.5s\n",
            "237:\tlearn: 0.5455379\ttotal: 3.91s\tremaining: 12.5s\n",
            "238:\tlearn: 0.5455191\ttotal: 3.92s\tremaining: 12.5s\n",
            "239:\tlearn: 0.5454965\ttotal: 3.94s\tremaining: 12.5s\n",
            "240:\tlearn: 0.5454845\ttotal: 3.95s\tremaining: 12.5s\n",
            "241:\tlearn: 0.5454783\ttotal: 3.97s\tremaining: 12.4s\n",
            "242:\tlearn: 0.5454688\ttotal: 3.99s\tremaining: 12.4s\n",
            "243:\tlearn: 0.5454484\ttotal: 4.01s\tremaining: 12.4s\n",
            "244:\tlearn: 0.5454252\ttotal: 4.02s\tremaining: 12.4s\n",
            "245:\tlearn: 0.5453950\ttotal: 4.04s\tremaining: 12.4s\n",
            "246:\tlearn: 0.5453838\ttotal: 4.05s\tremaining: 12.4s\n",
            "247:\tlearn: 0.5453710\ttotal: 4.07s\tremaining: 12.3s\n",
            "248:\tlearn: 0.5453660\ttotal: 4.08s\tremaining: 12.3s\n",
            "249:\tlearn: 0.5453538\ttotal: 4.11s\tremaining: 12.3s\n",
            "250:\tlearn: 0.5453354\ttotal: 4.13s\tremaining: 12.3s\n",
            "251:\tlearn: 0.5453103\ttotal: 4.14s\tremaining: 12.3s\n",
            "252:\tlearn: 0.5452843\ttotal: 4.16s\tremaining: 12.3s\n",
            "253:\tlearn: 0.5452593\ttotal: 4.18s\tremaining: 12.3s\n",
            "254:\tlearn: 0.5452329\ttotal: 4.19s\tremaining: 12.3s\n",
            "255:\tlearn: 0.5452157\ttotal: 4.21s\tremaining: 12.3s\n",
            "256:\tlearn: 0.5451970\ttotal: 4.23s\tremaining: 12.2s\n",
            "257:\tlearn: 0.5451920\ttotal: 4.25s\tremaining: 12.2s\n",
            "258:\tlearn: 0.5451682\ttotal: 4.26s\tremaining: 12.2s\n",
            "259:\tlearn: 0.5451459\ttotal: 4.28s\tremaining: 12.2s\n",
            "260:\tlearn: 0.5451201\ttotal: 4.3s\tremaining: 12.2s\n",
            "261:\tlearn: 0.5450999\ttotal: 4.32s\tremaining: 12.2s\n",
            "262:\tlearn: 0.5450870\ttotal: 4.33s\tremaining: 12.1s\n",
            "263:\tlearn: 0.5450553\ttotal: 4.35s\tremaining: 12.1s\n",
            "264:\tlearn: 0.5450214\ttotal: 4.36s\tremaining: 12.1s\n",
            "265:\tlearn: 0.5450008\ttotal: 4.38s\tremaining: 12.1s\n",
            "266:\tlearn: 0.5449865\ttotal: 4.39s\tremaining: 12.1s\n",
            "267:\tlearn: 0.5449725\ttotal: 4.41s\tremaining: 12s\n",
            "268:\tlearn: 0.5449536\ttotal: 4.43s\tremaining: 12s\n",
            "269:\tlearn: 0.5449276\ttotal: 4.45s\tremaining: 12s\n",
            "270:\tlearn: 0.5449096\ttotal: 4.46s\tremaining: 12s\n",
            "271:\tlearn: 0.5448892\ttotal: 4.48s\tremaining: 12s\n",
            "272:\tlearn: 0.5448759\ttotal: 4.49s\tremaining: 12s\n",
            "273:\tlearn: 0.5448662\ttotal: 4.51s\tremaining: 11.9s\n",
            "274:\tlearn: 0.5448422\ttotal: 4.52s\tremaining: 11.9s\n",
            "275:\tlearn: 0.5448201\ttotal: 4.54s\tremaining: 11.9s\n",
            "276:\tlearn: 0.5448157\ttotal: 4.56s\tremaining: 11.9s\n",
            "277:\tlearn: 0.5447963\ttotal: 4.57s\tremaining: 11.9s\n",
            "278:\tlearn: 0.5447857\ttotal: 4.59s\tremaining: 11.9s\n",
            "279:\tlearn: 0.5447643\ttotal: 4.6s\tremaining: 11.8s\n",
            "280:\tlearn: 0.5447409\ttotal: 4.62s\tremaining: 11.8s\n",
            "281:\tlearn: 0.5447315\ttotal: 4.64s\tremaining: 11.8s\n",
            "282:\tlearn: 0.5447112\ttotal: 4.65s\tremaining: 11.8s\n",
            "283:\tlearn: 0.5446910\ttotal: 4.67s\tremaining: 11.8s\n",
            "284:\tlearn: 0.5446770\ttotal: 4.69s\tremaining: 11.8s\n",
            "285:\tlearn: 0.5446622\ttotal: 4.71s\tremaining: 11.8s\n",
            "286:\tlearn: 0.5446526\ttotal: 4.72s\tremaining: 11.7s\n",
            "287:\tlearn: 0.5446430\ttotal: 4.74s\tremaining: 11.7s\n",
            "288:\tlearn: 0.5446273\ttotal: 4.75s\tremaining: 11.7s\n",
            "289:\tlearn: 0.5446070\ttotal: 4.77s\tremaining: 11.7s\n",
            "290:\tlearn: 0.5445879\ttotal: 4.79s\tremaining: 11.7s\n",
            "291:\tlearn: 0.5445701\ttotal: 4.8s\tremaining: 11.6s\n",
            "292:\tlearn: 0.5445533\ttotal: 4.82s\tremaining: 11.6s\n",
            "293:\tlearn: 0.5445351\ttotal: 4.83s\tremaining: 11.6s\n",
            "294:\tlearn: 0.5445090\ttotal: 4.86s\tremaining: 11.6s\n",
            "295:\tlearn: 0.5445007\ttotal: 4.87s\tremaining: 11.6s\n",
            "296:\tlearn: 0.5444764\ttotal: 4.88s\tremaining: 11.6s\n",
            "297:\tlearn: 0.5444560\ttotal: 4.9s\tremaining: 11.5s\n",
            "298:\tlearn: 0.5444414\ttotal: 4.92s\tremaining: 11.5s\n",
            "299:\tlearn: 0.5444240\ttotal: 4.93s\tremaining: 11.5s\n",
            "300:\tlearn: 0.5444050\ttotal: 4.95s\tremaining: 11.5s\n",
            "301:\tlearn: 0.5443820\ttotal: 4.96s\tremaining: 11.5s\n",
            "302:\tlearn: 0.5443643\ttotal: 4.98s\tremaining: 11.4s\n",
            "303:\tlearn: 0.5443505\ttotal: 4.99s\tremaining: 11.4s\n",
            "304:\tlearn: 0.5443310\ttotal: 5.01s\tremaining: 11.4s\n",
            "305:\tlearn: 0.5443130\ttotal: 5.03s\tremaining: 11.4s\n",
            "306:\tlearn: 0.5442911\ttotal: 5.05s\tremaining: 11.4s\n",
            "307:\tlearn: 0.5442655\ttotal: 5.07s\tremaining: 11.4s\n",
            "308:\tlearn: 0.5442471\ttotal: 5.08s\tremaining: 11.4s\n",
            "309:\tlearn: 0.5442356\ttotal: 5.1s\tremaining: 11.4s\n",
            "310:\tlearn: 0.5442056\ttotal: 5.13s\tremaining: 11.4s\n",
            "311:\tlearn: 0.5441914\ttotal: 5.14s\tremaining: 11.3s\n",
            "312:\tlearn: 0.5441742\ttotal: 5.16s\tremaining: 11.3s\n",
            "313:\tlearn: 0.5441711\ttotal: 5.17s\tremaining: 11.3s\n",
            "314:\tlearn: 0.5441537\ttotal: 5.19s\tremaining: 11.3s\n",
            "315:\tlearn: 0.5441261\ttotal: 5.21s\tremaining: 11.3s\n",
            "316:\tlearn: 0.5441088\ttotal: 5.22s\tremaining: 11.3s\n",
            "317:\tlearn: 0.5440944\ttotal: 5.24s\tremaining: 11.2s\n",
            "318:\tlearn: 0.5440778\ttotal: 5.26s\tremaining: 11.2s\n",
            "319:\tlearn: 0.5440553\ttotal: 5.28s\tremaining: 11.2s\n",
            "320:\tlearn: 0.5440383\ttotal: 5.3s\tremaining: 11.2s\n",
            "321:\tlearn: 0.5440181\ttotal: 5.31s\tremaining: 11.2s\n",
            "322:\tlearn: 0.5439980\ttotal: 5.33s\tremaining: 11.2s\n",
            "323:\tlearn: 0.5439838\ttotal: 5.35s\tremaining: 11.2s\n",
            "324:\tlearn: 0.5439775\ttotal: 5.36s\tremaining: 11.1s\n",
            "325:\tlearn: 0.5439486\ttotal: 5.38s\tremaining: 11.1s\n",
            "326:\tlearn: 0.5439415\ttotal: 5.39s\tremaining: 11.1s\n",
            "327:\tlearn: 0.5439291\ttotal: 5.41s\tremaining: 11.1s\n",
            "328:\tlearn: 0.5439080\ttotal: 5.43s\tremaining: 11.1s\n",
            "329:\tlearn: 0.5438907\ttotal: 5.45s\tremaining: 11.1s\n",
            "330:\tlearn: 0.5438708\ttotal: 5.46s\tremaining: 11s\n",
            "331:\tlearn: 0.5438528\ttotal: 5.49s\tremaining: 11s\n",
            "332:\tlearn: 0.5438350\ttotal: 5.5s\tremaining: 11s\n",
            "333:\tlearn: 0.5438110\ttotal: 5.52s\tremaining: 11s\n",
            "334:\tlearn: 0.5437954\ttotal: 5.54s\tremaining: 11s\n",
            "335:\tlearn: 0.5437805\ttotal: 5.55s\tremaining: 11s\n",
            "336:\tlearn: 0.5437622\ttotal: 5.57s\tremaining: 11s\n",
            "337:\tlearn: 0.5437517\ttotal: 5.58s\tremaining: 10.9s\n",
            "338:\tlearn: 0.5437387\ttotal: 5.6s\tremaining: 10.9s\n",
            "339:\tlearn: 0.5437256\ttotal: 5.62s\tremaining: 10.9s\n",
            "340:\tlearn: 0.5437056\ttotal: 5.63s\tremaining: 10.9s\n",
            "341:\tlearn: 0.5436921\ttotal: 5.65s\tremaining: 10.9s\n",
            "342:\tlearn: 0.5436799\ttotal: 5.67s\tremaining: 10.9s\n",
            "343:\tlearn: 0.5436586\ttotal: 5.69s\tremaining: 10.8s\n",
            "344:\tlearn: 0.5436416\ttotal: 5.7s\tremaining: 10.8s\n",
            "345:\tlearn: 0.5436235\ttotal: 5.72s\tremaining: 10.8s\n",
            "346:\tlearn: 0.5436032\ttotal: 5.74s\tremaining: 10.8s\n",
            "347:\tlearn: 0.5435854\ttotal: 5.75s\tremaining: 10.8s\n",
            "348:\tlearn: 0.5435656\ttotal: 5.77s\tremaining: 10.8s\n",
            "349:\tlearn: 0.5435489\ttotal: 5.79s\tremaining: 10.7s\n",
            "350:\tlearn: 0.5435431\ttotal: 5.8s\tremaining: 10.7s\n",
            "351:\tlearn: 0.5435315\ttotal: 5.82s\tremaining: 10.7s\n",
            "352:\tlearn: 0.5435065\ttotal: 5.83s\tremaining: 10.7s\n",
            "353:\tlearn: 0.5434827\ttotal: 5.85s\tremaining: 10.7s\n",
            "354:\tlearn: 0.5434797\ttotal: 5.87s\tremaining: 10.7s\n",
            "355:\tlearn: 0.5434650\ttotal: 5.89s\tremaining: 10.6s\n",
            "356:\tlearn: 0.5434497\ttotal: 5.9s\tremaining: 10.6s\n",
            "357:\tlearn: 0.5434312\ttotal: 5.92s\tremaining: 10.6s\n",
            "358:\tlearn: 0.5434097\ttotal: 5.94s\tremaining: 10.6s\n",
            "359:\tlearn: 0.5433929\ttotal: 5.95s\tremaining: 10.6s\n",
            "360:\tlearn: 0.5433751\ttotal: 5.97s\tremaining: 10.6s\n",
            "361:\tlearn: 0.5433595\ttotal: 5.99s\tremaining: 10.6s\n",
            "362:\tlearn: 0.5433492\ttotal: 6.01s\tremaining: 10.5s\n",
            "363:\tlearn: 0.5433294\ttotal: 6.02s\tremaining: 10.5s\n",
            "364:\tlearn: 0.5433213\ttotal: 6.04s\tremaining: 10.5s\n",
            "365:\tlearn: 0.5433104\ttotal: 6.06s\tremaining: 10.5s\n",
            "366:\tlearn: 0.5432927\ttotal: 6.07s\tremaining: 10.5s\n",
            "367:\tlearn: 0.5432709\ttotal: 6.09s\tremaining: 10.5s\n",
            "368:\tlearn: 0.5432537\ttotal: 6.12s\tremaining: 10.5s\n",
            "369:\tlearn: 0.5432387\ttotal: 6.14s\tremaining: 10.5s\n",
            "370:\tlearn: 0.5432318\ttotal: 6.15s\tremaining: 10.4s\n",
            "371:\tlearn: 0.5432191\ttotal: 6.17s\tremaining: 10.4s\n",
            "372:\tlearn: 0.5432049\ttotal: 6.19s\tremaining: 10.4s\n",
            "373:\tlearn: 0.5431884\ttotal: 6.2s\tremaining: 10.4s\n",
            "374:\tlearn: 0.5431746\ttotal: 6.22s\tremaining: 10.4s\n",
            "375:\tlearn: 0.5431531\ttotal: 6.23s\tremaining: 10.3s\n",
            "376:\tlearn: 0.5431520\ttotal: 6.25s\tremaining: 10.3s\n",
            "377:\tlearn: 0.5431378\ttotal: 6.27s\tremaining: 10.3s\n",
            "378:\tlearn: 0.5431282\ttotal: 6.28s\tremaining: 10.3s\n",
            "379:\tlearn: 0.5431103\ttotal: 6.3s\tremaining: 10.3s\n",
            "380:\tlearn: 0.5430943\ttotal: 6.32s\tremaining: 10.3s\n",
            "381:\tlearn: 0.5430728\ttotal: 6.34s\tremaining: 10.3s\n",
            "382:\tlearn: 0.5430540\ttotal: 6.35s\tremaining: 10.2s\n",
            "383:\tlearn: 0.5430382\ttotal: 6.37s\tremaining: 10.2s\n",
            "384:\tlearn: 0.5430270\ttotal: 6.39s\tremaining: 10.2s\n",
            "385:\tlearn: 0.5430149\ttotal: 6.41s\tremaining: 10.2s\n",
            "386:\tlearn: 0.5430018\ttotal: 6.43s\tremaining: 10.2s\n",
            "387:\tlearn: 0.5429990\ttotal: 6.44s\tremaining: 10.2s\n",
            "388:\tlearn: 0.5429976\ttotal: 6.46s\tremaining: 10.1s\n",
            "389:\tlearn: 0.5429970\ttotal: 6.47s\tremaining: 10.1s\n",
            "390:\tlearn: 0.5429834\ttotal: 6.49s\tremaining: 10.1s\n",
            "391:\tlearn: 0.5429575\ttotal: 6.51s\tremaining: 10.1s\n",
            "392:\tlearn: 0.5429418\ttotal: 6.53s\tremaining: 10.1s\n",
            "393:\tlearn: 0.5429249\ttotal: 6.55s\tremaining: 10.1s\n",
            "394:\tlearn: 0.5429072\ttotal: 6.56s\tremaining: 10.1s\n",
            "395:\tlearn: 0.5428922\ttotal: 6.58s\tremaining: 10s\n",
            "396:\tlearn: 0.5428739\ttotal: 6.59s\tremaining: 10s\n",
            "397:\tlearn: 0.5428637\ttotal: 6.61s\tremaining: 10s\n",
            "398:\tlearn: 0.5428419\ttotal: 6.63s\tremaining: 9.98s\n",
            "399:\tlearn: 0.5428320\ttotal: 6.64s\tremaining: 9.96s\n",
            "400:\tlearn: 0.5428169\ttotal: 6.66s\tremaining: 9.95s\n",
            "401:\tlearn: 0.5427954\ttotal: 6.68s\tremaining: 9.94s\n",
            "402:\tlearn: 0.5427680\ttotal: 6.7s\tremaining: 9.92s\n",
            "403:\tlearn: 0.5427533\ttotal: 6.71s\tremaining: 9.9s\n",
            "404:\tlearn: 0.5427511\ttotal: 6.73s\tremaining: 9.89s\n",
            "405:\tlearn: 0.5427405\ttotal: 6.75s\tremaining: 9.87s\n",
            "406:\tlearn: 0.5427302\ttotal: 6.77s\tremaining: 9.86s\n",
            "407:\tlearn: 0.5427167\ttotal: 6.79s\tremaining: 9.85s\n",
            "408:\tlearn: 0.5427083\ttotal: 6.8s\tremaining: 9.83s\n",
            "409:\tlearn: 0.5426945\ttotal: 6.82s\tremaining: 9.81s\n",
            "410:\tlearn: 0.5426756\ttotal: 6.83s\tremaining: 9.79s\n",
            "411:\tlearn: 0.5426552\ttotal: 6.85s\tremaining: 9.77s\n",
            "412:\tlearn: 0.5426334\ttotal: 6.86s\tremaining: 9.76s\n",
            "413:\tlearn: 0.5426195\ttotal: 6.88s\tremaining: 9.74s\n",
            "414:\tlearn: 0.5425941\ttotal: 6.9s\tremaining: 9.72s\n",
            "415:\tlearn: 0.5425805\ttotal: 6.91s\tremaining: 9.7s\n",
            "416:\tlearn: 0.5425555\ttotal: 6.93s\tremaining: 9.68s\n",
            "417:\tlearn: 0.5425356\ttotal: 6.95s\tremaining: 9.67s\n",
            "418:\tlearn: 0.5425218\ttotal: 6.96s\tremaining: 9.66s\n",
            "419:\tlearn: 0.5425064\ttotal: 6.98s\tremaining: 9.64s\n",
            "420:\tlearn: 0.5424933\ttotal: 7s\tremaining: 9.62s\n",
            "421:\tlearn: 0.5424745\ttotal: 7.01s\tremaining: 9.61s\n",
            "422:\tlearn: 0.5424557\ttotal: 7.03s\tremaining: 9.59s\n",
            "423:\tlearn: 0.5424360\ttotal: 7.05s\tremaining: 9.57s\n",
            "424:\tlearn: 0.5424215\ttotal: 7.06s\tremaining: 9.55s\n",
            "425:\tlearn: 0.5424001\ttotal: 7.08s\tremaining: 9.54s\n",
            "426:\tlearn: 0.5423785\ttotal: 7.09s\tremaining: 9.52s\n",
            "427:\tlearn: 0.5423627\ttotal: 7.12s\tremaining: 9.51s\n",
            "428:\tlearn: 0.5423522\ttotal: 7.13s\tremaining: 9.5s\n",
            "429:\tlearn: 0.5423491\ttotal: 7.16s\tremaining: 9.49s\n",
            "430:\tlearn: 0.5423310\ttotal: 7.17s\tremaining: 9.47s\n",
            "431:\tlearn: 0.5423118\ttotal: 7.19s\tremaining: 9.46s\n",
            "432:\tlearn: 0.5422960\ttotal: 7.21s\tremaining: 9.44s\n",
            "433:\tlearn: 0.5422778\ttotal: 7.22s\tremaining: 9.42s\n",
            "434:\tlearn: 0.5422530\ttotal: 7.24s\tremaining: 9.41s\n",
            "435:\tlearn: 0.5422336\ttotal: 7.27s\tremaining: 9.4s\n",
            "436:\tlearn: 0.5422154\ttotal: 7.28s\tremaining: 9.38s\n",
            "437:\tlearn: 0.5422107\ttotal: 7.3s\tremaining: 9.36s\n",
            "438:\tlearn: 0.5421981\ttotal: 7.31s\tremaining: 9.35s\n",
            "439:\tlearn: 0.5421813\ttotal: 7.33s\tremaining: 9.33s\n",
            "440:\tlearn: 0.5421552\ttotal: 7.35s\tremaining: 9.31s\n",
            "441:\tlearn: 0.5421426\ttotal: 7.37s\tremaining: 9.3s\n",
            "442:\tlearn: 0.5421213\ttotal: 7.38s\tremaining: 9.29s\n",
            "443:\tlearn: 0.5420984\ttotal: 7.4s\tremaining: 9.27s\n",
            "444:\tlearn: 0.5420859\ttotal: 7.42s\tremaining: 9.25s\n",
            "445:\tlearn: 0.5420663\ttotal: 7.43s\tremaining: 9.23s\n",
            "446:\tlearn: 0.5420482\ttotal: 7.45s\tremaining: 9.21s\n",
            "447:\tlearn: 0.5420338\ttotal: 7.46s\tremaining: 9.2s\n",
            "448:\tlearn: 0.5420260\ttotal: 7.48s\tremaining: 9.18s\n",
            "449:\tlearn: 0.5420106\ttotal: 7.5s\tremaining: 9.16s\n",
            "450:\tlearn: 0.5420028\ttotal: 7.51s\tremaining: 9.14s\n",
            "451:\tlearn: 0.5419871\ttotal: 7.53s\tremaining: 9.13s\n",
            "452:\tlearn: 0.5419653\ttotal: 7.54s\tremaining: 9.11s\n",
            "453:\tlearn: 0.5419523\ttotal: 7.56s\tremaining: 9.09s\n",
            "454:\tlearn: 0.5419504\ttotal: 7.58s\tremaining: 9.08s\n",
            "455:\tlearn: 0.5419385\ttotal: 7.6s\tremaining: 9.06s\n",
            "456:\tlearn: 0.5419208\ttotal: 7.62s\tremaining: 9.06s\n",
            "457:\tlearn: 0.5419113\ttotal: 7.65s\tremaining: 9.05s\n",
            "458:\tlearn: 0.5419047\ttotal: 7.66s\tremaining: 9.03s\n",
            "459:\tlearn: 0.5418952\ttotal: 7.68s\tremaining: 9.02s\n",
            "460:\tlearn: 0.5418756\ttotal: 7.7s\tremaining: 9s\n",
            "461:\tlearn: 0.5418688\ttotal: 7.71s\tremaining: 8.98s\n",
            "462:\tlearn: 0.5418465\ttotal: 7.73s\tremaining: 8.97s\n",
            "463:\tlearn: 0.5418174\ttotal: 7.75s\tremaining: 8.95s\n",
            "464:\tlearn: 0.5418069\ttotal: 7.76s\tremaining: 8.93s\n",
            "465:\tlearn: 0.5418024\ttotal: 7.78s\tremaining: 8.92s\n",
            "466:\tlearn: 0.5417791\ttotal: 7.8s\tremaining: 8.9s\n",
            "467:\tlearn: 0.5417668\ttotal: 7.82s\tremaining: 8.88s\n",
            "468:\tlearn: 0.5417442\ttotal: 7.83s\tremaining: 8.87s\n",
            "469:\tlearn: 0.5417191\ttotal: 7.85s\tremaining: 8.85s\n",
            "470:\tlearn: 0.5417031\ttotal: 7.87s\tremaining: 8.83s\n",
            "471:\tlearn: 0.5416863\ttotal: 7.88s\tremaining: 8.82s\n",
            "472:\tlearn: 0.5416680\ttotal: 7.9s\tremaining: 8.8s\n",
            "473:\tlearn: 0.5416547\ttotal: 7.92s\tremaining: 8.79s\n",
            "474:\tlearn: 0.5416342\ttotal: 7.93s\tremaining: 8.77s\n",
            "475:\tlearn: 0.5416118\ttotal: 7.95s\tremaining: 8.75s\n",
            "476:\tlearn: 0.5415902\ttotal: 7.97s\tremaining: 8.73s\n",
            "477:\tlearn: 0.5415771\ttotal: 7.99s\tremaining: 8.72s\n",
            "478:\tlearn: 0.5415659\ttotal: 8s\tremaining: 8.71s\n",
            "479:\tlearn: 0.5415652\ttotal: 8.02s\tremaining: 8.69s\n",
            "480:\tlearn: 0.5415446\ttotal: 8.04s\tremaining: 8.67s\n",
            "481:\tlearn: 0.5415317\ttotal: 8.05s\tremaining: 8.65s\n",
            "482:\tlearn: 0.5415225\ttotal: 8.07s\tremaining: 8.64s\n",
            "483:\tlearn: 0.5415067\ttotal: 8.08s\tremaining: 8.62s\n",
            "484:\tlearn: 0.5415060\ttotal: 8.1s\tremaining: 8.6s\n",
            "485:\tlearn: 0.5414900\ttotal: 8.12s\tremaining: 8.59s\n",
            "486:\tlearn: 0.5414745\ttotal: 8.14s\tremaining: 8.57s\n",
            "487:\tlearn: 0.5414651\ttotal: 8.15s\tremaining: 8.55s\n",
            "488:\tlearn: 0.5414506\ttotal: 8.17s\tremaining: 8.54s\n",
            "489:\tlearn: 0.5414342\ttotal: 8.19s\tremaining: 8.52s\n",
            "490:\tlearn: 0.5414160\ttotal: 8.2s\tremaining: 8.51s\n",
            "491:\tlearn: 0.5414023\ttotal: 8.22s\tremaining: 8.49s\n",
            "492:\tlearn: 0.5413726\ttotal: 8.24s\tremaining: 8.47s\n",
            "493:\tlearn: 0.5413622\ttotal: 8.26s\tremaining: 8.46s\n",
            "494:\tlearn: 0.5413506\ttotal: 8.28s\tremaining: 8.45s\n",
            "495:\tlearn: 0.5413344\ttotal: 8.3s\tremaining: 8.43s\n",
            "496:\tlearn: 0.5413201\ttotal: 8.31s\tremaining: 8.41s\n",
            "497:\tlearn: 0.5413064\ttotal: 8.33s\tremaining: 8.4s\n",
            "498:\tlearn: 0.5412928\ttotal: 8.35s\tremaining: 8.38s\n",
            "499:\tlearn: 0.5412837\ttotal: 8.36s\tremaining: 8.36s\n",
            "500:\tlearn: 0.5412682\ttotal: 8.38s\tremaining: 8.35s\n",
            "501:\tlearn: 0.5412510\ttotal: 8.4s\tremaining: 8.33s\n",
            "502:\tlearn: 0.5412256\ttotal: 8.42s\tremaining: 8.32s\n",
            "503:\tlearn: 0.5412143\ttotal: 8.44s\tremaining: 8.3s\n",
            "504:\tlearn: 0.5412092\ttotal: 8.45s\tremaining: 8.28s\n",
            "505:\tlearn: 0.5412048\ttotal: 8.47s\tremaining: 8.27s\n",
            "506:\tlearn: 0.5412000\ttotal: 8.48s\tremaining: 8.25s\n",
            "507:\tlearn: 0.5411813\ttotal: 8.5s\tremaining: 8.23s\n",
            "508:\tlearn: 0.5411712\ttotal: 8.52s\tremaining: 8.21s\n",
            "509:\tlearn: 0.5411505\ttotal: 8.53s\tremaining: 8.2s\n",
            "510:\tlearn: 0.5411367\ttotal: 8.55s\tremaining: 8.18s\n",
            "511:\tlearn: 0.5411238\ttotal: 8.56s\tremaining: 8.16s\n",
            "512:\tlearn: 0.5411073\ttotal: 8.58s\tremaining: 8.15s\n",
            "513:\tlearn: 0.5411022\ttotal: 8.6s\tremaining: 8.13s\n",
            "514:\tlearn: 0.5410850\ttotal: 8.61s\tremaining: 8.11s\n",
            "515:\tlearn: 0.5410625\ttotal: 8.63s\tremaining: 8.1s\n",
            "516:\tlearn: 0.5410516\ttotal: 8.65s\tremaining: 8.08s\n",
            "517:\tlearn: 0.5410504\ttotal: 8.67s\tremaining: 8.07s\n",
            "518:\tlearn: 0.5410335\ttotal: 8.69s\tremaining: 8.05s\n",
            "519:\tlearn: 0.5410219\ttotal: 8.71s\tremaining: 8.04s\n",
            "520:\tlearn: 0.5410035\ttotal: 8.72s\tremaining: 8.02s\n",
            "521:\tlearn: 0.5410013\ttotal: 8.74s\tremaining: 8s\n",
            "522:\tlearn: 0.5409930\ttotal: 8.75s\tremaining: 7.98s\n",
            "523:\tlearn: 0.5409926\ttotal: 8.77s\tremaining: 7.96s\n",
            "524:\tlearn: 0.5409637\ttotal: 8.79s\tremaining: 7.95s\n",
            "525:\tlearn: 0.5409437\ttotal: 8.8s\tremaining: 7.93s\n",
            "526:\tlearn: 0.5409397\ttotal: 8.82s\tremaining: 7.91s\n",
            "527:\tlearn: 0.5409329\ttotal: 8.84s\tremaining: 7.9s\n",
            "528:\tlearn: 0.5409144\ttotal: 8.85s\tremaining: 7.88s\n",
            "529:\tlearn: 0.5409026\ttotal: 8.87s\tremaining: 7.87s\n",
            "530:\tlearn: 0.5409015\ttotal: 8.89s\tremaining: 7.85s\n",
            "531:\tlearn: 0.5408929\ttotal: 8.9s\tremaining: 7.83s\n",
            "532:\tlearn: 0.5408746\ttotal: 8.92s\tremaining: 7.82s\n",
            "533:\tlearn: 0.5408598\ttotal: 8.94s\tremaining: 7.8s\n",
            "534:\tlearn: 0.5408369\ttotal: 8.95s\tremaining: 7.78s\n",
            "535:\tlearn: 0.5408324\ttotal: 8.97s\tremaining: 7.76s\n",
            "536:\tlearn: 0.5408149\ttotal: 8.99s\tremaining: 7.75s\n",
            "537:\tlearn: 0.5407864\ttotal: 9s\tremaining: 7.73s\n",
            "538:\tlearn: 0.5407697\ttotal: 9.02s\tremaining: 7.71s\n",
            "539:\tlearn: 0.5407528\ttotal: 9.04s\tremaining: 7.7s\n",
            "540:\tlearn: 0.5407415\ttotal: 9.06s\tremaining: 7.69s\n",
            "541:\tlearn: 0.5407300\ttotal: 9.08s\tremaining: 7.67s\n",
            "542:\tlearn: 0.5407089\ttotal: 9.09s\tremaining: 7.65s\n",
            "543:\tlearn: 0.5406956\ttotal: 9.12s\tremaining: 7.64s\n",
            "544:\tlearn: 0.5406771\ttotal: 9.13s\tremaining: 7.62s\n",
            "545:\tlearn: 0.5406641\ttotal: 9.15s\tremaining: 7.61s\n",
            "546:\tlearn: 0.5406497\ttotal: 9.16s\tremaining: 7.59s\n",
            "547:\tlearn: 0.5406356\ttotal: 9.18s\tremaining: 7.57s\n",
            "548:\tlearn: 0.5406129\ttotal: 9.2s\tremaining: 7.55s\n",
            "549:\tlearn: 0.5405900\ttotal: 9.21s\tremaining: 7.54s\n",
            "550:\tlearn: 0.5405790\ttotal: 9.23s\tremaining: 7.52s\n",
            "551:\tlearn: 0.5405637\ttotal: 9.25s\tremaining: 7.51s\n",
            "552:\tlearn: 0.5405398\ttotal: 9.27s\tremaining: 7.49s\n",
            "553:\tlearn: 0.5405251\ttotal: 9.29s\tremaining: 7.47s\n",
            "554:\tlearn: 0.5405067\ttotal: 9.3s\tremaining: 7.46s\n",
            "555:\tlearn: 0.5404919\ttotal: 9.32s\tremaining: 7.44s\n",
            "556:\tlearn: 0.5404733\ttotal: 9.33s\tremaining: 7.42s\n",
            "557:\tlearn: 0.5404521\ttotal: 9.35s\tremaining: 7.41s\n",
            "558:\tlearn: 0.5404364\ttotal: 9.37s\tremaining: 7.39s\n",
            "559:\tlearn: 0.5404207\ttotal: 9.39s\tremaining: 7.38s\n",
            "560:\tlearn: 0.5403943\ttotal: 9.4s\tremaining: 7.36s\n",
            "561:\tlearn: 0.5403756\ttotal: 9.42s\tremaining: 7.34s\n",
            "562:\tlearn: 0.5403634\ttotal: 9.44s\tremaining: 7.33s\n",
            "563:\tlearn: 0.5403480\ttotal: 9.46s\tremaining: 7.31s\n",
            "564:\tlearn: 0.5403404\ttotal: 9.47s\tremaining: 7.29s\n",
            "565:\tlearn: 0.5403292\ttotal: 9.49s\tremaining: 7.28s\n",
            "566:\tlearn: 0.5403220\ttotal: 9.51s\tremaining: 7.26s\n",
            "567:\tlearn: 0.5403075\ttotal: 9.52s\tremaining: 7.24s\n",
            "568:\tlearn: 0.5402874\ttotal: 9.54s\tremaining: 7.23s\n",
            "569:\tlearn: 0.5402753\ttotal: 9.56s\tremaining: 7.21s\n",
            "570:\tlearn: 0.5402545\ttotal: 9.57s\tremaining: 7.19s\n",
            "571:\tlearn: 0.5402398\ttotal: 9.59s\tremaining: 7.18s\n",
            "572:\tlearn: 0.5402295\ttotal: 9.61s\tremaining: 7.16s\n",
            "573:\tlearn: 0.5402182\ttotal: 9.63s\tremaining: 7.14s\n",
            "574:\tlearn: 0.5402157\ttotal: 9.64s\tremaining: 7.13s\n",
            "575:\tlearn: 0.5402051\ttotal: 9.66s\tremaining: 7.11s\n",
            "576:\tlearn: 0.5401915\ttotal: 9.68s\tremaining: 7.09s\n",
            "577:\tlearn: 0.5401815\ttotal: 9.69s\tremaining: 7.08s\n",
            "578:\tlearn: 0.5401744\ttotal: 9.71s\tremaining: 7.06s\n",
            "579:\tlearn: 0.5401684\ttotal: 9.73s\tremaining: 7.04s\n",
            "580:\tlearn: 0.5401517\ttotal: 9.75s\tremaining: 7.03s\n",
            "581:\tlearn: 0.5401462\ttotal: 9.77s\tremaining: 7.01s\n",
            "582:\tlearn: 0.5401303\ttotal: 9.78s\tremaining: 7s\n",
            "583:\tlearn: 0.5401169\ttotal: 9.8s\tremaining: 6.98s\n",
            "584:\tlearn: 0.5401009\ttotal: 9.81s\tremaining: 6.96s\n",
            "585:\tlearn: 0.5400820\ttotal: 9.83s\tremaining: 6.95s\n",
            "586:\tlearn: 0.5400660\ttotal: 9.85s\tremaining: 6.93s\n",
            "587:\tlearn: 0.5400553\ttotal: 9.87s\tremaining: 6.91s\n",
            "588:\tlearn: 0.5400296\ttotal: 9.88s\tremaining: 6.89s\n",
            "589:\tlearn: 0.5400170\ttotal: 9.9s\tremaining: 6.88s\n",
            "590:\tlearn: 0.5399995\ttotal: 9.91s\tremaining: 6.86s\n",
            "591:\tlearn: 0.5399827\ttotal: 9.93s\tremaining: 6.84s\n",
            "592:\tlearn: 0.5399749\ttotal: 9.95s\tremaining: 6.83s\n",
            "593:\tlearn: 0.5399573\ttotal: 9.96s\tremaining: 6.81s\n",
            "594:\tlearn: 0.5399379\ttotal: 9.98s\tremaining: 6.79s\n",
            "595:\tlearn: 0.5399219\ttotal: 10s\tremaining: 6.78s\n",
            "596:\tlearn: 0.5398971\ttotal: 10s\tremaining: 6.76s\n",
            "597:\tlearn: 0.5398823\ttotal: 10s\tremaining: 6.74s\n",
            "598:\tlearn: 0.5398816\ttotal: 10s\tremaining: 6.72s\n",
            "599:\tlearn: 0.5398745\ttotal: 10.1s\tremaining: 6.71s\n",
            "600:\tlearn: 0.5398618\ttotal: 10.1s\tremaining: 6.7s\n",
            "601:\tlearn: 0.5398599\ttotal: 10.1s\tremaining: 6.68s\n",
            "602:\tlearn: 0.5398418\ttotal: 10.1s\tremaining: 6.67s\n",
            "603:\tlearn: 0.5398386\ttotal: 10.1s\tremaining: 6.65s\n",
            "604:\tlearn: 0.5398206\ttotal: 10.2s\tremaining: 6.63s\n",
            "605:\tlearn: 0.5398088\ttotal: 10.2s\tremaining: 6.62s\n",
            "606:\tlearn: 0.5397942\ttotal: 10.2s\tremaining: 6.6s\n",
            "607:\tlearn: 0.5397716\ttotal: 10.2s\tremaining: 6.59s\n",
            "608:\tlearn: 0.5397623\ttotal: 10.2s\tremaining: 6.57s\n",
            "609:\tlearn: 0.5397526\ttotal: 10.2s\tremaining: 6.55s\n",
            "610:\tlearn: 0.5397263\ttotal: 10.3s\tremaining: 6.54s\n",
            "611:\tlearn: 0.5397117\ttotal: 10.3s\tremaining: 6.52s\n",
            "612:\tlearn: 0.5396982\ttotal: 10.3s\tremaining: 6.5s\n",
            "613:\tlearn: 0.5396876\ttotal: 10.3s\tremaining: 6.49s\n",
            "614:\tlearn: 0.5396756\ttotal: 10.3s\tremaining: 6.47s\n",
            "615:\tlearn: 0.5396641\ttotal: 10.3s\tremaining: 6.45s\n",
            "616:\tlearn: 0.5396572\ttotal: 10.4s\tremaining: 6.43s\n",
            "617:\tlearn: 0.5396465\ttotal: 10.4s\tremaining: 6.42s\n",
            "618:\tlearn: 0.5396413\ttotal: 10.4s\tremaining: 6.4s\n",
            "619:\tlearn: 0.5396399\ttotal: 10.4s\tremaining: 6.38s\n",
            "620:\tlearn: 0.5396354\ttotal: 10.4s\tremaining: 6.37s\n",
            "621:\tlearn: 0.5396234\ttotal: 10.4s\tremaining: 6.35s\n",
            "622:\tlearn: 0.5396130\ttotal: 10.5s\tremaining: 6.33s\n",
            "623:\tlearn: 0.5396006\ttotal: 10.5s\tremaining: 6.32s\n",
            "624:\tlearn: 0.5395891\ttotal: 10.5s\tremaining: 6.3s\n",
            "625:\tlearn: 0.5395693\ttotal: 10.5s\tremaining: 6.29s\n",
            "626:\tlearn: 0.5395552\ttotal: 10.5s\tremaining: 6.27s\n",
            "627:\tlearn: 0.5395540\ttotal: 10.6s\tremaining: 6.25s\n",
            "628:\tlearn: 0.5395533\ttotal: 10.6s\tremaining: 6.23s\n",
            "629:\tlearn: 0.5395467\ttotal: 10.6s\tremaining: 6.22s\n",
            "630:\tlearn: 0.5395269\ttotal: 10.6s\tremaining: 6.2s\n",
            "631:\tlearn: 0.5395010\ttotal: 10.6s\tremaining: 6.18s\n",
            "632:\tlearn: 0.5394963\ttotal: 10.6s\tremaining: 6.17s\n",
            "633:\tlearn: 0.5394840\ttotal: 10.7s\tremaining: 6.15s\n",
            "634:\tlearn: 0.5394744\ttotal: 10.7s\tremaining: 6.13s\n",
            "635:\tlearn: 0.5394608\ttotal: 10.7s\tremaining: 6.12s\n",
            "636:\tlearn: 0.5394429\ttotal: 10.7s\tremaining: 6.1s\n",
            "637:\tlearn: 0.5394294\ttotal: 10.7s\tremaining: 6.08s\n",
            "638:\tlearn: 0.5394167\ttotal: 10.7s\tremaining: 6.07s\n",
            "639:\tlearn: 0.5394058\ttotal: 10.8s\tremaining: 6.06s\n",
            "640:\tlearn: 0.5393927\ttotal: 10.8s\tremaining: 6.04s\n",
            "641:\tlearn: 0.5393798\ttotal: 10.8s\tremaining: 6.02s\n",
            "642:\tlearn: 0.5393471\ttotal: 10.8s\tremaining: 6.01s\n",
            "643:\tlearn: 0.5393222\ttotal: 10.8s\tremaining: 5.99s\n",
            "644:\tlearn: 0.5393077\ttotal: 10.9s\tremaining: 5.97s\n",
            "645:\tlearn: 0.5392997\ttotal: 10.9s\tremaining: 5.96s\n",
            "646:\tlearn: 0.5392850\ttotal: 10.9s\tremaining: 5.94s\n",
            "647:\tlearn: 0.5392655\ttotal: 10.9s\tremaining: 5.92s\n",
            "648:\tlearn: 0.5392539\ttotal: 10.9s\tremaining: 5.91s\n",
            "649:\tlearn: 0.5392399\ttotal: 10.9s\tremaining: 5.89s\n",
            "650:\tlearn: 0.5392293\ttotal: 11s\tremaining: 5.87s\n",
            "651:\tlearn: 0.5392061\ttotal: 11s\tremaining: 5.86s\n",
            "652:\tlearn: 0.5392000\ttotal: 11s\tremaining: 5.84s\n",
            "653:\tlearn: 0.5391840\ttotal: 11s\tremaining: 5.82s\n",
            "654:\tlearn: 0.5391572\ttotal: 11s\tremaining: 5.8s\n",
            "655:\tlearn: 0.5391503\ttotal: 11s\tremaining: 5.79s\n",
            "656:\tlearn: 0.5391453\ttotal: 11.1s\tremaining: 5.77s\n",
            "657:\tlearn: 0.5391443\ttotal: 11.1s\tremaining: 5.75s\n",
            "658:\tlearn: 0.5391413\ttotal: 11.1s\tremaining: 5.74s\n",
            "659:\tlearn: 0.5391405\ttotal: 11.1s\tremaining: 5.72s\n",
            "660:\tlearn: 0.5391266\ttotal: 11.1s\tremaining: 5.71s\n",
            "661:\tlearn: 0.5391071\ttotal: 11.1s\tremaining: 5.69s\n",
            "662:\tlearn: 0.5390931\ttotal: 11.2s\tremaining: 5.67s\n",
            "663:\tlearn: 0.5390812\ttotal: 11.2s\tremaining: 5.66s\n",
            "664:\tlearn: 0.5390631\ttotal: 11.2s\tremaining: 5.64s\n",
            "665:\tlearn: 0.5390527\ttotal: 11.2s\tremaining: 5.63s\n",
            "666:\tlearn: 0.5390333\ttotal: 11.2s\tremaining: 5.61s\n",
            "667:\tlearn: 0.5390257\ttotal: 11.2s\tremaining: 5.59s\n",
            "668:\tlearn: 0.5390253\ttotal: 11.3s\tremaining: 5.57s\n",
            "669:\tlearn: 0.5389985\ttotal: 11.3s\tremaining: 5.55s\n",
            "670:\tlearn: 0.5389820\ttotal: 11.3s\tremaining: 5.54s\n",
            "671:\tlearn: 0.5389755\ttotal: 11.3s\tremaining: 5.52s\n",
            "672:\tlearn: 0.5389557\ttotal: 11.3s\tremaining: 5.5s\n",
            "673:\tlearn: 0.5389448\ttotal: 11.3s\tremaining: 5.49s\n",
            "674:\tlearn: 0.5389339\ttotal: 11.4s\tremaining: 5.47s\n",
            "675:\tlearn: 0.5389206\ttotal: 11.4s\tremaining: 5.45s\n",
            "676:\tlearn: 0.5389197\ttotal: 11.4s\tremaining: 5.43s\n",
            "677:\tlearn: 0.5389014\ttotal: 11.4s\tremaining: 5.42s\n",
            "678:\tlearn: 0.5388839\ttotal: 11.4s\tremaining: 5.4s\n",
            "679:\tlearn: 0.5388754\ttotal: 11.4s\tremaining: 5.38s\n",
            "680:\tlearn: 0.5388614\ttotal: 11.5s\tremaining: 5.37s\n",
            "681:\tlearn: 0.5388559\ttotal: 11.5s\tremaining: 5.35s\n",
            "682:\tlearn: 0.5388471\ttotal: 11.5s\tremaining: 5.33s\n",
            "683:\tlearn: 0.5388375\ttotal: 11.5s\tremaining: 5.32s\n",
            "684:\tlearn: 0.5388278\ttotal: 11.5s\tremaining: 5.3s\n",
            "685:\tlearn: 0.5388270\ttotal: 11.5s\tremaining: 5.28s\n",
            "686:\tlearn: 0.5388127\ttotal: 11.6s\tremaining: 5.27s\n",
            "687:\tlearn: 0.5387991\ttotal: 11.6s\tremaining: 5.25s\n",
            "688:\tlearn: 0.5387835\ttotal: 11.6s\tremaining: 5.23s\n",
            "689:\tlearn: 0.5387724\ttotal: 11.6s\tremaining: 5.22s\n",
            "690:\tlearn: 0.5387641\ttotal: 11.6s\tremaining: 5.2s\n",
            "691:\tlearn: 0.5387514\ttotal: 11.6s\tremaining: 5.18s\n",
            "692:\tlearn: 0.5387424\ttotal: 11.7s\tremaining: 5.17s\n",
            "693:\tlearn: 0.5387388\ttotal: 11.7s\tremaining: 5.15s\n",
            "694:\tlearn: 0.5387375\ttotal: 11.7s\tremaining: 5.13s\n",
            "695:\tlearn: 0.5387186\ttotal: 11.7s\tremaining: 5.11s\n",
            "696:\tlearn: 0.5387088\ttotal: 11.7s\tremaining: 5.1s\n",
            "697:\tlearn: 0.5386911\ttotal: 11.7s\tremaining: 5.08s\n",
            "698:\tlearn: 0.5386658\ttotal: 11.8s\tremaining: 5.06s\n",
            "699:\tlearn: 0.5386564\ttotal: 11.8s\tremaining: 5.05s\n",
            "700:\tlearn: 0.5386488\ttotal: 11.8s\tremaining: 5.03s\n",
            "701:\tlearn: 0.5386404\ttotal: 11.8s\tremaining: 5.01s\n",
            "702:\tlearn: 0.5386231\ttotal: 11.8s\tremaining: 5s\n",
            "703:\tlearn: 0.5386156\ttotal: 11.8s\tremaining: 4.98s\n",
            "704:\tlearn: 0.5386020\ttotal: 11.9s\tremaining: 4.96s\n",
            "705:\tlearn: 0.5385878\ttotal: 11.9s\tremaining: 4.95s\n",
            "706:\tlearn: 0.5385827\ttotal: 11.9s\tremaining: 4.93s\n",
            "707:\tlearn: 0.5385812\ttotal: 11.9s\tremaining: 4.91s\n",
            "708:\tlearn: 0.5385780\ttotal: 11.9s\tremaining: 4.9s\n",
            "709:\tlearn: 0.5385621\ttotal: 11.9s\tremaining: 4.88s\n",
            "710:\tlearn: 0.5385502\ttotal: 12s\tremaining: 4.86s\n",
            "711:\tlearn: 0.5385403\ttotal: 12s\tremaining: 4.85s\n",
            "712:\tlearn: 0.5385194\ttotal: 12s\tremaining: 4.83s\n",
            "713:\tlearn: 0.5385067\ttotal: 12s\tremaining: 4.81s\n",
            "714:\tlearn: 0.5384882\ttotal: 12s\tremaining: 4.8s\n",
            "715:\tlearn: 0.5384727\ttotal: 12.1s\tremaining: 4.78s\n",
            "716:\tlearn: 0.5384621\ttotal: 12.1s\tremaining: 4.76s\n",
            "717:\tlearn: 0.5384464\ttotal: 12.1s\tremaining: 4.75s\n",
            "718:\tlearn: 0.5384363\ttotal: 12.1s\tremaining: 4.73s\n",
            "719:\tlearn: 0.5384236\ttotal: 12.1s\tremaining: 4.72s\n",
            "720:\tlearn: 0.5384082\ttotal: 12.1s\tremaining: 4.7s\n",
            "721:\tlearn: 0.5383978\ttotal: 12.2s\tremaining: 4.68s\n",
            "722:\tlearn: 0.5383848\ttotal: 12.2s\tremaining: 4.67s\n",
            "723:\tlearn: 0.5383655\ttotal: 12.2s\tremaining: 4.65s\n",
            "724:\tlearn: 0.5383431\ttotal: 12.2s\tremaining: 4.63s\n",
            "725:\tlearn: 0.5383406\ttotal: 12.2s\tremaining: 4.62s\n",
            "726:\tlearn: 0.5383271\ttotal: 12.2s\tremaining: 4.6s\n",
            "727:\tlearn: 0.5383031\ttotal: 12.3s\tremaining: 4.58s\n",
            "728:\tlearn: 0.5382767\ttotal: 12.3s\tremaining: 4.57s\n",
            "729:\tlearn: 0.5382704\ttotal: 12.3s\tremaining: 4.55s\n",
            "730:\tlearn: 0.5382560\ttotal: 12.3s\tremaining: 4.53s\n",
            "731:\tlearn: 0.5382379\ttotal: 12.3s\tremaining: 4.51s\n",
            "732:\tlearn: 0.5382221\ttotal: 12.3s\tremaining: 4.5s\n",
            "733:\tlearn: 0.5382148\ttotal: 12.4s\tremaining: 4.48s\n",
            "734:\tlearn: 0.5382041\ttotal: 12.4s\tremaining: 4.46s\n",
            "735:\tlearn: 0.5381946\ttotal: 12.4s\tremaining: 4.45s\n",
            "736:\tlearn: 0.5381787\ttotal: 12.4s\tremaining: 4.43s\n",
            "737:\tlearn: 0.5381649\ttotal: 12.4s\tremaining: 4.42s\n",
            "738:\tlearn: 0.5381556\ttotal: 12.5s\tremaining: 4.4s\n",
            "739:\tlearn: 0.5381430\ttotal: 12.5s\tremaining: 4.38s\n",
            "740:\tlearn: 0.5381374\ttotal: 12.5s\tremaining: 4.36s\n",
            "741:\tlearn: 0.5381253\ttotal: 12.5s\tremaining: 4.35s\n",
            "742:\tlearn: 0.5381096\ttotal: 12.5s\tremaining: 4.33s\n",
            "743:\tlearn: 0.5380961\ttotal: 12.5s\tremaining: 4.31s\n",
            "744:\tlearn: 0.5380945\ttotal: 12.5s\tremaining: 4.29s\n",
            "745:\tlearn: 0.5380836\ttotal: 12.6s\tremaining: 4.28s\n",
            "746:\tlearn: 0.5380639\ttotal: 12.6s\tremaining: 4.26s\n",
            "747:\tlearn: 0.5380540\ttotal: 12.6s\tremaining: 4.24s\n",
            "748:\tlearn: 0.5380445\ttotal: 12.6s\tremaining: 4.23s\n",
            "749:\tlearn: 0.5380396\ttotal: 12.6s\tremaining: 4.21s\n",
            "750:\tlearn: 0.5380304\ttotal: 12.7s\tremaining: 4.2s\n",
            "751:\tlearn: 0.5380231\ttotal: 12.7s\tremaining: 4.18s\n",
            "752:\tlearn: 0.5380179\ttotal: 12.7s\tremaining: 4.16s\n",
            "753:\tlearn: 0.5379946\ttotal: 12.7s\tremaining: 4.14s\n",
            "754:\tlearn: 0.5379803\ttotal: 12.7s\tremaining: 4.13s\n",
            "755:\tlearn: 0.5379686\ttotal: 12.7s\tremaining: 4.11s\n",
            "756:\tlearn: 0.5379552\ttotal: 12.8s\tremaining: 4.09s\n",
            "757:\tlearn: 0.5379480\ttotal: 12.8s\tremaining: 4.08s\n",
            "758:\tlearn: 0.5379296\ttotal: 12.8s\tremaining: 4.06s\n",
            "759:\tlearn: 0.5379014\ttotal: 12.8s\tremaining: 4.04s\n",
            "760:\tlearn: 0.5378958\ttotal: 12.8s\tremaining: 4.03s\n",
            "761:\tlearn: 0.5378783\ttotal: 12.8s\tremaining: 4.01s\n",
            "762:\tlearn: 0.5378629\ttotal: 12.9s\tremaining: 4s\n",
            "763:\tlearn: 0.5378499\ttotal: 12.9s\tremaining: 3.98s\n",
            "764:\tlearn: 0.5378325\ttotal: 12.9s\tremaining: 3.96s\n",
            "765:\tlearn: 0.5378242\ttotal: 12.9s\tremaining: 3.94s\n",
            "766:\tlearn: 0.5378102\ttotal: 12.9s\tremaining: 3.93s\n",
            "767:\tlearn: 0.5378062\ttotal: 12.9s\tremaining: 3.91s\n",
            "768:\tlearn: 0.5377893\ttotal: 13s\tremaining: 3.9s\n",
            "769:\tlearn: 0.5377769\ttotal: 13s\tremaining: 3.88s\n",
            "770:\tlearn: 0.5377617\ttotal: 13s\tremaining: 3.86s\n",
            "771:\tlearn: 0.5377533\ttotal: 13s\tremaining: 3.84s\n",
            "772:\tlearn: 0.5377472\ttotal: 13s\tremaining: 3.83s\n",
            "773:\tlearn: 0.5377364\ttotal: 13.1s\tremaining: 3.81s\n",
            "774:\tlearn: 0.5377211\ttotal: 13.1s\tremaining: 3.79s\n",
            "775:\tlearn: 0.5377027\ttotal: 13.1s\tremaining: 3.78s\n",
            "776:\tlearn: 0.5376908\ttotal: 13.1s\tremaining: 3.76s\n",
            "777:\tlearn: 0.5376773\ttotal: 13.1s\tremaining: 3.75s\n",
            "778:\tlearn: 0.5376673\ttotal: 13.1s\tremaining: 3.73s\n",
            "779:\tlearn: 0.5376637\ttotal: 13.2s\tremaining: 3.71s\n",
            "780:\tlearn: 0.5376426\ttotal: 13.2s\tremaining: 3.69s\n",
            "781:\tlearn: 0.5376326\ttotal: 13.2s\tremaining: 3.68s\n",
            "782:\tlearn: 0.5376176\ttotal: 13.2s\tremaining: 3.66s\n",
            "783:\tlearn: 0.5376045\ttotal: 13.2s\tremaining: 3.64s\n",
            "784:\tlearn: 0.5375991\ttotal: 13.2s\tremaining: 3.63s\n",
            "785:\tlearn: 0.5375928\ttotal: 13.3s\tremaining: 3.61s\n",
            "786:\tlearn: 0.5375858\ttotal: 13.3s\tremaining: 3.59s\n",
            "787:\tlearn: 0.5375694\ttotal: 13.3s\tremaining: 3.58s\n",
            "788:\tlearn: 0.5375622\ttotal: 13.3s\tremaining: 3.56s\n",
            "789:\tlearn: 0.5375545\ttotal: 13.3s\tremaining: 3.54s\n",
            "790:\tlearn: 0.5375411\ttotal: 13.3s\tremaining: 3.53s\n",
            "791:\tlearn: 0.5375174\ttotal: 13.4s\tremaining: 3.51s\n",
            "792:\tlearn: 0.5375053\ttotal: 13.4s\tremaining: 3.49s\n",
            "793:\tlearn: 0.5374997\ttotal: 13.4s\tremaining: 3.48s\n",
            "794:\tlearn: 0.5374805\ttotal: 13.4s\tremaining: 3.46s\n",
            "795:\tlearn: 0.5374677\ttotal: 13.4s\tremaining: 3.44s\n",
            "796:\tlearn: 0.5374592\ttotal: 13.4s\tremaining: 3.42s\n",
            "797:\tlearn: 0.5374512\ttotal: 13.5s\tremaining: 3.41s\n",
            "798:\tlearn: 0.5374361\ttotal: 13.5s\tremaining: 3.39s\n",
            "799:\tlearn: 0.5374149\ttotal: 13.5s\tremaining: 3.38s\n",
            "800:\tlearn: 0.5374072\ttotal: 13.5s\tremaining: 3.36s\n",
            "801:\tlearn: 0.5374022\ttotal: 13.5s\tremaining: 3.34s\n",
            "802:\tlearn: 0.5373860\ttotal: 13.6s\tremaining: 3.33s\n",
            "803:\tlearn: 0.5373775\ttotal: 13.6s\tremaining: 3.31s\n",
            "804:\tlearn: 0.5373617\ttotal: 13.6s\tremaining: 3.29s\n",
            "805:\tlearn: 0.5373474\ttotal: 13.6s\tremaining: 3.28s\n",
            "806:\tlearn: 0.5373304\ttotal: 13.6s\tremaining: 3.26s\n",
            "807:\tlearn: 0.5373191\ttotal: 13.6s\tremaining: 3.24s\n",
            "808:\tlearn: 0.5373079\ttotal: 13.7s\tremaining: 3.23s\n",
            "809:\tlearn: 0.5372955\ttotal: 13.7s\tremaining: 3.21s\n",
            "810:\tlearn: 0.5372936\ttotal: 13.7s\tremaining: 3.19s\n",
            "811:\tlearn: 0.5372732\ttotal: 13.7s\tremaining: 3.18s\n",
            "812:\tlearn: 0.5372719\ttotal: 13.7s\tremaining: 3.16s\n",
            "813:\tlearn: 0.5372616\ttotal: 13.7s\tremaining: 3.14s\n",
            "814:\tlearn: 0.5372460\ttotal: 13.8s\tremaining: 3.12s\n",
            "815:\tlearn: 0.5372400\ttotal: 13.8s\tremaining: 3.11s\n",
            "816:\tlearn: 0.5372313\ttotal: 13.8s\tremaining: 3.09s\n",
            "817:\tlearn: 0.5372192\ttotal: 13.8s\tremaining: 3.07s\n",
            "818:\tlearn: 0.5372075\ttotal: 13.8s\tremaining: 3.06s\n",
            "819:\tlearn: 0.5371845\ttotal: 13.8s\tremaining: 3.04s\n",
            "820:\tlearn: 0.5371750\ttotal: 13.9s\tremaining: 3.02s\n",
            "821:\tlearn: 0.5371610\ttotal: 13.9s\tremaining: 3.01s\n",
            "822:\tlearn: 0.5371536\ttotal: 13.9s\tremaining: 2.99s\n",
            "823:\tlearn: 0.5371440\ttotal: 13.9s\tremaining: 2.97s\n",
            "824:\tlearn: 0.5371177\ttotal: 13.9s\tremaining: 2.96s\n",
            "825:\tlearn: 0.5371166\ttotal: 14s\tremaining: 2.94s\n",
            "826:\tlearn: 0.5371090\ttotal: 14s\tremaining: 2.92s\n",
            "827:\tlearn: 0.5370928\ttotal: 14s\tremaining: 2.91s\n",
            "828:\tlearn: 0.5370869\ttotal: 14s\tremaining: 2.89s\n",
            "829:\tlearn: 0.5370737\ttotal: 14s\tremaining: 2.87s\n",
            "830:\tlearn: 0.5370553\ttotal: 14s\tremaining: 2.85s\n",
            "831:\tlearn: 0.5370447\ttotal: 14.1s\tremaining: 2.84s\n",
            "832:\tlearn: 0.5370302\ttotal: 14.1s\tremaining: 2.82s\n",
            "833:\tlearn: 0.5370262\ttotal: 14.1s\tremaining: 2.8s\n",
            "834:\tlearn: 0.5370172\ttotal: 14.1s\tremaining: 2.79s\n",
            "835:\tlearn: 0.5370167\ttotal: 14.1s\tremaining: 2.77s\n",
            "836:\tlearn: 0.5369956\ttotal: 14.2s\tremaining: 2.76s\n",
            "837:\tlearn: 0.5369819\ttotal: 14.2s\tremaining: 2.74s\n",
            "838:\tlearn: 0.5369681\ttotal: 14.2s\tremaining: 2.72s\n",
            "839:\tlearn: 0.5369512\ttotal: 14.2s\tremaining: 2.71s\n",
            "840:\tlearn: 0.5369326\ttotal: 14.2s\tremaining: 2.69s\n",
            "841:\tlearn: 0.5369208\ttotal: 14.2s\tremaining: 2.67s\n",
            "842:\tlearn: 0.5369103\ttotal: 14.3s\tremaining: 2.65s\n",
            "843:\tlearn: 0.5369064\ttotal: 14.3s\tremaining: 2.64s\n",
            "844:\tlearn: 0.5368957\ttotal: 14.3s\tremaining: 2.62s\n",
            "845:\tlearn: 0.5368907\ttotal: 14.3s\tremaining: 2.6s\n",
            "846:\tlearn: 0.5368816\ttotal: 14.3s\tremaining: 2.59s\n",
            "847:\tlearn: 0.5368729\ttotal: 14.3s\tremaining: 2.57s\n",
            "848:\tlearn: 0.5368632\ttotal: 14.4s\tremaining: 2.55s\n",
            "849:\tlearn: 0.5368496\ttotal: 14.4s\tremaining: 2.54s\n",
            "850:\tlearn: 0.5368452\ttotal: 14.4s\tremaining: 2.52s\n",
            "851:\tlearn: 0.5368240\ttotal: 14.4s\tremaining: 2.5s\n",
            "852:\tlearn: 0.5368051\ttotal: 14.4s\tremaining: 2.48s\n",
            "853:\tlearn: 0.5367835\ttotal: 14.4s\tremaining: 2.47s\n",
            "854:\tlearn: 0.5367677\ttotal: 14.5s\tremaining: 2.45s\n",
            "855:\tlearn: 0.5367461\ttotal: 14.5s\tremaining: 2.44s\n",
            "856:\tlearn: 0.5367382\ttotal: 14.5s\tremaining: 2.42s\n",
            "857:\tlearn: 0.5367310\ttotal: 14.5s\tremaining: 2.4s\n",
            "858:\tlearn: 0.5367199\ttotal: 14.5s\tremaining: 2.38s\n",
            "859:\tlearn: 0.5367054\ttotal: 14.5s\tremaining: 2.37s\n",
            "860:\tlearn: 0.5366891\ttotal: 14.6s\tremaining: 2.35s\n",
            "861:\tlearn: 0.5366833\ttotal: 14.6s\tremaining: 2.33s\n",
            "862:\tlearn: 0.5366827\ttotal: 14.6s\tremaining: 2.32s\n",
            "863:\tlearn: 0.5366740\ttotal: 14.6s\tremaining: 2.3s\n",
            "864:\tlearn: 0.5366678\ttotal: 14.6s\tremaining: 2.28s\n",
            "865:\tlearn: 0.5366536\ttotal: 14.6s\tremaining: 2.27s\n",
            "866:\tlearn: 0.5366358\ttotal: 14.7s\tremaining: 2.25s\n",
            "867:\tlearn: 0.5366188\ttotal: 14.7s\tremaining: 2.23s\n",
            "868:\tlearn: 0.5366042\ttotal: 14.7s\tremaining: 2.21s\n",
            "869:\tlearn: 0.5365969\ttotal: 14.7s\tremaining: 2.2s\n",
            "870:\tlearn: 0.5365783\ttotal: 14.7s\tremaining: 2.18s\n",
            "871:\tlearn: 0.5365679\ttotal: 14.7s\tremaining: 2.16s\n",
            "872:\tlearn: 0.5365541\ttotal: 14.8s\tremaining: 2.15s\n",
            "873:\tlearn: 0.5365350\ttotal: 14.8s\tremaining: 2.13s\n",
            "874:\tlearn: 0.5365289\ttotal: 14.8s\tremaining: 2.11s\n",
            "875:\tlearn: 0.5365091\ttotal: 14.8s\tremaining: 2.1s\n",
            "876:\tlearn: 0.5364922\ttotal: 14.8s\tremaining: 2.08s\n",
            "877:\tlearn: 0.5364834\ttotal: 14.9s\tremaining: 2.06s\n",
            "878:\tlearn: 0.5364729\ttotal: 14.9s\tremaining: 2.05s\n",
            "879:\tlearn: 0.5364676\ttotal: 14.9s\tremaining: 2.03s\n",
            "880:\tlearn: 0.5364590\ttotal: 14.9s\tremaining: 2.01s\n",
            "881:\tlearn: 0.5364441\ttotal: 14.9s\tremaining: 2s\n",
            "882:\tlearn: 0.5364350\ttotal: 14.9s\tremaining: 1.98s\n",
            "883:\tlearn: 0.5364214\ttotal: 15s\tremaining: 1.96s\n",
            "884:\tlearn: 0.5364138\ttotal: 15s\tremaining: 1.95s\n",
            "885:\tlearn: 0.5364055\ttotal: 15s\tremaining: 1.93s\n",
            "886:\tlearn: 0.5363808\ttotal: 15s\tremaining: 1.91s\n",
            "887:\tlearn: 0.5363680\ttotal: 15s\tremaining: 1.89s\n",
            "888:\tlearn: 0.5363503\ttotal: 15s\tremaining: 1.88s\n",
            "889:\tlearn: 0.5363439\ttotal: 15.1s\tremaining: 1.86s\n",
            "890:\tlearn: 0.5363366\ttotal: 15.1s\tremaining: 1.84s\n",
            "891:\tlearn: 0.5363244\ttotal: 15.1s\tremaining: 1.83s\n",
            "892:\tlearn: 0.5363114\ttotal: 15.1s\tremaining: 1.81s\n",
            "893:\tlearn: 0.5363008\ttotal: 15.1s\tremaining: 1.79s\n",
            "894:\tlearn: 0.5362956\ttotal: 15.1s\tremaining: 1.78s\n",
            "895:\tlearn: 0.5362810\ttotal: 15.2s\tremaining: 1.76s\n",
            "896:\tlearn: 0.5362774\ttotal: 15.2s\tremaining: 1.74s\n",
            "897:\tlearn: 0.5362677\ttotal: 15.2s\tremaining: 1.73s\n",
            "898:\tlearn: 0.5362580\ttotal: 15.2s\tremaining: 1.71s\n",
            "899:\tlearn: 0.5362536\ttotal: 15.2s\tremaining: 1.69s\n",
            "900:\tlearn: 0.5362426\ttotal: 15.3s\tremaining: 1.68s\n",
            "901:\tlearn: 0.5362270\ttotal: 15.3s\tremaining: 1.66s\n",
            "902:\tlearn: 0.5362137\ttotal: 15.3s\tremaining: 1.64s\n",
            "903:\tlearn: 0.5361994\ttotal: 15.3s\tremaining: 1.62s\n",
            "904:\tlearn: 0.5361865\ttotal: 15.3s\tremaining: 1.61s\n",
            "905:\tlearn: 0.5361804\ttotal: 15.3s\tremaining: 1.59s\n",
            "906:\tlearn: 0.5361678\ttotal: 15.3s\tremaining: 1.57s\n",
            "907:\tlearn: 0.5361546\ttotal: 15.4s\tremaining: 1.56s\n",
            "908:\tlearn: 0.5361459\ttotal: 15.4s\tremaining: 1.54s\n",
            "909:\tlearn: 0.5361450\ttotal: 15.4s\tremaining: 1.52s\n",
            "910:\tlearn: 0.5361362\ttotal: 15.4s\tremaining: 1.51s\n",
            "911:\tlearn: 0.5361343\ttotal: 15.4s\tremaining: 1.49s\n",
            "912:\tlearn: 0.5361147\ttotal: 15.4s\tremaining: 1.47s\n",
            "913:\tlearn: 0.5360974\ttotal: 15.5s\tremaining: 1.46s\n",
            "914:\tlearn: 0.5360872\ttotal: 15.5s\tremaining: 1.44s\n",
            "915:\tlearn: 0.5360722\ttotal: 15.5s\tremaining: 1.42s\n",
            "916:\tlearn: 0.5360543\ttotal: 15.5s\tremaining: 1.4s\n",
            "917:\tlearn: 0.5360352\ttotal: 15.5s\tremaining: 1.39s\n",
            "918:\tlearn: 0.5360253\ttotal: 15.5s\tremaining: 1.37s\n",
            "919:\tlearn: 0.5360112\ttotal: 15.6s\tremaining: 1.35s\n",
            "920:\tlearn: 0.5359978\ttotal: 15.6s\tremaining: 1.33s\n",
            "921:\tlearn: 0.5359836\ttotal: 15.6s\tremaining: 1.32s\n",
            "922:\tlearn: 0.5359763\ttotal: 15.6s\tremaining: 1.3s\n",
            "923:\tlearn: 0.5359594\ttotal: 15.6s\tremaining: 1.28s\n",
            "924:\tlearn: 0.5359528\ttotal: 15.6s\tremaining: 1.27s\n",
            "925:\tlearn: 0.5359347\ttotal: 15.7s\tremaining: 1.25s\n",
            "926:\tlearn: 0.5359224\ttotal: 15.7s\tremaining: 1.23s\n",
            "927:\tlearn: 0.5358976\ttotal: 15.7s\tremaining: 1.22s\n",
            "928:\tlearn: 0.5358873\ttotal: 15.7s\tremaining: 1.2s\n",
            "929:\tlearn: 0.5358782\ttotal: 15.7s\tremaining: 1.18s\n",
            "930:\tlearn: 0.5358676\ttotal: 15.7s\tremaining: 1.17s\n",
            "931:\tlearn: 0.5358629\ttotal: 15.8s\tremaining: 1.15s\n",
            "932:\tlearn: 0.5358525\ttotal: 15.8s\tremaining: 1.13s\n",
            "933:\tlearn: 0.5358512\ttotal: 15.8s\tremaining: 1.12s\n",
            "934:\tlearn: 0.5358436\ttotal: 15.8s\tremaining: 1.1s\n",
            "935:\tlearn: 0.5358423\ttotal: 15.8s\tremaining: 1.08s\n",
            "936:\tlearn: 0.5358273\ttotal: 15.8s\tremaining: 1.06s\n",
            "937:\tlearn: 0.5358149\ttotal: 15.9s\tremaining: 1.05s\n",
            "938:\tlearn: 0.5358020\ttotal: 15.9s\tremaining: 1.03s\n",
            "939:\tlearn: 0.5357886\ttotal: 15.9s\tremaining: 1.01s\n",
            "940:\tlearn: 0.5357743\ttotal: 15.9s\tremaining: 998ms\n",
            "941:\tlearn: 0.5357643\ttotal: 15.9s\tremaining: 981ms\n",
            "942:\tlearn: 0.5357415\ttotal: 15.9s\tremaining: 964ms\n",
            "943:\tlearn: 0.5357300\ttotal: 16s\tremaining: 947ms\n",
            "944:\tlearn: 0.5357241\ttotal: 16s\tremaining: 930ms\n",
            "945:\tlearn: 0.5357199\ttotal: 16s\tremaining: 913ms\n",
            "946:\tlearn: 0.5357049\ttotal: 16s\tremaining: 897ms\n",
            "947:\tlearn: 0.5356823\ttotal: 16s\tremaining: 880ms\n",
            "948:\tlearn: 0.5356718\ttotal: 16.1s\tremaining: 863ms\n",
            "949:\tlearn: 0.5356562\ttotal: 16.1s\tremaining: 846ms\n",
            "950:\tlearn: 0.5356373\ttotal: 16.1s\tremaining: 829ms\n",
            "951:\tlearn: 0.5356231\ttotal: 16.1s\tremaining: 812ms\n",
            "952:\tlearn: 0.5356173\ttotal: 16.1s\tremaining: 795ms\n",
            "953:\tlearn: 0.5356010\ttotal: 16.1s\tremaining: 778ms\n",
            "954:\tlearn: 0.5355836\ttotal: 16.2s\tremaining: 761ms\n",
            "955:\tlearn: 0.5355790\ttotal: 16.2s\tremaining: 744ms\n",
            "956:\tlearn: 0.5355742\ttotal: 16.2s\tremaining: 727ms\n",
            "957:\tlearn: 0.5355628\ttotal: 16.2s\tremaining: 710ms\n",
            "958:\tlearn: 0.5355467\ttotal: 16.2s\tremaining: 693ms\n",
            "959:\tlearn: 0.5355299\ttotal: 16.2s\tremaining: 677ms\n",
            "960:\tlearn: 0.5355118\ttotal: 16.3s\tremaining: 660ms\n",
            "961:\tlearn: 0.5355048\ttotal: 16.3s\tremaining: 643ms\n",
            "962:\tlearn: 0.5354913\ttotal: 16.3s\tremaining: 626ms\n",
            "963:\tlearn: 0.5354821\ttotal: 16.3s\tremaining: 609ms\n",
            "964:\tlearn: 0.5354663\ttotal: 16.3s\tremaining: 592ms\n",
            "965:\tlearn: 0.5354502\ttotal: 16.3s\tremaining: 575ms\n",
            "966:\tlearn: 0.5354318\ttotal: 16.4s\tremaining: 558ms\n",
            "967:\tlearn: 0.5354305\ttotal: 16.4s\tremaining: 541ms\n",
            "968:\tlearn: 0.5354236\ttotal: 16.4s\tremaining: 524ms\n",
            "969:\tlearn: 0.5354115\ttotal: 16.4s\tremaining: 507ms\n",
            "970:\tlearn: 0.5353983\ttotal: 16.4s\tremaining: 490ms\n",
            "971:\tlearn: 0.5353914\ttotal: 16.4s\tremaining: 474ms\n",
            "972:\tlearn: 0.5353848\ttotal: 16.5s\tremaining: 457ms\n",
            "973:\tlearn: 0.5353785\ttotal: 16.5s\tremaining: 440ms\n",
            "974:\tlearn: 0.5353681\ttotal: 16.5s\tremaining: 423ms\n",
            "975:\tlearn: 0.5353549\ttotal: 16.5s\tremaining: 406ms\n",
            "976:\tlearn: 0.5353477\ttotal: 16.5s\tremaining: 389ms\n",
            "977:\tlearn: 0.5353392\ttotal: 16.6s\tremaining: 372ms\n",
            "978:\tlearn: 0.5353314\ttotal: 16.6s\tremaining: 355ms\n",
            "979:\tlearn: 0.5353241\ttotal: 16.6s\tremaining: 338ms\n",
            "980:\tlearn: 0.5353052\ttotal: 16.6s\tremaining: 322ms\n",
            "981:\tlearn: 0.5353016\ttotal: 16.6s\tremaining: 305ms\n",
            "982:\tlearn: 0.5352967\ttotal: 16.6s\tremaining: 288ms\n",
            "983:\tlearn: 0.5352864\ttotal: 16.7s\tremaining: 271ms\n",
            "984:\tlearn: 0.5352814\ttotal: 16.7s\tremaining: 254ms\n",
            "985:\tlearn: 0.5352655\ttotal: 16.7s\tremaining: 237ms\n",
            "986:\tlearn: 0.5352534\ttotal: 16.7s\tremaining: 220ms\n",
            "987:\tlearn: 0.5352459\ttotal: 16.7s\tremaining: 203ms\n",
            "988:\tlearn: 0.5352371\ttotal: 16.7s\tremaining: 186ms\n",
            "989:\tlearn: 0.5352136\ttotal: 16.8s\tremaining: 169ms\n",
            "990:\tlearn: 0.5351957\ttotal: 16.8s\tremaining: 152ms\n",
            "991:\tlearn: 0.5351889\ttotal: 16.8s\tremaining: 135ms\n",
            "992:\tlearn: 0.5351751\ttotal: 16.8s\tremaining: 119ms\n",
            "993:\tlearn: 0.5351640\ttotal: 16.8s\tremaining: 102ms\n",
            "994:\tlearn: 0.5351596\ttotal: 16.8s\tremaining: 84.7ms\n",
            "995:\tlearn: 0.5351376\ttotal: 16.9s\tremaining: 67.7ms\n",
            "996:\tlearn: 0.5351307\ttotal: 16.9s\tremaining: 50.8ms\n",
            "997:\tlearn: 0.5351219\ttotal: 16.9s\tremaining: 33.9ms\n",
            "998:\tlearn: 0.5351166\ttotal: 16.9s\tremaining: 16.9ms\n",
            "999:\tlearn: 0.5351024\ttotal: 16.9s\tremaining: 0us\n",
            "Accuracy: \t 0.732741\n",
            "Precision: \t 0.708841\n",
            "Sensitivity: \t 0.689254\n",
            "Specificity: \t 0.777429\n",
            "F-Score: \t 0.723307\n",
            "AUC: \t\t 0.800732\n",
            "MCC: \t\t 0.46821\n"
          ],
          "name": "stdout"
        }
      ]
    },
    {
      "cell_type": "markdown",
      "metadata": {
        "id": "yLfFEonaRKkf"
      },
      "source": [
        "**Deep Learning**"
      ]
    },
    {
      "cell_type": "code",
      "metadata": {
        "id": "6SiLSX0TRfIO"
      },
      "source": [
        "# model = Sequential()\n",
        "# model.add(Dense(64, activation='relu', input_shape = (11,) ))\n",
        "# model.add(Dense(32, activation='relu'))\n",
        "# model.add(Dense(16, activation='relu'))\n",
        "# model.add(Dense(8, activation='relu'))\n",
        "# model.add(Dense(1, activation='sigmoid'))\n",
        "# model.compile(optimizer='adam', loss='binary_crossentropy', metrics=['accuracy'])\n",
        "# model.fit(X_train, y_train, epochs=100, batch_size=64, validation_split = .15)\n",
        "# results = model.evaluate(X_test, y_test, batch_size=32)\n",
        "# y_pred = model.predict_classes(X_test)\n",
        "# accuracy = accuracy_score(y_test, y_pred)\n",
        "# temp = classification_report(y_test, y_pred, output_dict= True)\n",
        "# precision = temp['0']['precision']\n",
        "# sensitivity = temp['1']['recall']\n",
        "# specificity = temp['0']['recall']\n",
        "# f1 = f1_score(y_test, y_pred)\n",
        "# probas = clf.predict_proba(X_test)[:,1]\n",
        "# fpr12 , tpr12, thresholds12 = roc_curve(y_test, probas)\n",
        "# aucscore = auc(fpr12, tpr12)\n",
        "# mcc = matthews_corrcoef(y_test, y_pred)\n",
        "\n",
        "# print(\"Accuracy: \\t\", round(accuracy,6))\n",
        "# print(\"Precision: \\t\", round(precision,6))\n",
        "# print(\"Sensitivity: \\t\", round(sensitivity,6))\n",
        "# print(\"Specificity: \\t\", round(specificity,6))\n",
        "# print(\"F-Score: \\t\", round(f1,6))\n",
        "# print(\"AUC: \\t\\t\", round(aucscore,6))\n",
        "# print(\"MCC: \\t\\t\", round(mcc,6))"
      ],
      "execution_count": null,
      "outputs": []
    },
    {
      "cell_type": "code",
      "metadata": {
        "colab": {
          "base_uri": "https://localhost:8080/"
        },
        "id": "t28y1uNfneYS",
        "outputId": "da2d79a2-5a17-41bb-e67a-e812b9af8023"
      },
      "source": [
        "import tensorflow as tf\n",
        "\n",
        "model = tf.keras.models.Sequential()\n",
        "model.add(tf.keras.layers.Dense(6, input_dim=5, activation='relu'))\n",
        "model.add(tf.keras.layers.Dense(1, activation='sigmoid'))\n",
        "optimizer = tf.keras.optimizers.RMSprop(learning_rate=0.002)\n",
        "model.compile(loss='binary_crossentropy', metrics=['accuracy', tf.keras.metrics.AUC()], optimizer=optimizer)\n",
        "learning_rate_reduction = tf.keras.callbacks.ReduceLROnPlateau( \n",
        "    monitor='val_loss',    # Quantity to be monitored.\n",
        "    factor=0.1,       # Factor by which the learning rate will be reduced. new_lr = lr * factor\n",
        "    patience=50,        # The number of epochs with no improvement after which learning rate will be reduced.\n",
        "    verbose=1,         # 0: quiet - 1: update messages.\n",
        "    mode=\"auto\",       # {auto, min, max}. In min mode, lr will be reduced when the quantity monitored has stopped decreasing; \n",
        "                       # in the max mode it will be reduced when the quantity monitored has stopped increasing; \n",
        "                       # in auto mode, the direction is automatically inferred from the name of the monitored quantity.\n",
        "    min_delta=0.0001,  # threshold for measuring the new optimum, to only focus on significant changes.\n",
        "    cooldown=0,        # number of epochs to wait before resuming normal operation after learning rate (lr) has been reduced.\n",
        "    min_lr=0.00001     # lower bound on the learning rate.\n",
        "    )\n",
        "\n",
        "es = tf.keras.callbacks.EarlyStopping(monitor='val_loss', mode='min', verbose=1, patience=400, restore_best_weights=True)\n",
        "history = model.fit(x=X_train, y=y_train,\n",
        "                    batch_size=1024, epochs=1500,\n",
        "                    verbose=0,validation_data=(X_test,y_test),\n",
        "                    callbacks=[learning_rate_reduction, es],\n",
        "                    shuffle=True)"
      ],
      "execution_count": null,
      "outputs": [
        {
          "output_type": "stream",
          "text": [
            "\n",
            "Epoch 01022: ReduceLROnPlateau reducing learning rate to 0.00020000000949949026.\n",
            "\n",
            "Epoch 01259: ReduceLROnPlateau reducing learning rate to 2.0000000949949027e-05.\n",
            "\n",
            "Epoch 01309: ReduceLROnPlateau reducing learning rate to 1e-05.\n"
          ],
          "name": "stdout"
        }
      ]
    },
    {
      "cell_type": "code",
      "metadata": {
        "colab": {
          "base_uri": "https://localhost:8080/",
          "height": 591
        },
        "id": "Qk0VXh0ZngSK",
        "outputId": "4862039c-b3fc-42d4-9f16-103ebb453197"
      },
      "source": [
        "model.evaluate(X_test, y_test, verbose=2)\n",
        "\n",
        "plt.plot(history.history['accuracy'])\n",
        "plt.plot(history.history['val_accuracy'])\n",
        "plt.title('Model accuracy')\n",
        "plt.ylabel('Accuracy')\n",
        "#plt.xscale(\"log\")\n",
        "plt.xlabel('Epoch')\n",
        "plt.legend(['Train', 'Validation'], loc='upper left')\n",
        "plt.show()\n",
        "\n",
        "# Plot training & validation loss values\n",
        "plt.plot(history.history['loss'])\n",
        "plt.plot(history.history['val_loss'])\n",
        "plt.title('Model loss')\n",
        "plt.ylabel('Loss')\n",
        "plt.xlabel('Epoch')\n",
        "plt.legend(['Train', 'Validation'], loc='upper left')\n",
        "plt.show()"
      ],
      "execution_count": null,
      "outputs": [
        {
          "output_type": "stream",
          "text": [
            "627/627 - 1s - loss: 0.5552 - accuracy: 0.7275 - auc_1: 0.7938\n"
          ],
          "name": "stdout"
        },
        {
          "output_type": "display_data",
          "data": {
            "image/png": "[encoded data removed]",
            "text/plain": [
              "<Figure size 432x288 with 1 Axes>"
            ]
          },
          "metadata": {
            "tags": [],
            "needs_background": "light"
          }
        },
        {
          "output_type": "display_data",
          "data": {
            "image/png": "[encoded data removed]",
            "text/plain": [
              "<Figure size 432x288 with 1 Axes>"
            ]
          },
          "metadata": {
            "tags": [],
            "needs_background": "light"
          }
        }
      ]
    },
    {
      "cell_type": "code",
      "metadata": {
        "colab": {
          "base_uri": "https://localhost:8080/"
        },
        "id": "lRhKmFWSnmCm",
        "outputId": "f5fd68c2-3155-4011-c816-b35661c4309c"
      },
      "source": [
        "pred = model.predict(X_test)\n",
        "y_pred = []\n",
        "for i in range(len(pred)):\n",
        "    if pred[i] >= 0.5:\n",
        "        y_pred.append(1)\n",
        "    else:\n",
        "        y_pred.append(0)\n",
        "accuracy = accuracy_score(y_test, y_pred)\n",
        "temp = classification_report(y_test, y_pred, output_dict= True)\n",
        "precision = temp['0']['precision']\n",
        "sensitivity = temp['1']['recall']\n",
        "specificity = temp['0']['recall']\n",
        "f1 = f1_score(y_test, y_pred)\n",
        "probas = model.predict_proba(X_test)#[:,1]\n",
        "fpr15 , tpr15, thresholds15 = roc_curve(y_test, probas)\n",
        "#aucscore = tf.metrics.AUC(y_test, y_pred)[1]\n",
        "#print(aucscore)\n",
        "mcc = matthews_corrcoef(y_test, y_pred)\n",
        "print(\"Accuracy: \\t\", round(accuracy,6))\n",
        "print(\"Precision: \\t\", round(precision,6))\n",
        "print(\"Sensitivity: \\t\", round(sensitivity,6))\n",
        "print(\"Specificity: \\t\", round(specificity,6))\n",
        "print(\"F-Score: \\t\", round(f1,6))\n",
        "print(\"AUC: \\t\\t\", (round(sensitivity,6) + round(specificity,6))/2)\n",
        "print(\"MCC: \\t\\t\", round(mcc,6))"
      ],
      "execution_count": null,
      "outputs": [
        {
          "output_type": "stream",
          "text": [
            "Accuracy: \t 0.72755\n",
            "Precision: \t 0.699261\n",
            "Sensitivity: \t 0.671329\n",
            "Specificity: \t 0.785324\n",
            "F-Score: \t 0.714091\n",
            "AUC: \t\t 0.7283265\n",
            "MCC: \t\t 0.459285\n"
          ],
          "name": "stdout"
        }
      ]
    },
    {
      "cell_type": "code",
      "metadata": {
        "colab": {
          "base_uri": "https://localhost:8080/",
          "height": 517
        },
        "id": "Mb8WYmZGh89w",
        "outputId": "802da479-b2b5-4dcb-bdac-5722444fa26c"
      },
      "source": [
        "def plot_feature_importance(importance,names,model_type):\n",
        "\n",
        "  #Create arrays from feature importance and feature names\n",
        "  feature_importance = np.array(importance)\n",
        "  feature_names = np.array(names)\n",
        "\n",
        "  #Create a DataFrame using a Dictionary\n",
        "  data={'feature_names':feature_names,'feature_importance':feature_importance}\n",
        "  fi_df = pd.DataFrame(data)\n",
        "\n",
        "  #Sort the DataFrame in order decreasing feature importance\n",
        "  fi_df.sort_values(by=['feature_importance'], ascending=False,inplace=True)\n",
        "\n",
        "  #Define size of bar plot\n",
        "  plt.figure(figsize=(10,8))\n",
        "  #Plot Searborn bar chart\n",
        "  sns.barplot(x=fi_df['feature_importance'], y=fi_df['feature_names'])\n",
        "  #Add chart labels\n",
        "  plt.title(model_type + 'FEATURE IMPORTANCE')\n",
        "  plt.xlabel('FEATURE IMPORTANCE')\n",
        "  plt.ylabel('FEATURE NAMES')\n",
        "\n",
        "plot_feature_importance(clf.feature_importances_,X_train.columns,'RANDOM FOREST ')"
      ],
      "execution_count": null,
      "outputs": [
        {
          "output_type": "display_data",
          "data": {
            "image/png": "[encoded data removed]",
            "text/plain": [
              "<Figure size 720x576 with 1 Axes>"
            ]
          },
          "metadata": {
            "tags": []
          }
        }
      ]
    },
    {
      "cell_type": "code",
      "metadata": {
        "id": "o1arr-MtEEEd",
        "colab": {
          "base_uri": "https://localhost:8080/",
          "height": 436
        },
        "outputId": "144c48a3-7f82-4c8c-fdff-4f64836c9097"
      },
      "source": [
        "X2 = data\n",
        "X2 = X2.drop('cardio', axis = 1)\n",
        "X2 = X2.drop('women', axis = 1)\n",
        "X2 = X2.drop('men', axis = 1)\n",
        "X2 = X2.drop('gluc', axis = 1)\n",
        "X2 = X2.drop('active', axis = 1)\n",
        "X2 = X2.drop('smoke', axis = 1)\n",
        "X2 = X2.drop('alco', axis = 1)\n",
        "y2 = data['cardio'].values\n",
        "\n",
        "X_train, X_test, y_train, y_test = train_test_split(X2, y2, test_size=0.3, random_state=42)\n",
        "X_train.shape, X_test.shape, y_train.shape, y_test.shape\n",
        "X_train"
      ],
      "execution_count": null,
      "outputs": [
        {
          "output_type": "execute_result",
          "data": {
            "text/html": [
              "<div>\n",
              "<style scoped>\n",
              "    .dataframe tbody tr th:only-of-type {\n",
              "        vertical-align: middle;\n",
              "    }\n",
              "\n",
              "    .dataframe tbody tr th {\n",
              "        vertical-align: top;\n",
              "    }\n",
              "\n",
              "    .dataframe thead th {\n",
              "        text-align: right;\n",
              "    }\n",
              "</style>\n",
              "<table border=\"1\" class=\"dataframe\">\n",
              "  <thead>\n",
              "    <tr style=\"text-align: right;\">\n",
              "      <th></th>\n",
              "      <th>age</th>\n",
              "      <th>ap_hi</th>\n",
              "      <th>ap_lo</th>\n",
              "      <th>cholesterol</th>\n",
              "      <th>bmi</th>\n",
              "    </tr>\n",
              "    <tr>\n",
              "      <th>id</th>\n",
              "      <th></th>\n",
              "      <th></th>\n",
              "      <th></th>\n",
              "      <th></th>\n",
              "      <th></th>\n",
              "    </tr>\n",
              "  </thead>\n",
              "  <tbody>\n",
              "    <tr>\n",
              "      <th>94850</th>\n",
              "      <td>55.694886</td>\n",
              "      <td>120</td>\n",
              "      <td>80</td>\n",
              "      <td>1</td>\n",
              "      <td>27.734375</td>\n",
              "    </tr>\n",
              "    <tr>\n",
              "      <th>22710</th>\n",
              "      <td>58.375315</td>\n",
              "      <td>120</td>\n",
              "      <td>80</td>\n",
              "      <td>1</td>\n",
              "      <td>23.529412</td>\n",
              "    </tr>\n",
              "    <tr>\n",
              "      <th>12082</th>\n",
              "      <td>54.282116</td>\n",
              "      <td>120</td>\n",
              "      <td>90</td>\n",
              "      <td>1</td>\n",
              "      <td>26.533759</td>\n",
              "    </tr>\n",
              "    <tr>\n",
              "      <th>5657</th>\n",
              "      <td>42.122988</td>\n",
              "      <td>120</td>\n",
              "      <td>90</td>\n",
              "      <td>2</td>\n",
              "      <td>29.054752</td>\n",
              "    </tr>\n",
              "    <tr>\n",
              "      <th>20247</th>\n",
              "      <td>55.897492</td>\n",
              "      <td>160</td>\n",
              "      <td>90</td>\n",
              "      <td>3</td>\n",
              "      <td>26.142688</td>\n",
              "    </tr>\n",
              "    <tr>\n",
              "      <th>...</th>\n",
              "      <td>...</td>\n",
              "      <td>...</td>\n",
              "      <td>...</td>\n",
              "      <td>...</td>\n",
              "      <td>...</td>\n",
              "    </tr>\n",
              "    <tr>\n",
              "      <th>55619</th>\n",
              "      <td>51.968569</td>\n",
              "      <td>110</td>\n",
              "      <td>70</td>\n",
              "      <td>1</td>\n",
              "      <td>25.344353</td>\n",
              "    </tr>\n",
              "    <tr>\n",
              "      <th>9337</th>\n",
              "      <td>39.229000</td>\n",
              "      <td>110</td>\n",
              "      <td>70</td>\n",
              "      <td>1</td>\n",
              "      <td>29.777778</td>\n",
              "    </tr>\n",
              "    <tr>\n",
              "      <th>82073</th>\n",
              "      <td>57.918081</td>\n",
              "      <td>150</td>\n",
              "      <td>80</td>\n",
              "      <td>1</td>\n",
              "      <td>30.486685</td>\n",
              "    </tr>\n",
              "    <tr>\n",
              "      <th>1247</th>\n",
              "      <td>57.682620</td>\n",
              "      <td>130</td>\n",
              "      <td>80</td>\n",
              "      <td>1</td>\n",
              "      <td>21.208449</td>\n",
              "    </tr>\n",
              "    <tr>\n",
              "      <th>23608</th>\n",
              "      <td>49.893221</td>\n",
              "      <td>120</td>\n",
              "      <td>80</td>\n",
              "      <td>1</td>\n",
              "      <td>31.934969</td>\n",
              "    </tr>\n",
              "  </tbody>\n",
              "</table>\n",
              "<p>46742 rows × 5 columns</p>\n",
              "</div>"
            ],
            "text/plain": [
              "             age  ap_hi  ap_lo  cholesterol        bmi\n",
              "id                                                    \n",
              "94850  55.694886    120     80            1  27.734375\n",
              "22710  58.375315    120     80            1  23.529412\n",
              "12082  54.282116    120     90            1  26.533759\n",
              "5657   42.122988    120     90            2  29.054752\n",
              "20247  55.897492    160     90            3  26.142688\n",
              "...          ...    ...    ...          ...        ...\n",
              "55619  51.968569    110     70            1  25.344353\n",
              "9337   39.229000    110     70            1  29.777778\n",
              "82073  57.918081    150     80            1  30.486685\n",
              "1247   57.682620    130     80            1  21.208449\n",
              "23608  49.893221    120     80            1  31.934969\n",
              "\n",
              "[46742 rows x 5 columns]"
            ]
          },
          "metadata": {
            "tags": []
          },
          "execution_count": 35
        }
      ]
    },
    {
      "cell_type": "markdown",
      "metadata": {
        "id": "SPibbyqgSMPu"
      },
      "source": [
        "#**Proposed Model**"
      ]
    },
    {
      "cell_type": "code",
      "metadata": {
        "id": "_Juexb12SLvU"
      },
      "source": [
        "from keras.optimizers import *\n",
        "from keras.initializers import *\n",
        "from keras.models import *\n",
        "from keras.layers import *\n",
        "from keras.callbacks import EarlyStopping"
      ],
      "execution_count": null,
      "outputs": []
    },
    {
      "cell_type": "code",
      "metadata": {
        "id": "0K-sr6EsSQlQ"
      },
      "source": [
        "def create_model():\n",
        "    # Hyperparameter:\n",
        "    init_w = glorot_uniform(seed=0)\n",
        "    loss = \"binary_crossentropy\"\n",
        "    optimizer = Adam()\n",
        "    \n",
        "    # Defining the model:\n",
        "    model = Sequential()\n",
        "\n",
        "    model.add(Dense(50, kernel_initializer=init_w, input_shape=(X_train.shape[1],)))\n",
        "    model.add(BatchNormalization())\n",
        "    model.add(LeakyReLU())\n",
        "    model.add(Dropout(rate=0.1))\n",
        "\n",
        "    model.add(Dense(25, kernel_initializer=init_w))\n",
        "    model.add(BatchNormalization())\n",
        "    model.add(LeakyReLU())\n",
        "    model.add(Dropout(rate=0.1))\n",
        "\n",
        "    model.add(Dense(12, kernel_initializer=init_w))\n",
        "    model.add(LeakyReLU())\n",
        "\n",
        "    model.add(Dense(1, kernel_initializer=init_w))\n",
        "    model.add(Activation(\"sigmoid\"))\n",
        "    \n",
        "    model.summary()\n",
        "    \n",
        "    # Training\n",
        "    model.compile(\n",
        "        loss=loss,\n",
        "        optimizer=optimizer,\n",
        "        metrics=[\"accuracy\"])\n",
        "\n",
        "    return model\n"
      ],
      "execution_count": null,
      "outputs": []
    },
    {
      "cell_type": "code",
      "metadata": {
        "id": "41kSw-iASTUy",
        "colab": {
          "base_uri": "https://localhost:8080/"
        },
        "outputId": "81cbda37-3fe6-4a76-8e51-d5682b2de858"
      },
      "source": [
        "nn = create_model()\n",
        "nn.fit(\n",
        "    x=X_train,\n",
        "    y=y_train,\n",
        "    verbose=2,\n",
        "    epochs=100,\n",
        "    batch_size=32, validation_split = 0.15)"
      ],
      "execution_count": null,
      "outputs": [
        {
          "output_type": "stream",
          "text": [
            "Model: \"sequential_1\"\n",
            "_________________________________________________________________\n",
            "Layer (type)                 Output Shape              Param #   \n",
            "=================================================================\n",
            "dense_5 (Dense)              (None, 50)                600       \n",
            "_________________________________________________________________\n",
            "batch_normalization (BatchNo (None, 50)                200       \n",
            "_________________________________________________________________\n",
            "leaky_re_lu (LeakyReLU)      (None, 50)                0         \n",
            "_________________________________________________________________\n",
            "dropout (Dropout)            (None, 50)                0         \n",
            "_________________________________________________________________\n",
            "dense_6 (Dense)              (None, 25)                1275      \n",
            "_________________________________________________________________\n",
            "batch_normalization_1 (Batch (None, 25)                100       \n",
            "_________________________________________________________________\n",
            "leaky_re_lu_1 (LeakyReLU)    (None, 25)                0         \n",
            "_________________________________________________________________\n",
            "dropout_1 (Dropout)          (None, 25)                0         \n",
            "_________________________________________________________________\n",
            "dense_7 (Dense)              (None, 12)                312       \n",
            "_________________________________________________________________\n",
            "leaky_re_lu_2 (LeakyReLU)    (None, 12)                0         \n",
            "_________________________________________________________________\n",
            "dense_8 (Dense)              (None, 1)                 13        \n",
            "_________________________________________________________________\n",
            "activation (Activation)      (None, 1)                 0         \n",
            "=================================================================\n",
            "Total params: 2,500\n",
            "Trainable params: 2,350\n",
            "Non-trainable params: 150\n",
            "_________________________________________________________________\n",
            "Epoch 1/100\n",
            "1242/1242 - 3s - loss: 0.5725 - accuracy: 0.7135 - val_loss: 0.5557 - val_accuracy: 0.7273\n",
            "Epoch 2/100\n",
            "1242/1242 - 2s - loss: 0.5636 - accuracy: 0.7222 - val_loss: 0.5556 - val_accuracy: 0.7303\n",
            "Epoch 3/100\n",
            "1242/1242 - 2s - loss: 0.5613 - accuracy: 0.7214 - val_loss: 0.5537 - val_accuracy: 0.7278\n",
            "Epoch 4/100\n",
            "1242/1242 - 2s - loss: 0.5603 - accuracy: 0.7244 - val_loss: 0.5595 - val_accuracy: 0.7226\n",
            "Epoch 5/100\n",
            "1242/1242 - 2s - loss: 0.5610 - accuracy: 0.7222 - val_loss: 0.5541 - val_accuracy: 0.7278\n",
            "Epoch 6/100\n",
            "1242/1242 - 2s - loss: 0.5581 - accuracy: 0.7237 - val_loss: 0.5479 - val_accuracy: 0.7307\n",
            "Epoch 7/100\n",
            "1242/1242 - 2s - loss: 0.5593 - accuracy: 0.7239 - val_loss: 0.5530 - val_accuracy: 0.7256\n",
            "Epoch 8/100\n",
            "1242/1242 - 2s - loss: 0.5587 - accuracy: 0.7235 - val_loss: 0.5469 - val_accuracy: 0.7310\n",
            "Epoch 9/100\n",
            "1242/1242 - 2s - loss: 0.5574 - accuracy: 0.7230 - val_loss: 0.5524 - val_accuracy: 0.7262\n",
            "Epoch 10/100\n",
            "1242/1242 - 2s - loss: 0.5579 - accuracy: 0.7241 - val_loss: 0.6103 - val_accuracy: 0.6536\n",
            "Epoch 11/100\n",
            "1242/1242 - 2s - loss: 0.5568 - accuracy: 0.7254 - val_loss: 0.5475 - val_accuracy: 0.7330\n",
            "Epoch 12/100\n",
            "1242/1242 - 2s - loss: 0.5571 - accuracy: 0.7237 - val_loss: 0.5450 - val_accuracy: 0.7307\n",
            "Epoch 13/100\n",
            "1242/1242 - 2s - loss: 0.5570 - accuracy: 0.7260 - val_loss: 0.5809 - val_accuracy: 0.7011\n",
            "Epoch 14/100\n",
            "1242/1242 - 2s - loss: 0.5563 - accuracy: 0.7261 - val_loss: 0.5472 - val_accuracy: 0.7310\n",
            "Epoch 15/100\n",
            "1242/1242 - 2s - loss: 0.5568 - accuracy: 0.7254 - val_loss: 0.5482 - val_accuracy: 0.7293\n",
            "Epoch 16/100\n",
            "1242/1242 - 2s - loss: 0.5564 - accuracy: 0.7261 - val_loss: 0.5512 - val_accuracy: 0.7290\n",
            "Epoch 17/100\n",
            "1242/1242 - 2s - loss: 0.5564 - accuracy: 0.7268 - val_loss: 0.5435 - val_accuracy: 0.7309\n",
            "Epoch 18/100\n",
            "1242/1242 - 2s - loss: 0.5567 - accuracy: 0.7236 - val_loss: 0.5432 - val_accuracy: 0.7342\n",
            "Epoch 19/100\n",
            "1242/1242 - 2s - loss: 0.5559 - accuracy: 0.7264 - val_loss: 0.5562 - val_accuracy: 0.7250\n",
            "Epoch 20/100\n",
            "1242/1242 - 2s - loss: 0.5567 - accuracy: 0.7250 - val_loss: 0.5485 - val_accuracy: 0.7307\n",
            "Epoch 21/100\n",
            "1242/1242 - 2s - loss: 0.5558 - accuracy: 0.7256 - val_loss: 0.5476 - val_accuracy: 0.7339\n",
            "Epoch 22/100\n",
            "1242/1242 - 2s - loss: 0.5550 - accuracy: 0.7261 - val_loss: 0.5689 - val_accuracy: 0.7219\n",
            "Epoch 23/100\n",
            "1242/1242 - 2s - loss: 0.5557 - accuracy: 0.7251 - val_loss: 0.6560 - val_accuracy: 0.6636\n",
            "Epoch 24/100\n",
            "1242/1242 - 2s - loss: 0.5561 - accuracy: 0.7247 - val_loss: 0.5624 - val_accuracy: 0.7223\n",
            "Epoch 25/100\n",
            "1242/1242 - 2s - loss: 0.5563 - accuracy: 0.7267 - val_loss: 0.5478 - val_accuracy: 0.7303\n",
            "Epoch 26/100\n",
            "1242/1242 - 2s - loss: 0.5561 - accuracy: 0.7258 - val_loss: 0.5544 - val_accuracy: 0.7283\n",
            "Epoch 27/100\n",
            "1242/1242 - 2s - loss: 0.5560 - accuracy: 0.7256 - val_loss: 0.5449 - val_accuracy: 0.7316\n",
            "Epoch 28/100\n",
            "1242/1242 - 2s - loss: 0.5548 - accuracy: 0.7259 - val_loss: 0.5449 - val_accuracy: 0.7335\n",
            "Epoch 29/100\n",
            "1242/1242 - 2s - loss: 0.5551 - accuracy: 0.7240 - val_loss: 0.5480 - val_accuracy: 0.7320\n",
            "Epoch 30/100\n",
            "1242/1242 - 2s - loss: 0.5561 - accuracy: 0.7262 - val_loss: 0.5488 - val_accuracy: 0.7317\n",
            "Epoch 31/100\n",
            "1242/1242 - 2s - loss: 0.5560 - accuracy: 0.7260 - val_loss: 0.5540 - val_accuracy: 0.7266\n",
            "Epoch 32/100\n",
            "1242/1242 - 2s - loss: 0.5555 - accuracy: 0.7251 - val_loss: 0.5511 - val_accuracy: 0.7315\n",
            "Epoch 33/100\n",
            "1242/1242 - 2s - loss: 0.5559 - accuracy: 0.7234 - val_loss: 0.5517 - val_accuracy: 0.7296\n",
            "Epoch 34/100\n",
            "1242/1242 - 2s - loss: 0.5553 - accuracy: 0.7269 - val_loss: 0.5460 - val_accuracy: 0.7337\n",
            "Epoch 35/100\n",
            "1242/1242 - 2s - loss: 0.5556 - accuracy: 0.7265 - val_loss: 0.5449 - val_accuracy: 0.7353\n",
            "Epoch 36/100\n",
            "1242/1242 - 2s - loss: 0.5545 - accuracy: 0.7267 - val_loss: 0.5517 - val_accuracy: 0.7256\n",
            "Epoch 37/100\n",
            "1242/1242 - 2s - loss: 0.5547 - accuracy: 0.7287 - val_loss: 0.5508 - val_accuracy: 0.7250\n",
            "Epoch 38/100\n",
            "1242/1242 - 2s - loss: 0.5541 - accuracy: 0.7269 - val_loss: 0.5463 - val_accuracy: 0.7296\n",
            "Epoch 39/100\n",
            "1242/1242 - 2s - loss: 0.5546 - accuracy: 0.7272 - val_loss: 0.5431 - val_accuracy: 0.7366\n",
            "Epoch 40/100\n",
            "1242/1242 - 2s - loss: 0.5551 - accuracy: 0.7255 - val_loss: 0.5507 - val_accuracy: 0.7266\n",
            "Epoch 41/100\n",
            "1242/1242 - 2s - loss: 0.5543 - accuracy: 0.7256 - val_loss: 0.5490 - val_accuracy: 0.7278\n",
            "Epoch 42/100\n",
            "1242/1242 - 2s - loss: 0.5549 - accuracy: 0.7247 - val_loss: 0.5464 - val_accuracy: 0.7295\n",
            "Epoch 43/100\n",
            "1242/1242 - 2s - loss: 0.5546 - accuracy: 0.7254 - val_loss: 0.5436 - val_accuracy: 0.7339\n",
            "Epoch 44/100\n",
            "1242/1242 - 2s - loss: 0.5545 - accuracy: 0.7261 - val_loss: 0.5490 - val_accuracy: 0.7290\n",
            "Epoch 45/100\n",
            "1242/1242 - 2s - loss: 0.5539 - accuracy: 0.7269 - val_loss: 0.5518 - val_accuracy: 0.7273\n",
            "Epoch 46/100\n",
            "1242/1242 - 2s - loss: 0.5537 - accuracy: 0.7273 - val_loss: 0.5440 - val_accuracy: 0.7350\n",
            "Epoch 47/100\n",
            "1242/1242 - 2s - loss: 0.5553 - accuracy: 0.7273 - val_loss: 0.5447 - val_accuracy: 0.7332\n",
            "Epoch 48/100\n",
            "1242/1242 - 2s - loss: 0.5558 - accuracy: 0.7260 - val_loss: 0.5513 - val_accuracy: 0.7309\n",
            "Epoch 49/100\n",
            "1242/1242 - 2s - loss: 0.5542 - accuracy: 0.7281 - val_loss: 0.5437 - val_accuracy: 0.7347\n",
            "Epoch 50/100\n",
            "1242/1242 - 2s - loss: 0.5541 - accuracy: 0.7274 - val_loss: 0.5469 - val_accuracy: 0.7342\n",
            "Epoch 51/100\n",
            "1242/1242 - 2s - loss: 0.5548 - accuracy: 0.7251 - val_loss: 0.5469 - val_accuracy: 0.7307\n",
            "Epoch 52/100\n",
            "1242/1242 - 2s - loss: 0.5552 - accuracy: 0.7271 - val_loss: 0.5517 - val_accuracy: 0.7276\n",
            "Epoch 53/100\n",
            "1242/1242 - 2s - loss: 0.5548 - accuracy: 0.7265 - val_loss: 0.5448 - val_accuracy: 0.7342\n",
            "Epoch 54/100\n",
            "1242/1242 - 2s - loss: 0.5540 - accuracy: 0.7258 - val_loss: 0.5521 - val_accuracy: 0.7278\n",
            "Epoch 55/100\n",
            "1242/1242 - 2s - loss: 0.5548 - accuracy: 0.7269 - val_loss: 0.5497 - val_accuracy: 0.7323\n",
            "Epoch 56/100\n",
            "1242/1242 - 2s - loss: 0.5547 - accuracy: 0.7244 - val_loss: 0.5476 - val_accuracy: 0.7310\n",
            "Epoch 57/100\n",
            "1242/1242 - 2s - loss: 0.5544 - accuracy: 0.7265 - val_loss: 0.5439 - val_accuracy: 0.7333\n",
            "Epoch 58/100\n",
            "1242/1242 - 2s - loss: 0.5544 - accuracy: 0.7277 - val_loss: 0.5505 - val_accuracy: 0.7302\n",
            "Epoch 59/100\n",
            "1242/1242 - 2s - loss: 0.5541 - accuracy: 0.7294 - val_loss: 0.5487 - val_accuracy: 0.7296\n",
            "Epoch 60/100\n",
            "1242/1242 - 2s - loss: 0.5544 - accuracy: 0.7269 - val_loss: 0.5538 - val_accuracy: 0.7263\n",
            "Epoch 61/100\n",
            "1242/1242 - 2s - loss: 0.5536 - accuracy: 0.7286 - val_loss: 0.5466 - val_accuracy: 0.7316\n",
            "Epoch 62/100\n",
            "1242/1242 - 2s - loss: 0.5540 - accuracy: 0.7278 - val_loss: 0.5437 - val_accuracy: 0.7347\n",
            "Epoch 63/100\n",
            "1242/1242 - 2s - loss: 0.5540 - accuracy: 0.7266 - val_loss: 0.5761 - val_accuracy: 0.7101\n",
            "Epoch 64/100\n",
            "1242/1242 - 2s - loss: 0.5546 - accuracy: 0.7263 - val_loss: 0.5759 - val_accuracy: 0.7145\n",
            "Epoch 65/100\n",
            "1242/1242 - 2s - loss: 0.5539 - accuracy: 0.7259 - val_loss: 0.5458 - val_accuracy: 0.7336\n",
            "Epoch 66/100\n",
            "1242/1242 - 2s - loss: 0.5535 - accuracy: 0.7286 - val_loss: 0.5430 - val_accuracy: 0.7335\n",
            "Epoch 67/100\n",
            "1242/1242 - 2s - loss: 0.5539 - accuracy: 0.7279 - val_loss: 0.5465 - val_accuracy: 0.7320\n",
            "Epoch 68/100\n",
            "1242/1242 - 2s - loss: 0.5542 - accuracy: 0.7265 - val_loss: 0.5459 - val_accuracy: 0.7292\n",
            "Epoch 69/100\n",
            "1242/1242 - 2s - loss: 0.5536 - accuracy: 0.7262 - val_loss: 0.5428 - val_accuracy: 0.7357\n",
            "Epoch 70/100\n",
            "1242/1242 - 2s - loss: 0.5536 - accuracy: 0.7287 - val_loss: 0.5445 - val_accuracy: 0.7326\n",
            "Epoch 71/100\n",
            "1242/1242 - 2s - loss: 0.5537 - accuracy: 0.7281 - val_loss: 0.5521 - val_accuracy: 0.7312\n",
            "Epoch 72/100\n",
            "1242/1242 - 2s - loss: 0.5546 - accuracy: 0.7270 - val_loss: 0.5457 - val_accuracy: 0.7346\n",
            "Epoch 73/100\n",
            "1242/1242 - 2s - loss: 0.5537 - accuracy: 0.7257 - val_loss: 0.5608 - val_accuracy: 0.7225\n",
            "Epoch 74/100\n",
            "1242/1242 - 2s - loss: 0.5551 - accuracy: 0.7278 - val_loss: 0.5442 - val_accuracy: 0.7327\n",
            "Epoch 75/100\n",
            "1242/1242 - 2s - loss: 0.5537 - accuracy: 0.7277 - val_loss: 0.5462 - val_accuracy: 0.7323\n",
            "Epoch 76/100\n",
            "1242/1242 - 2s - loss: 0.5539 - accuracy: 0.7254 - val_loss: 0.5466 - val_accuracy: 0.7315\n",
            "Epoch 77/100\n",
            "1242/1242 - 2s - loss: 0.5530 - accuracy: 0.7267 - val_loss: 0.5515 - val_accuracy: 0.7305\n",
            "Epoch 78/100\n",
            "1242/1242 - 2s - loss: 0.5540 - accuracy: 0.7267 - val_loss: 0.5425 - val_accuracy: 0.7332\n",
            "Epoch 79/100\n",
            "1242/1242 - 2s - loss: 0.5537 - accuracy: 0.7265 - val_loss: 0.5560 - val_accuracy: 0.7275\n",
            "Epoch 80/100\n",
            "1242/1242 - 2s - loss: 0.5540 - accuracy: 0.7279 - val_loss: 0.5425 - val_accuracy: 0.7347\n",
            "Epoch 81/100\n",
            "1242/1242 - 2s - loss: 0.5534 - accuracy: 0.7275 - val_loss: 0.5498 - val_accuracy: 0.7285\n",
            "Epoch 82/100\n",
            "1242/1242 - 2s - loss: 0.5535 - accuracy: 0.7262 - val_loss: 0.5448 - val_accuracy: 0.7350\n",
            "Epoch 83/100\n",
            "1242/1242 - 2s - loss: 0.5542 - accuracy: 0.7259 - val_loss: 0.5557 - val_accuracy: 0.7249\n",
            "Epoch 84/100\n",
            "1242/1242 - 2s - loss: 0.5534 - accuracy: 0.7271 - val_loss: 0.5531 - val_accuracy: 0.7269\n",
            "Epoch 85/100\n",
            "1242/1242 - 2s - loss: 0.5541 - accuracy: 0.7257 - val_loss: 0.5438 - val_accuracy: 0.7343\n",
            "Epoch 86/100\n",
            "1242/1242 - 2s - loss: 0.5526 - accuracy: 0.7278 - val_loss: 0.5487 - val_accuracy: 0.7306\n",
            "Epoch 87/100\n",
            "1242/1242 - 2s - loss: 0.5532 - accuracy: 0.7270 - val_loss: 0.5547 - val_accuracy: 0.7293\n",
            "Epoch 88/100\n",
            "1242/1242 - 2s - loss: 0.5537 - accuracy: 0.7267 - val_loss: 0.5461 - val_accuracy: 0.7332\n",
            "Epoch 89/100\n",
            "1242/1242 - 2s - loss: 0.5519 - accuracy: 0.7293 - val_loss: 0.5453 - val_accuracy: 0.7332\n",
            "Epoch 90/100\n",
            "1242/1242 - 2s - loss: 0.5536 - accuracy: 0.7269 - val_loss: 0.5494 - val_accuracy: 0.7246\n",
            "Epoch 91/100\n",
            "1242/1242 - 2s - loss: 0.5531 - accuracy: 0.7261 - val_loss: 0.5434 - val_accuracy: 0.7345\n",
            "Epoch 92/100\n",
            "1242/1242 - 2s - loss: 0.5539 - accuracy: 0.7280 - val_loss: 0.5474 - val_accuracy: 0.7312\n",
            "Epoch 93/100\n",
            "1242/1242 - 2s - loss: 0.5532 - accuracy: 0.7275 - val_loss: 0.5449 - val_accuracy: 0.7315\n",
            "Epoch 94/100\n",
            "1242/1242 - 2s - loss: 0.5534 - accuracy: 0.7269 - val_loss: 0.5434 - val_accuracy: 0.7329\n",
            "Epoch 95/100\n",
            "1242/1242 - 2s - loss: 0.5537 - accuracy: 0.7262 - val_loss: 0.5457 - val_accuracy: 0.7322\n",
            "Epoch 96/100\n",
            "1242/1242 - 2s - loss: 0.5533 - accuracy: 0.7252 - val_loss: 0.5451 - val_accuracy: 0.7319\n",
            "Epoch 97/100\n",
            "1242/1242 - 2s - loss: 0.5535 - accuracy: 0.7265 - val_loss: 0.5460 - val_accuracy: 0.7296\n",
            "Epoch 98/100\n",
            "1242/1242 - 2s - loss: 0.5542 - accuracy: 0.7263 - val_loss: 0.5473 - val_accuracy: 0.7357\n",
            "Epoch 99/100\n",
            "1242/1242 - 2s - loss: 0.5545 - accuracy: 0.7258 - val_loss: 0.5444 - val_accuracy: 0.7336\n",
            "Epoch 100/100\n",
            "1242/1242 - 2s - loss: 0.5529 - accuracy: 0.7279 - val_loss: 0.5437 - val_accuracy: 0.7359\n"
          ],
          "name": "stdout"
        },
        {
          "output_type": "execute_result",
          "data": {
            "text/plain": [
              "<tensorflow.python.keras.callbacks.History at 0x7f936e94abd0>"
            ]
          },
          "metadata": {
            "tags": []
          },
          "execution_count": 56
        }
      ]
    },
    {
      "cell_type": "code",
      "metadata": {
        "id": "Y60WnlrqSXOw",
        "colab": {
          "base_uri": "https://localhost:8080/"
        },
        "outputId": "4705377f-7ab6-4f3e-9d69-096816097ad2"
      },
      "source": [
        "results = nn.evaluate(X_test, y_test, batch_size=32)\n",
        "y_pred = nn.predict_classes(X_test)"
      ],
      "execution_count": null,
      "outputs": [
        {
          "output_type": "stream",
          "text": [
            "627/627 [==============================] - 1s 1ms/step - loss: 0.5417 - accuracy: 0.7335\n"
          ],
          "name": "stdout"
        }
      ]
    },
    {
      "cell_type": "code",
      "metadata": {
        "id": "PminjMOhSZlj",
        "colab": {
          "base_uri": "https://localhost:8080/"
        },
        "outputId": "f455898a-ae68-4814-b0ca-2cbcc42e89b1"
      },
      "source": [
        "accuracy = accuracy_score(y_test, y_pred)\n",
        "temp = classification_report(y_test, y_pred, output_dict= True)\n",
        "precision = temp['0']['precision']\n",
        "sensitivity = temp['1']['recall']\n",
        "specificity = temp['0']['recall']\n",
        "f1 = f1_score(y_test, y_pred)\n",
        "probas = clf.predict_proba(X_test)[:,1]\n",
        "fpr13 , tpr13, thresholds13 = roc_curve(y_test, probas)\n",
        "aucscore = auc(fpr13, tpr13)\n",
        "mcc = matthews_corrcoef(y_test, y_pred)\n",
        "\n",
        "print(\"Accuracy: \\t\", round(accuracy,6))\n",
        "print(\"Precision: \\t\", round(precision,6))\n",
        "print(\"Sensitivity: \\t\", round(sensitivity,6))\n",
        "print(\"Specificity: \\t\", round(specificity,6))\n",
        "print(\"F-Score: \\t\", round(f1,6))\n",
        "print(\"AUC: \\t\\t\", round(aucscore,6))\n",
        "print(\"MCC: \\t\\t\", round(mcc,6))"
      ],
      "execution_count": null,
      "outputs": [
        {
          "output_type": "stream",
          "text": [
            "Accuracy: \t 0.73354\n",
            "Precision: \t 0.702695\n",
            "Sensitivity: \t 0.67192\n",
            "Specificity: \t 0.796862\n",
            "F-Score: \t 0.718786\n",
            "AUC: \t\t 0.803935\n",
            "MCC: \t\t 0.472068\n"
          ],
          "name": "stdout"
        }
      ]
    },
    {
      "cell_type": "markdown",
      "metadata": {
        "id": "EKv1RNI4Shpp"
      },
      "source": [
        "## **PLOTTING ROC**"
      ]
    },
    {
      "cell_type": "code",
      "metadata": {
        "id": "G9_2FNL3SlEW",
        "colab": {
          "base_uri": "https://localhost:8080/",
          "height": 873
        },
        "outputId": "c3db44b5-08a2-40d7-ddac-5120210ec590"
      },
      "source": [
        "fig, ax = plt.subplots()\n",
        "plt.figure(figsize=(14,10))\n",
        "plt.plot([0,1],[0,1], 'k--')\n",
        "plt.plot(fpr1, tpr1, label= \"Logistic Regression\")\n",
        "plt.plot(fpr2, tpr2, label= \"K Neighbors\")\n",
        "plt.plot(fpr3, tpr3, label= \"GaussianNB\")\n",
        "plt.plot(fpr4, tpr4, label= \"Decision Tree\")\n",
        "plt.plot(fpr5, tpr5, label= \"DT Optimised\")\n",
        "plt.plot(fpr6, tpr6, label= \"Gradient Boosting\")\n",
        "plt.plot(fpr7,tpr7,label=\"Random Forest\")\n",
        "# plt.plot(fpr8,tpr8,label=\"SVC\")\n",
        "plt.plot(fpr9,tpr9,label=\"XGB\")\n",
        "plt.plot(fpr10,tpr10,label=\"LGBM\")\n",
        "plt.plot(fpr11,tpr11,label=\"CatBoost\")\n",
        "plt.plot(fpr15,tpr15,label=\"Deep Learning\")\n",
        "plt.legend()\n",
        "plt.xlabel(\"False Positive Rate (FPR)\")\n",
        "plt.ylabel(\"True Positive Rate (TPR)\")\n",
        "plt.title('Receiver Operating Characteristic Curve (ROC)')\n",
        "ax.set_xticks(np.linspace(0,1,100))\n",
        "plt.grid()\n",
        "plt.show()"
      ],
      "execution_count": null,
      "outputs": [
        {
          "output_type": "display_data",
          "data": {
            "image/png": "[encoded data removed]",
            "text/plain": [
              "<Figure size 432x288 with 1 Axes>"
            ]
          },
          "metadata": {
            "tags": [],
            "needs_background": "light"
          }
        },
        {
          "output_type": "display_data",
          "data": {
            "image/png": "[encoded data removed]",
            "text/plain": [
              "<Figure size 1008x720 with 1 Axes>"
            ]
          },
          "metadata": {
            "tags": [],
            "needs_background": "light"
          }
        }
      ]
    }
  ]
}